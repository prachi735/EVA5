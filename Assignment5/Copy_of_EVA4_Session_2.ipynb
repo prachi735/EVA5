{
  "nbformat": 4,
  "nbformat_minor": 0,
  "metadata": {
    "accelerator": "GPU",
    "colab": {
      "name": "Copy of EVA4 - Session 2.ipynb",
      "provenance": [],
      "collapsed_sections": [],
      "include_colab_link": true
    },
    "kernelspec": {
      "display_name": "Python 3",
      "name": "python3"
    }
  },
  "cells": [
    {
      "cell_type": "markdown",
      "metadata": {
        "id": "view-in-github",
        "colab_type": "text"
      },
      "source": [
        "<a href=\"https://colab.research.google.com/github/prachi735/EVA5/blob/main/Assignment5/Copy_of_EVA4_Session_2.ipynb\" target=\"_parent\"><img src=\"https://colab.research.google.com/assets/colab-badge.svg\" alt=\"Open In Colab\"/></a>"
      ]
    },
    {
      "cell_type": "code",
      "metadata": {
        "id": "0m2JWFliFfKT"
      },
      "source": [
        "from __future__ import print_function\n",
        "import torch\n",
        "import torch.nn as nn\n",
        "import torch.nn.functional as F\n",
        "import torch.optim as optim\n",
        "from torchvision import datasets, transforms"
      ],
      "execution_count": 1,
      "outputs": []
    },
    {
      "cell_type": "code",
      "metadata": {
        "id": "h_Cx9q2QFgM7"
      },
      "source": [
        "dropout_value = 0.5\n",
        "class Net(nn.Module):\n",
        "    def __init__(self):\n",
        "        super(Net, self).__init__()\n",
        "        \n",
        "        self.conv1 = nn.Conv2d(1, 16, 3) #input-28 Output-26  RF 1\n",
        "        self.bn1 = nn.BatchNorm2d(16)\n",
        "        self.do1 = nn.Dropout(0.5)\n",
        "\n",
        "        self.conv2 = nn.Conv2d(16, 16, 3) #input-26 Output-24 RF\n",
        "        self.bn2 = nn.BatchNorm2d(16)\n",
        "        self.do2 = nn.Dropout(0.1)\n",
        "\n",
        "        self.pool1 = nn.MaxPool2d(2, 2) #input-22 Output-11 RF\n",
        "\n",
        "        self.conv4 = nn.Conv2d(16, 32, 3) #input-11 Output-9 RF\n",
        "        self.bn4 = nn.BatchNorm2d(32)\n",
        "        self.do4 = nn.Dropout(0.1)\n",
        "\n",
        "        self.conv5 = nn.Conv2d(32, 32, 3) #input-9 Output-7 RF\n",
        "        self.bn5 = nn.BatchNorm2d(32)\n",
        "        self.do5 = nn.Dropout(0.1)\n",
        "        \n",
        "        self.conv6 = nn.Conv2d(32, 16, 1) #input-7 Output-5 RF\n",
        "        self.bn6 = nn.BatchNorm2d(16)\n",
        "        self.do6 = nn.Dropout(0.1)\n",
        "\n",
        "        self.conv7 = nn.Conv2d(16, 16, 3) #input-5 Output-3 RF\n",
        "        self.bn7 = nn.BatchNorm2d(16)\n",
        "        self.do7 = nn.Dropout(0.1)\n",
        "\n",
        "        self.conv8 = nn.Conv2d(16, 10, 3) #input-3 Output-1 RF\n",
        "        self.gvp = nn.AdaptiveAvgPool2d((1,1))\n",
        "\n",
        "    def forward(self, x):\n",
        "        x = F.relu(self.conv1(x))\n",
        "        x = self.bn1(x)\n",
        "        x = self.do1(x)\n",
        "\n",
        "        x = F.relu(self.conv2(x))\n",
        "        x = self.bn2(x)\n",
        "        x = self.do2(x)\n",
        "\n",
        "        x = self.pool1(x)\n",
        "\n",
        "        x = F.relu(self.conv4(x))\n",
        "        x = self.bn4(x)\n",
        "        x = self.do4(x)\n",
        "\n",
        "        x = F.relu(self.conv5(x))\n",
        "        x = self.bn5(x)\n",
        "        x = self.do5(x)\n",
        "\n",
        "        x = F.relu(self.conv6(x))\n",
        "        x = self.bn6(x)\n",
        "        x = self.do6(x)\n",
        "\n",
        "        x = F.relu(self.conv7(x))\n",
        "        x = self.bn7(x)\n",
        "        x = self.do7(x)\n",
        "\n",
        "        x = F.relu(self.conv8(x))\n",
        "        x = self.gvp(x)\n",
        "\n",
        "        x = x.view(-1, 10)\n",
        "        return F.log_softmax(x)"
      ],
      "execution_count": 9,
      "outputs": []
    },
    {
      "cell_type": "code",
      "metadata": {
        "colab": {
          "base_uri": "https://localhost:8080/"
        },
        "id": "xdydjYTZFyi3",
        "outputId": "b010a571-0975-4b2c-dad4-14a46da0897d"
      },
      "source": [
        "!pip install torchsummary\n",
        "from torchsummary import summary\n",
        "use_cuda = torch.cuda.is_available()\n",
        "device = torch.device(\"cuda\" if use_cuda else \"cpu\")\n",
        "model = Net().to(device)\n",
        "summary(model, input_size=(1, 28, 28))"
      ],
      "execution_count": 10,
      "outputs": [
        {
          "output_type": "stream",
          "text": [
            "Requirement already satisfied: torchsummary in /usr/local/lib/python3.6/dist-packages (1.5.1)\n",
            "----------------------------------------------------------------\n",
            "        Layer (type)               Output Shape         Param #\n",
            "================================================================\n",
            "            Conv2d-1           [-1, 16, 26, 26]             160\n",
            "       BatchNorm2d-2           [-1, 16, 26, 26]              32\n",
            "           Dropout-3           [-1, 16, 26, 26]               0\n",
            "            Conv2d-4           [-1, 16, 24, 24]           2,320\n",
            "       BatchNorm2d-5           [-1, 16, 24, 24]              32\n",
            "           Dropout-6           [-1, 16, 24, 24]               0\n",
            "         MaxPool2d-7           [-1, 16, 12, 12]               0\n",
            "            Conv2d-8           [-1, 32, 10, 10]           4,640\n",
            "       BatchNorm2d-9           [-1, 32, 10, 10]              64\n",
            "          Dropout-10           [-1, 32, 10, 10]               0\n",
            "           Conv2d-11             [-1, 32, 8, 8]           9,248\n",
            "      BatchNorm2d-12             [-1, 32, 8, 8]              64\n",
            "          Dropout-13             [-1, 32, 8, 8]               0\n",
            "           Conv2d-14             [-1, 16, 8, 8]             528\n",
            "      BatchNorm2d-15             [-1, 16, 8, 8]              32\n",
            "          Dropout-16             [-1, 16, 8, 8]               0\n",
            "           Conv2d-17             [-1, 16, 6, 6]           2,320\n",
            "      BatchNorm2d-18             [-1, 16, 6, 6]              32\n",
            "          Dropout-19             [-1, 16, 6, 6]               0\n",
            "           Conv2d-20             [-1, 10, 4, 4]           1,450\n",
            "AdaptiveAvgPool2d-21             [-1, 10, 1, 1]               0\n",
            "================================================================\n",
            "Total params: 20,922\n",
            "Trainable params: 20,922\n",
            "Non-trainable params: 0\n",
            "----------------------------------------------------------------\n",
            "Input size (MB): 0.00\n",
            "Forward/backward pass size (MB): 0.63\n",
            "Params size (MB): 0.08\n",
            "Estimated Total Size (MB): 0.72\n",
            "----------------------------------------------------------------\n"
          ],
          "name": "stdout"
        },
        {
          "output_type": "stream",
          "text": [
            "/usr/local/lib/python3.6/dist-packages/ipykernel_launcher.py:66: UserWarning: Implicit dimension choice for log_softmax has been deprecated. Change the call to include dim=X as an argument.\n"
          ],
          "name": "stderr"
        }
      ]
    },
    {
      "cell_type": "code",
      "metadata": {
        "id": "DqTWLaM5GHgH"
      },
      "source": [
        "\n",
        "\n",
        "torch.manual_seed(1)\n",
        "batch_size = 128\n",
        "\n",
        "kwargs = {'num_workers': 1, 'pin_memory': True} if use_cuda else {}\n",
        "train_loader = torch.utils.data.DataLoader(\n",
        "    datasets.MNIST('../data', train=True, download=True,\n",
        "                    transform=transforms.Compose([\n",
        "                        transforms.ToTensor(),\n",
        "                        transforms.Normalize((0.1307,), (0.3081,))\n",
        "                    ])),\n",
        "    batch_size=batch_size, shuffle=True, **kwargs)\n",
        "test_loader = torch.utils.data.DataLoader(\n",
        "    datasets.MNIST('../data', train=False, transform=transforms.Compose([\n",
        "                        transforms.ToTensor(),\n",
        "                        transforms.Normalize((0.1307,), (0.3081,))\n",
        "                    ])),\n",
        "    batch_size=batch_size, shuffle=True, **kwargs)\n"
      ],
      "execution_count": 11,
      "outputs": []
    },
    {
      "cell_type": "code",
      "metadata": {
        "id": "8fDefDhaFlwH"
      },
      "source": [
        "from tqdm import tqdm\n",
        "def train(model, device, train_loader, optimizer, epoch):\n",
        "    model.train()\n",
        "    pbar = tqdm(train_loader)\n",
        "    for batch_idx, (data, target) in enumerate(pbar):\n",
        "        data, target = data.to(device), target.to(device)\n",
        "        optimizer.zero_grad()\n",
        "        output = model(data)\n",
        "        loss = F.nll_loss(output, target)\n",
        "        loss.backward()\n",
        "        optimizer.step()\n",
        "        pbar.set_description(desc= f'epoch={epoch} loss={loss.item()} batch_id={batch_idx}')\n",
        "\n",
        "\n",
        "def test(model, device, test_loader):\n",
        "    model.eval()\n",
        "    test_loss = 0\n",
        "    correct = 0\n",
        "    with torch.no_grad():\n",
        "        for data, target in test_loader:\n",
        "            data, target = data.to(device), target.to(device)\n",
        "            output = model(data)\n",
        "            test_loss += F.nll_loss(output, target, reduction='sum').item()  # sum up batch loss\n",
        "            pred = output.argmax(dim=1, keepdim=True)  # get the index of the max log-probability\n",
        "            correct += pred.eq(target.view_as(pred)).sum().item()\n",
        "\n",
        "    test_loss /= len(test_loader.dataset)\n",
        "\n",
        "    print('\\nTest set: Average loss: {:.4f}, Accuracy: {}/{} ({:.1f}%)\\n'.format(\n",
        "        test_loss, correct, len(test_loader.dataset),\n",
        "        100. * correct / len(test_loader.dataset)))"
      ],
      "execution_count": 12,
      "outputs": []
    },
    {
      "cell_type": "code",
      "metadata": {
        "colab": {
          "base_uri": "https://localhost:8080/"
        },
        "id": "MMWbLWO6FuHb",
        "outputId": "dce4b078-7160-4e4e-f20f-da06fc1bc852"
      },
      "source": [
        "\n",
        "model = Net().to(device)\n",
        "optimizer = optim.SGD(model.parameters(), lr=0.01, momentum=0.9)\n",
        "\n",
        "for epoch in range(1, 15):\n",
        "    train(model, device, train_loader, optimizer, epoch)\n",
        "    test(model, device, test_loader)"
      ],
      "execution_count": 13,
      "outputs": [
        {
          "output_type": "stream",
          "text": [
            "  0%|          | 0/469 [00:00<?, ?it/s]/usr/local/lib/python3.6/dist-packages/ipykernel_launcher.py:66: UserWarning: Implicit dimension choice for log_softmax has been deprecated. Change the call to include dim=X as an argument.\n",
            "epoch=1 loss=0.05344685912132263 batch_id=468: 100%|██████████| 469/469 [00:15<00:00, 30.86it/s]\n",
            "  0%|          | 0/469 [00:00<?, ?it/s]"
          ],
          "name": "stderr"
        },
        {
          "output_type": "stream",
          "text": [
            "\n",
            "Test set: Average loss: 0.0940, Accuracy: 9711/10000 (97.1%)\n",
            "\n"
          ],
          "name": "stdout"
        },
        {
          "output_type": "stream",
          "text": [
            "epoch=2 loss=0.06311457604169846 batch_id=468: 100%|██████████| 469/469 [00:15<00:00, 31.16it/s]\n",
            "  0%|          | 0/469 [00:00<?, ?it/s]"
          ],
          "name": "stderr"
        },
        {
          "output_type": "stream",
          "text": [
            "\n",
            "Test set: Average loss: 0.0516, Accuracy: 9832/10000 (98.3%)\n",
            "\n"
          ],
          "name": "stdout"
        },
        {
          "output_type": "stream",
          "text": [
            "epoch=3 loss=0.012030944228172302 batch_id=468: 100%|██████████| 469/469 [00:15<00:00, 30.65it/s]\n",
            "  0%|          | 0/469 [00:00<?, ?it/s]"
          ],
          "name": "stderr"
        },
        {
          "output_type": "stream",
          "text": [
            "\n",
            "Test set: Average loss: 0.0484, Accuracy: 9842/10000 (98.4%)\n",
            "\n"
          ],
          "name": "stdout"
        },
        {
          "output_type": "stream",
          "text": [
            "epoch=4 loss=0.040408093482255936 batch_id=468: 100%|██████████| 469/469 [00:15<00:00, 31.18it/s]\n",
            "  0%|          | 0/469 [00:00<?, ?it/s]"
          ],
          "name": "stderr"
        },
        {
          "output_type": "stream",
          "text": [
            "\n",
            "Test set: Average loss: 0.0344, Accuracy: 9895/10000 (99.0%)\n",
            "\n"
          ],
          "name": "stdout"
        },
        {
          "output_type": "stream",
          "text": [
            "epoch=5 loss=0.03458903729915619 batch_id=468: 100%|██████████| 469/469 [00:15<00:00, 30.93it/s]\n",
            "  0%|          | 0/469 [00:00<?, ?it/s]"
          ],
          "name": "stderr"
        },
        {
          "output_type": "stream",
          "text": [
            "\n",
            "Test set: Average loss: 0.0341, Accuracy: 9898/10000 (99.0%)\n",
            "\n"
          ],
          "name": "stdout"
        },
        {
          "output_type": "stream",
          "text": [
            "epoch=6 loss=0.08803767710924149 batch_id=468: 100%|██████████| 469/469 [00:14<00:00, 31.63it/s]\n",
            "  0%|          | 0/469 [00:00<?, ?it/s]"
          ],
          "name": "stderr"
        },
        {
          "output_type": "stream",
          "text": [
            "\n",
            "Test set: Average loss: 0.0313, Accuracy: 9911/10000 (99.1%)\n",
            "\n"
          ],
          "name": "stdout"
        },
        {
          "output_type": "stream",
          "text": [
            "epoch=7 loss=0.04724137857556343 batch_id=468: 100%|██████████| 469/469 [00:15<00:00, 30.99it/s]\n",
            "  0%|          | 0/469 [00:00<?, ?it/s]"
          ],
          "name": "stderr"
        },
        {
          "output_type": "stream",
          "text": [
            "\n",
            "Test set: Average loss: 0.0300, Accuracy: 9901/10000 (99.0%)\n",
            "\n"
          ],
          "name": "stdout"
        },
        {
          "output_type": "stream",
          "text": [
            "epoch=8 loss=0.10156876593828201 batch_id=468: 100%|██████████| 469/469 [00:14<00:00, 31.42it/s]\n",
            "  0%|          | 0/469 [00:00<?, ?it/s]"
          ],
          "name": "stderr"
        },
        {
          "output_type": "stream",
          "text": [
            "\n",
            "Test set: Average loss: 0.0226, Accuracy: 9931/10000 (99.3%)\n",
            "\n"
          ],
          "name": "stdout"
        },
        {
          "output_type": "stream",
          "text": [
            "epoch=9 loss=0.054260220378637314 batch_id=468: 100%|██████████| 469/469 [00:14<00:00, 31.37it/s]\n",
            "  0%|          | 0/469 [00:00<?, ?it/s]"
          ],
          "name": "stderr"
        },
        {
          "output_type": "stream",
          "text": [
            "\n",
            "Test set: Average loss: 0.0222, Accuracy: 9933/10000 (99.3%)\n",
            "\n"
          ],
          "name": "stdout"
        },
        {
          "output_type": "stream",
          "text": [
            "epoch=10 loss=0.05670124664902687 batch_id=468: 100%|██████████| 469/469 [00:15<00:00, 30.94it/s]\n",
            "  0%|          | 0/469 [00:00<?, ?it/s]"
          ],
          "name": "stderr"
        },
        {
          "output_type": "stream",
          "text": [
            "\n",
            "Test set: Average loss: 0.0240, Accuracy: 9924/10000 (99.2%)\n",
            "\n"
          ],
          "name": "stdout"
        },
        {
          "output_type": "stream",
          "text": [
            "epoch=11 loss=0.05741226300597191 batch_id=468: 100%|██████████| 469/469 [00:15<00:00, 30.96it/s]\n",
            "  0%|          | 0/469 [00:00<?, ?it/s]"
          ],
          "name": "stderr"
        },
        {
          "output_type": "stream",
          "text": [
            "\n",
            "Test set: Average loss: 0.0237, Accuracy: 9924/10000 (99.2%)\n",
            "\n"
          ],
          "name": "stdout"
        },
        {
          "output_type": "stream",
          "text": [
            "epoch=12 loss=0.016262052580714226 batch_id=468: 100%|██████████| 469/469 [00:15<00:00, 31.23it/s]\n",
            "  0%|          | 0/469 [00:00<?, ?it/s]"
          ],
          "name": "stderr"
        },
        {
          "output_type": "stream",
          "text": [
            "\n",
            "Test set: Average loss: 0.0211, Accuracy: 9939/10000 (99.4%)\n",
            "\n"
          ],
          "name": "stdout"
        },
        {
          "output_type": "stream",
          "text": [
            "epoch=13 loss=0.05359324440360069 batch_id=468: 100%|██████████| 469/469 [00:14<00:00, 31.45it/s]\n",
            "  0%|          | 0/469 [00:00<?, ?it/s]"
          ],
          "name": "stderr"
        },
        {
          "output_type": "stream",
          "text": [
            "\n",
            "Test set: Average loss: 0.0217, Accuracy: 9936/10000 (99.4%)\n",
            "\n"
          ],
          "name": "stdout"
        },
        {
          "output_type": "stream",
          "text": [
            "epoch=14 loss=0.006815207656472921 batch_id=468: 100%|██████████| 469/469 [00:15<00:00, 31.26it/s]\n"
          ],
          "name": "stderr"
        },
        {
          "output_type": "stream",
          "text": [
            "\n",
            "Test set: Average loss: 0.0217, Accuracy: 9932/10000 (99.3%)\n",
            "\n"
          ],
          "name": "stdout"
        }
      ]
    },
    {
      "cell_type": "code",
      "metadata": {
        "id": "So5uk4EkHW6R"
      },
      "source": [
        ""
      ],
      "execution_count": 6,
      "outputs": []
    }
  ]
}