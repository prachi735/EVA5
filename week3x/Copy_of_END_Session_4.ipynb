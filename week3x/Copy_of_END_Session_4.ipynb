{
  "nbformat": 4,
  "nbformat_minor": 0,
  "metadata": {
    "colab": {
      "name": "Copy of END Session 4.ipynb",
      "provenance": [],
      "collapsed_sections": [],
      "include_colab_link": true
    },
    "kernelspec": {
      "name": "python3",
      "display_name": "Python 3"
    },
    "widgets": {
      "application/vnd.jupyter.widget-state+json": {
        "32c169fa0a0a4be18a4c2b5dd913f48c": {
          "model_module": "@jupyter-widgets/controls",
          "model_name": "HBoxModel",
          "state": {
            "_view_name": "HBoxView",
            "_dom_classes": [],
            "_model_name": "HBoxModel",
            "_view_module": "@jupyter-widgets/controls",
            "_model_module_version": "1.5.0",
            "_view_count": null,
            "_view_module_version": "1.5.0",
            "box_style": "",
            "layout": "IPY_MODEL_04f1deb81a8740a491c940ca41bf439a",
            "_model_module": "@jupyter-widgets/controls",
            "children": [
              "IPY_MODEL_092c10d3d1db40ca942eb01ca871a149",
              "IPY_MODEL_0295ee57c55c4e049f77909f3dcdab2a"
            ]
          }
        },
        "04f1deb81a8740a491c940ca41bf439a": {
          "model_module": "@jupyter-widgets/base",
          "model_name": "LayoutModel",
          "state": {
            "_view_name": "LayoutView",
            "grid_template_rows": null,
            "right": null,
            "justify_content": null,
            "_view_module": "@jupyter-widgets/base",
            "overflow": null,
            "_model_module_version": "1.2.0",
            "_view_count": null,
            "flex_flow": null,
            "width": null,
            "min_width": null,
            "border": null,
            "align_items": null,
            "bottom": null,
            "_model_module": "@jupyter-widgets/base",
            "top": null,
            "grid_column": null,
            "overflow_y": null,
            "overflow_x": null,
            "grid_auto_flow": null,
            "grid_area": null,
            "grid_template_columns": null,
            "flex": null,
            "_model_name": "LayoutModel",
            "justify_items": null,
            "grid_row": null,
            "max_height": null,
            "align_content": null,
            "visibility": null,
            "align_self": null,
            "height": null,
            "min_height": null,
            "padding": null,
            "grid_auto_rows": null,
            "grid_gap": null,
            "max_width": null,
            "order": null,
            "_view_module_version": "1.2.0",
            "grid_template_areas": null,
            "object_position": null,
            "object_fit": null,
            "grid_auto_columns": null,
            "margin": null,
            "display": null,
            "left": null
          }
        },
        "092c10d3d1db40ca942eb01ca871a149": {
          "model_module": "@jupyter-widgets/controls",
          "model_name": "FloatProgressModel",
          "state": {
            "_view_name": "ProgressView",
            "style": "IPY_MODEL_6a4dcefe9463400a9bde53d4c8b90d19",
            "_dom_classes": [],
            "description": "",
            "_model_name": "FloatProgressModel",
            "bar_style": "info",
            "max": 1,
            "_view_module": "@jupyter-widgets/controls",
            "_model_module_version": "1.5.0",
            "value": 1,
            "_view_count": null,
            "_view_module_version": "1.5.0",
            "orientation": "horizontal",
            "min": 0,
            "description_tooltip": null,
            "_model_module": "@jupyter-widgets/controls",
            "layout": "IPY_MODEL_e1ffb477c8da4d03960c97c96a35d065"
          }
        },
        "0295ee57c55c4e049f77909f3dcdab2a": {
          "model_module": "@jupyter-widgets/controls",
          "model_name": "HTMLModel",
          "state": {
            "_view_name": "HTMLView",
            "style": "IPY_MODEL_246fa3c4e7cc447ba9a1c761e46039e1",
            "_dom_classes": [],
            "description": "",
            "_model_name": "HTMLModel",
            "placeholder": "​",
            "_view_module": "@jupyter-widgets/controls",
            "_model_module_version": "1.5.0",
            "value": " 26427392/? [00:20&lt;00:00, 80507344.75it/s]",
            "_view_count": null,
            "_view_module_version": "1.5.0",
            "description_tooltip": null,
            "_model_module": "@jupyter-widgets/controls",
            "layout": "IPY_MODEL_8009f9ed4d8646059368645e34efe797"
          }
        },
        "6a4dcefe9463400a9bde53d4c8b90d19": {
          "model_module": "@jupyter-widgets/controls",
          "model_name": "ProgressStyleModel",
          "state": {
            "_view_name": "StyleView",
            "_model_name": "ProgressStyleModel",
            "description_width": "initial",
            "_view_module": "@jupyter-widgets/base",
            "_model_module_version": "1.5.0",
            "_view_count": null,
            "_view_module_version": "1.2.0",
            "bar_color": null,
            "_model_module": "@jupyter-widgets/controls"
          }
        },
        "e1ffb477c8da4d03960c97c96a35d065": {
          "model_module": "@jupyter-widgets/base",
          "model_name": "LayoutModel",
          "state": {
            "_view_name": "LayoutView",
            "grid_template_rows": null,
            "right": null,
            "justify_content": null,
            "_view_module": "@jupyter-widgets/base",
            "overflow": null,
            "_model_module_version": "1.2.0",
            "_view_count": null,
            "flex_flow": null,
            "width": null,
            "min_width": null,
            "border": null,
            "align_items": null,
            "bottom": null,
            "_model_module": "@jupyter-widgets/base",
            "top": null,
            "grid_column": null,
            "overflow_y": null,
            "overflow_x": null,
            "grid_auto_flow": null,
            "grid_area": null,
            "grid_template_columns": null,
            "flex": null,
            "_model_name": "LayoutModel",
            "justify_items": null,
            "grid_row": null,
            "max_height": null,
            "align_content": null,
            "visibility": null,
            "align_self": null,
            "height": null,
            "min_height": null,
            "padding": null,
            "grid_auto_rows": null,
            "grid_gap": null,
            "max_width": null,
            "order": null,
            "_view_module_version": "1.2.0",
            "grid_template_areas": null,
            "object_position": null,
            "object_fit": null,
            "grid_auto_columns": null,
            "margin": null,
            "display": null,
            "left": null
          }
        },
        "246fa3c4e7cc447ba9a1c761e46039e1": {
          "model_module": "@jupyter-widgets/controls",
          "model_name": "DescriptionStyleModel",
          "state": {
            "_view_name": "StyleView",
            "_model_name": "DescriptionStyleModel",
            "description_width": "",
            "_view_module": "@jupyter-widgets/base",
            "_model_module_version": "1.5.0",
            "_view_count": null,
            "_view_module_version": "1.2.0",
            "_model_module": "@jupyter-widgets/controls"
          }
        },
        "8009f9ed4d8646059368645e34efe797": {
          "model_module": "@jupyter-widgets/base",
          "model_name": "LayoutModel",
          "state": {
            "_view_name": "LayoutView",
            "grid_template_rows": null,
            "right": null,
            "justify_content": null,
            "_view_module": "@jupyter-widgets/base",
            "overflow": null,
            "_model_module_version": "1.2.0",
            "_view_count": null,
            "flex_flow": null,
            "width": null,
            "min_width": null,
            "border": null,
            "align_items": null,
            "bottom": null,
            "_model_module": "@jupyter-widgets/base",
            "top": null,
            "grid_column": null,
            "overflow_y": null,
            "overflow_x": null,
            "grid_auto_flow": null,
            "grid_area": null,
            "grid_template_columns": null,
            "flex": null,
            "_model_name": "LayoutModel",
            "justify_items": null,
            "grid_row": null,
            "max_height": null,
            "align_content": null,
            "visibility": null,
            "align_self": null,
            "height": null,
            "min_height": null,
            "padding": null,
            "grid_auto_rows": null,
            "grid_gap": null,
            "max_width": null,
            "order": null,
            "_view_module_version": "1.2.0",
            "grid_template_areas": null,
            "object_position": null,
            "object_fit": null,
            "grid_auto_columns": null,
            "margin": null,
            "display": null,
            "left": null
          }
        },
        "434acd7c0c634d6ab696b376537a3191": {
          "model_module": "@jupyter-widgets/controls",
          "model_name": "HBoxModel",
          "state": {
            "_view_name": "HBoxView",
            "_dom_classes": [],
            "_model_name": "HBoxModel",
            "_view_module": "@jupyter-widgets/controls",
            "_model_module_version": "1.5.0",
            "_view_count": null,
            "_view_module_version": "1.5.0",
            "box_style": "",
            "layout": "IPY_MODEL_5772a1f020a441c1b283649604308ca2",
            "_model_module": "@jupyter-widgets/controls",
            "children": [
              "IPY_MODEL_c281dcc5166642eebb00dff892575ad1",
              "IPY_MODEL_8e8dbf9716254681976faa2d0fbdde05"
            ]
          }
        },
        "5772a1f020a441c1b283649604308ca2": {
          "model_module": "@jupyter-widgets/base",
          "model_name": "LayoutModel",
          "state": {
            "_view_name": "LayoutView",
            "grid_template_rows": null,
            "right": null,
            "justify_content": null,
            "_view_module": "@jupyter-widgets/base",
            "overflow": null,
            "_model_module_version": "1.2.0",
            "_view_count": null,
            "flex_flow": null,
            "width": null,
            "min_width": null,
            "border": null,
            "align_items": null,
            "bottom": null,
            "_model_module": "@jupyter-widgets/base",
            "top": null,
            "grid_column": null,
            "overflow_y": null,
            "overflow_x": null,
            "grid_auto_flow": null,
            "grid_area": null,
            "grid_template_columns": null,
            "flex": null,
            "_model_name": "LayoutModel",
            "justify_items": null,
            "grid_row": null,
            "max_height": null,
            "align_content": null,
            "visibility": null,
            "align_self": null,
            "height": null,
            "min_height": null,
            "padding": null,
            "grid_auto_rows": null,
            "grid_gap": null,
            "max_width": null,
            "order": null,
            "_view_module_version": "1.2.0",
            "grid_template_areas": null,
            "object_position": null,
            "object_fit": null,
            "grid_auto_columns": null,
            "margin": null,
            "display": null,
            "left": null
          }
        },
        "c281dcc5166642eebb00dff892575ad1": {
          "model_module": "@jupyter-widgets/controls",
          "model_name": "FloatProgressModel",
          "state": {
            "_view_name": "ProgressView",
            "style": "IPY_MODEL_ba895fef3727437ea2c4821bf075d7a2",
            "_dom_classes": [],
            "description": "",
            "_model_name": "FloatProgressModel",
            "bar_style": "success",
            "max": 1,
            "_view_module": "@jupyter-widgets/controls",
            "_model_module_version": "1.5.0",
            "value": 1,
            "_view_count": null,
            "_view_module_version": "1.5.0",
            "orientation": "horizontal",
            "min": 0,
            "description_tooltip": null,
            "_model_module": "@jupyter-widgets/controls",
            "layout": "IPY_MODEL_83958b7cdc67419b9d04aab490381033"
          }
        },
        "8e8dbf9716254681976faa2d0fbdde05": {
          "model_module": "@jupyter-widgets/controls",
          "model_name": "HTMLModel",
          "state": {
            "_view_name": "HTMLView",
            "style": "IPY_MODEL_37abd154dcb242e9a46b0ba9374558ad",
            "_dom_classes": [],
            "description": "",
            "_model_name": "HTMLModel",
            "placeholder": "​",
            "_view_module": "@jupyter-widgets/controls",
            "_model_module_version": "1.5.0",
            "value": " 32768/? [00:00&lt;00:00, 93593.17it/s]",
            "_view_count": null,
            "_view_module_version": "1.5.0",
            "description_tooltip": null,
            "_model_module": "@jupyter-widgets/controls",
            "layout": "IPY_MODEL_65f4efd886a0457f8431a512e7ce10ea"
          }
        },
        "ba895fef3727437ea2c4821bf075d7a2": {
          "model_module": "@jupyter-widgets/controls",
          "model_name": "ProgressStyleModel",
          "state": {
            "_view_name": "StyleView",
            "_model_name": "ProgressStyleModel",
            "description_width": "initial",
            "_view_module": "@jupyter-widgets/base",
            "_model_module_version": "1.5.0",
            "_view_count": null,
            "_view_module_version": "1.2.0",
            "bar_color": null,
            "_model_module": "@jupyter-widgets/controls"
          }
        },
        "83958b7cdc67419b9d04aab490381033": {
          "model_module": "@jupyter-widgets/base",
          "model_name": "LayoutModel",
          "state": {
            "_view_name": "LayoutView",
            "grid_template_rows": null,
            "right": null,
            "justify_content": null,
            "_view_module": "@jupyter-widgets/base",
            "overflow": null,
            "_model_module_version": "1.2.0",
            "_view_count": null,
            "flex_flow": null,
            "width": null,
            "min_width": null,
            "border": null,
            "align_items": null,
            "bottom": null,
            "_model_module": "@jupyter-widgets/base",
            "top": null,
            "grid_column": null,
            "overflow_y": null,
            "overflow_x": null,
            "grid_auto_flow": null,
            "grid_area": null,
            "grid_template_columns": null,
            "flex": null,
            "_model_name": "LayoutModel",
            "justify_items": null,
            "grid_row": null,
            "max_height": null,
            "align_content": null,
            "visibility": null,
            "align_self": null,
            "height": null,
            "min_height": null,
            "padding": null,
            "grid_auto_rows": null,
            "grid_gap": null,
            "max_width": null,
            "order": null,
            "_view_module_version": "1.2.0",
            "grid_template_areas": null,
            "object_position": null,
            "object_fit": null,
            "grid_auto_columns": null,
            "margin": null,
            "display": null,
            "left": null
          }
        },
        "37abd154dcb242e9a46b0ba9374558ad": {
          "model_module": "@jupyter-widgets/controls",
          "model_name": "DescriptionStyleModel",
          "state": {
            "_view_name": "StyleView",
            "_model_name": "DescriptionStyleModel",
            "description_width": "",
            "_view_module": "@jupyter-widgets/base",
            "_model_module_version": "1.5.0",
            "_view_count": null,
            "_view_module_version": "1.2.0",
            "_model_module": "@jupyter-widgets/controls"
          }
        },
        "65f4efd886a0457f8431a512e7ce10ea": {
          "model_module": "@jupyter-widgets/base",
          "model_name": "LayoutModel",
          "state": {
            "_view_name": "LayoutView",
            "grid_template_rows": null,
            "right": null,
            "justify_content": null,
            "_view_module": "@jupyter-widgets/base",
            "overflow": null,
            "_model_module_version": "1.2.0",
            "_view_count": null,
            "flex_flow": null,
            "width": null,
            "min_width": null,
            "border": null,
            "align_items": null,
            "bottom": null,
            "_model_module": "@jupyter-widgets/base",
            "top": null,
            "grid_column": null,
            "overflow_y": null,
            "overflow_x": null,
            "grid_auto_flow": null,
            "grid_area": null,
            "grid_template_columns": null,
            "flex": null,
            "_model_name": "LayoutModel",
            "justify_items": null,
            "grid_row": null,
            "max_height": null,
            "align_content": null,
            "visibility": null,
            "align_self": null,
            "height": null,
            "min_height": null,
            "padding": null,
            "grid_auto_rows": null,
            "grid_gap": null,
            "max_width": null,
            "order": null,
            "_view_module_version": "1.2.0",
            "grid_template_areas": null,
            "object_position": null,
            "object_fit": null,
            "grid_auto_columns": null,
            "margin": null,
            "display": null,
            "left": null
          }
        },
        "2cf2613a912e46e390457553270bb8c1": {
          "model_module": "@jupyter-widgets/controls",
          "model_name": "HBoxModel",
          "state": {
            "_view_name": "HBoxView",
            "_dom_classes": [],
            "_model_name": "HBoxModel",
            "_view_module": "@jupyter-widgets/controls",
            "_model_module_version": "1.5.0",
            "_view_count": null,
            "_view_module_version": "1.5.0",
            "box_style": "",
            "layout": "IPY_MODEL_8778cf178c304bba92dd29b8efdcbbfc",
            "_model_module": "@jupyter-widgets/controls",
            "children": [
              "IPY_MODEL_f25c7a2ecca2453da4e41d44c642420e",
              "IPY_MODEL_738dcee610a44b0e86f5543addeea097"
            ]
          }
        },
        "8778cf178c304bba92dd29b8efdcbbfc": {
          "model_module": "@jupyter-widgets/base",
          "model_name": "LayoutModel",
          "state": {
            "_view_name": "LayoutView",
            "grid_template_rows": null,
            "right": null,
            "justify_content": null,
            "_view_module": "@jupyter-widgets/base",
            "overflow": null,
            "_model_module_version": "1.2.0",
            "_view_count": null,
            "flex_flow": null,
            "width": null,
            "min_width": null,
            "border": null,
            "align_items": null,
            "bottom": null,
            "_model_module": "@jupyter-widgets/base",
            "top": null,
            "grid_column": null,
            "overflow_y": null,
            "overflow_x": null,
            "grid_auto_flow": null,
            "grid_area": null,
            "grid_template_columns": null,
            "flex": null,
            "_model_name": "LayoutModel",
            "justify_items": null,
            "grid_row": null,
            "max_height": null,
            "align_content": null,
            "visibility": null,
            "align_self": null,
            "height": null,
            "min_height": null,
            "padding": null,
            "grid_auto_rows": null,
            "grid_gap": null,
            "max_width": null,
            "order": null,
            "_view_module_version": "1.2.0",
            "grid_template_areas": null,
            "object_position": null,
            "object_fit": null,
            "grid_auto_columns": null,
            "margin": null,
            "display": null,
            "left": null
          }
        },
        "f25c7a2ecca2453da4e41d44c642420e": {
          "model_module": "@jupyter-widgets/controls",
          "model_name": "FloatProgressModel",
          "state": {
            "_view_name": "ProgressView",
            "style": "IPY_MODEL_2f8f4398f9ef4943b63e686a28526053",
            "_dom_classes": [],
            "description": "",
            "_model_name": "FloatProgressModel",
            "bar_style": "success",
            "max": 1,
            "_view_module": "@jupyter-widgets/controls",
            "_model_module_version": "1.5.0",
            "value": 1,
            "_view_count": null,
            "_view_module_version": "1.5.0",
            "orientation": "horizontal",
            "min": 0,
            "description_tooltip": null,
            "_model_module": "@jupyter-widgets/controls",
            "layout": "IPY_MODEL_d85a9e396b154515966f029ef955bc01"
          }
        },
        "738dcee610a44b0e86f5543addeea097": {
          "model_module": "@jupyter-widgets/controls",
          "model_name": "HTMLModel",
          "state": {
            "_view_name": "HTMLView",
            "style": "IPY_MODEL_bc4c344ee64849e8b954de5fb3098840",
            "_dom_classes": [],
            "description": "",
            "_model_name": "HTMLModel",
            "placeholder": "​",
            "_view_module": "@jupyter-widgets/controls",
            "_model_module_version": "1.5.0",
            "value": " 4423680/? [00:00&lt;00:00, 16939933.84it/s]",
            "_view_count": null,
            "_view_module_version": "1.5.0",
            "description_tooltip": null,
            "_model_module": "@jupyter-widgets/controls",
            "layout": "IPY_MODEL_fe065c9a8b7541698249666cf34edb01"
          }
        },
        "2f8f4398f9ef4943b63e686a28526053": {
          "model_module": "@jupyter-widgets/controls",
          "model_name": "ProgressStyleModel",
          "state": {
            "_view_name": "StyleView",
            "_model_name": "ProgressStyleModel",
            "description_width": "initial",
            "_view_module": "@jupyter-widgets/base",
            "_model_module_version": "1.5.0",
            "_view_count": null,
            "_view_module_version": "1.2.0",
            "bar_color": null,
            "_model_module": "@jupyter-widgets/controls"
          }
        },
        "d85a9e396b154515966f029ef955bc01": {
          "model_module": "@jupyter-widgets/base",
          "model_name": "LayoutModel",
          "state": {
            "_view_name": "LayoutView",
            "grid_template_rows": null,
            "right": null,
            "justify_content": null,
            "_view_module": "@jupyter-widgets/base",
            "overflow": null,
            "_model_module_version": "1.2.0",
            "_view_count": null,
            "flex_flow": null,
            "width": null,
            "min_width": null,
            "border": null,
            "align_items": null,
            "bottom": null,
            "_model_module": "@jupyter-widgets/base",
            "top": null,
            "grid_column": null,
            "overflow_y": null,
            "overflow_x": null,
            "grid_auto_flow": null,
            "grid_area": null,
            "grid_template_columns": null,
            "flex": null,
            "_model_name": "LayoutModel",
            "justify_items": null,
            "grid_row": null,
            "max_height": null,
            "align_content": null,
            "visibility": null,
            "align_self": null,
            "height": null,
            "min_height": null,
            "padding": null,
            "grid_auto_rows": null,
            "grid_gap": null,
            "max_width": null,
            "order": null,
            "_view_module_version": "1.2.0",
            "grid_template_areas": null,
            "object_position": null,
            "object_fit": null,
            "grid_auto_columns": null,
            "margin": null,
            "display": null,
            "left": null
          }
        },
        "bc4c344ee64849e8b954de5fb3098840": {
          "model_module": "@jupyter-widgets/controls",
          "model_name": "DescriptionStyleModel",
          "state": {
            "_view_name": "StyleView",
            "_model_name": "DescriptionStyleModel",
            "description_width": "",
            "_view_module": "@jupyter-widgets/base",
            "_model_module_version": "1.5.0",
            "_view_count": null,
            "_view_module_version": "1.2.0",
            "_model_module": "@jupyter-widgets/controls"
          }
        },
        "fe065c9a8b7541698249666cf34edb01": {
          "model_module": "@jupyter-widgets/base",
          "model_name": "LayoutModel",
          "state": {
            "_view_name": "LayoutView",
            "grid_template_rows": null,
            "right": null,
            "justify_content": null,
            "_view_module": "@jupyter-widgets/base",
            "overflow": null,
            "_model_module_version": "1.2.0",
            "_view_count": null,
            "flex_flow": null,
            "width": null,
            "min_width": null,
            "border": null,
            "align_items": null,
            "bottom": null,
            "_model_module": "@jupyter-widgets/base",
            "top": null,
            "grid_column": null,
            "overflow_y": null,
            "overflow_x": null,
            "grid_auto_flow": null,
            "grid_area": null,
            "grid_template_columns": null,
            "flex": null,
            "_model_name": "LayoutModel",
            "justify_items": null,
            "grid_row": null,
            "max_height": null,
            "align_content": null,
            "visibility": null,
            "align_self": null,
            "height": null,
            "min_height": null,
            "padding": null,
            "grid_auto_rows": null,
            "grid_gap": null,
            "max_width": null,
            "order": null,
            "_view_module_version": "1.2.0",
            "grid_template_areas": null,
            "object_position": null,
            "object_fit": null,
            "grid_auto_columns": null,
            "margin": null,
            "display": null,
            "left": null
          }
        },
        "b1a2913fd8644ceeaaaa35b5e4ede105": {
          "model_module": "@jupyter-widgets/controls",
          "model_name": "HBoxModel",
          "state": {
            "_view_name": "HBoxView",
            "_dom_classes": [],
            "_model_name": "HBoxModel",
            "_view_module": "@jupyter-widgets/controls",
            "_model_module_version": "1.5.0",
            "_view_count": null,
            "_view_module_version": "1.5.0",
            "box_style": "",
            "layout": "IPY_MODEL_0cba8bf6107d4fb48a06cb82ad71eff5",
            "_model_module": "@jupyter-widgets/controls",
            "children": [
              "IPY_MODEL_42515a09e3914666af3c12dec2223b78",
              "IPY_MODEL_a41b7c7018774d32b7faa2f2a8f883ff"
            ]
          }
        },
        "0cba8bf6107d4fb48a06cb82ad71eff5": {
          "model_module": "@jupyter-widgets/base",
          "model_name": "LayoutModel",
          "state": {
            "_view_name": "LayoutView",
            "grid_template_rows": null,
            "right": null,
            "justify_content": null,
            "_view_module": "@jupyter-widgets/base",
            "overflow": null,
            "_model_module_version": "1.2.0",
            "_view_count": null,
            "flex_flow": null,
            "width": null,
            "min_width": null,
            "border": null,
            "align_items": null,
            "bottom": null,
            "_model_module": "@jupyter-widgets/base",
            "top": null,
            "grid_column": null,
            "overflow_y": null,
            "overflow_x": null,
            "grid_auto_flow": null,
            "grid_area": null,
            "grid_template_columns": null,
            "flex": null,
            "_model_name": "LayoutModel",
            "justify_items": null,
            "grid_row": null,
            "max_height": null,
            "align_content": null,
            "visibility": null,
            "align_self": null,
            "height": null,
            "min_height": null,
            "padding": null,
            "grid_auto_rows": null,
            "grid_gap": null,
            "max_width": null,
            "order": null,
            "_view_module_version": "1.2.0",
            "grid_template_areas": null,
            "object_position": null,
            "object_fit": null,
            "grid_auto_columns": null,
            "margin": null,
            "display": null,
            "left": null
          }
        },
        "42515a09e3914666af3c12dec2223b78": {
          "model_module": "@jupyter-widgets/controls",
          "model_name": "FloatProgressModel",
          "state": {
            "_view_name": "ProgressView",
            "style": "IPY_MODEL_0326b12efb3e4b07866d316d5636acf2",
            "_dom_classes": [],
            "description": "  0%",
            "_model_name": "FloatProgressModel",
            "bar_style": "info",
            "max": 1,
            "_view_module": "@jupyter-widgets/controls",
            "_model_module_version": "1.5.0",
            "value": 0,
            "_view_count": null,
            "_view_module_version": "1.5.0",
            "orientation": "horizontal",
            "min": 0,
            "description_tooltip": null,
            "_model_module": "@jupyter-widgets/controls",
            "layout": "IPY_MODEL_2c9e4b1c5bda40489c81a379c47c7ed8"
          }
        },
        "a41b7c7018774d32b7faa2f2a8f883ff": {
          "model_module": "@jupyter-widgets/controls",
          "model_name": "HTMLModel",
          "state": {
            "_view_name": "HTMLView",
            "style": "IPY_MODEL_b1671a3e826e4e959834c9d3b7f0add9",
            "_dom_classes": [],
            "description": "",
            "_model_name": "HTMLModel",
            "placeholder": "​",
            "_view_module": "@jupyter-widgets/controls",
            "_model_module_version": "1.5.0",
            "value": " 0/5148 [00:00&lt;?, ?it/s]",
            "_view_count": null,
            "_view_module_version": "1.5.0",
            "description_tooltip": null,
            "_model_module": "@jupyter-widgets/controls",
            "layout": "IPY_MODEL_ad00a65add1c4763a30266140c5f1774"
          }
        },
        "0326b12efb3e4b07866d316d5636acf2": {
          "model_module": "@jupyter-widgets/controls",
          "model_name": "ProgressStyleModel",
          "state": {
            "_view_name": "StyleView",
            "_model_name": "ProgressStyleModel",
            "description_width": "initial",
            "_view_module": "@jupyter-widgets/base",
            "_model_module_version": "1.5.0",
            "_view_count": null,
            "_view_module_version": "1.2.0",
            "bar_color": null,
            "_model_module": "@jupyter-widgets/controls"
          }
        },
        "2c9e4b1c5bda40489c81a379c47c7ed8": {
          "model_module": "@jupyter-widgets/base",
          "model_name": "LayoutModel",
          "state": {
            "_view_name": "LayoutView",
            "grid_template_rows": null,
            "right": null,
            "justify_content": null,
            "_view_module": "@jupyter-widgets/base",
            "overflow": null,
            "_model_module_version": "1.2.0",
            "_view_count": null,
            "flex_flow": null,
            "width": null,
            "min_width": null,
            "border": null,
            "align_items": null,
            "bottom": null,
            "_model_module": "@jupyter-widgets/base",
            "top": null,
            "grid_column": null,
            "overflow_y": null,
            "overflow_x": null,
            "grid_auto_flow": null,
            "grid_area": null,
            "grid_template_columns": null,
            "flex": null,
            "_model_name": "LayoutModel",
            "justify_items": null,
            "grid_row": null,
            "max_height": null,
            "align_content": null,
            "visibility": null,
            "align_self": null,
            "height": null,
            "min_height": null,
            "padding": null,
            "grid_auto_rows": null,
            "grid_gap": null,
            "max_width": null,
            "order": null,
            "_view_module_version": "1.2.0",
            "grid_template_areas": null,
            "object_position": null,
            "object_fit": null,
            "grid_auto_columns": null,
            "margin": null,
            "display": null,
            "left": null
          }
        },
        "b1671a3e826e4e959834c9d3b7f0add9": {
          "model_module": "@jupyter-widgets/controls",
          "model_name": "DescriptionStyleModel",
          "state": {
            "_view_name": "StyleView",
            "_model_name": "DescriptionStyleModel",
            "description_width": "",
            "_view_module": "@jupyter-widgets/base",
            "_model_module_version": "1.5.0",
            "_view_count": null,
            "_view_module_version": "1.2.0",
            "_model_module": "@jupyter-widgets/controls"
          }
        },
        "ad00a65add1c4763a30266140c5f1774": {
          "model_module": "@jupyter-widgets/base",
          "model_name": "LayoutModel",
          "state": {
            "_view_name": "LayoutView",
            "grid_template_rows": null,
            "right": null,
            "justify_content": null,
            "_view_module": "@jupyter-widgets/base",
            "overflow": null,
            "_model_module_version": "1.2.0",
            "_view_count": null,
            "flex_flow": null,
            "width": null,
            "min_width": null,
            "border": null,
            "align_items": null,
            "bottom": null,
            "_model_module": "@jupyter-widgets/base",
            "top": null,
            "grid_column": null,
            "overflow_y": null,
            "overflow_x": null,
            "grid_auto_flow": null,
            "grid_area": null,
            "grid_template_columns": null,
            "flex": null,
            "_model_name": "LayoutModel",
            "justify_items": null,
            "grid_row": null,
            "max_height": null,
            "align_content": null,
            "visibility": null,
            "align_self": null,
            "height": null,
            "min_height": null,
            "padding": null,
            "grid_auto_rows": null,
            "grid_gap": null,
            "max_width": null,
            "order": null,
            "_view_module_version": "1.2.0",
            "grid_template_areas": null,
            "object_position": null,
            "object_fit": null,
            "grid_auto_columns": null,
            "margin": null,
            "display": null,
            "left": null
          }
        },
        "e13442ca4ef848ce8244abcbed3e1fb7": {
          "model_module": "@jupyter-widgets/controls",
          "model_name": "HBoxModel",
          "state": {
            "_view_name": "HBoxView",
            "_dom_classes": [],
            "_model_name": "HBoxModel",
            "_view_module": "@jupyter-widgets/controls",
            "_model_module_version": "1.5.0",
            "_view_count": null,
            "_view_module_version": "1.5.0",
            "box_style": "",
            "layout": "IPY_MODEL_bec335699956434488ce40206b7cee09",
            "_model_module": "@jupyter-widgets/controls",
            "children": [
              "IPY_MODEL_f9f9385bfd0b4ab28a57e65c015d0cbe",
              "IPY_MODEL_4e2ecd7e1176440db709e20bb7a1ae49"
            ]
          }
        },
        "bec335699956434488ce40206b7cee09": {
          "model_module": "@jupyter-widgets/base",
          "model_name": "LayoutModel",
          "state": {
            "_view_name": "LayoutView",
            "grid_template_rows": null,
            "right": null,
            "justify_content": null,
            "_view_module": "@jupyter-widgets/base",
            "overflow": null,
            "_model_module_version": "1.2.0",
            "_view_count": null,
            "flex_flow": null,
            "width": null,
            "min_width": null,
            "border": null,
            "align_items": null,
            "bottom": null,
            "_model_module": "@jupyter-widgets/base",
            "top": null,
            "grid_column": null,
            "overflow_y": null,
            "overflow_x": null,
            "grid_auto_flow": null,
            "grid_area": null,
            "grid_template_columns": null,
            "flex": null,
            "_model_name": "LayoutModel",
            "justify_items": null,
            "grid_row": null,
            "max_height": null,
            "align_content": null,
            "visibility": null,
            "align_self": null,
            "height": null,
            "min_height": null,
            "padding": null,
            "grid_auto_rows": null,
            "grid_gap": null,
            "max_width": null,
            "order": null,
            "_view_module_version": "1.2.0",
            "grid_template_areas": null,
            "object_position": null,
            "object_fit": null,
            "grid_auto_columns": null,
            "margin": null,
            "display": null,
            "left": null
          }
        },
        "f9f9385bfd0b4ab28a57e65c015d0cbe": {
          "model_module": "@jupyter-widgets/controls",
          "model_name": "FloatProgressModel",
          "state": {
            "_view_name": "ProgressView",
            "style": "IPY_MODEL_8157673e414f48b9ac52473f51c73bb5",
            "_dom_classes": [],
            "description": "",
            "_model_name": "FloatProgressModel",
            "bar_style": "info",
            "max": 1,
            "_view_module": "@jupyter-widgets/controls",
            "_model_module_version": "1.5.0",
            "value": 1,
            "_view_count": null,
            "_view_module_version": "1.5.0",
            "orientation": "horizontal",
            "min": 0,
            "description_tooltip": null,
            "_model_module": "@jupyter-widgets/controls",
            "layout": "IPY_MODEL_274183f9e0c14123a667e27d9983a8b3"
          }
        },
        "4e2ecd7e1176440db709e20bb7a1ae49": {
          "model_module": "@jupyter-widgets/controls",
          "model_name": "HTMLModel",
          "state": {
            "_view_name": "HTMLView",
            "style": "IPY_MODEL_b76e08c02d2b4fcbac91c1578e4f0c3f",
            "_dom_classes": [],
            "description": "",
            "_model_name": "HTMLModel",
            "placeholder": "​",
            "_view_module": "@jupyter-widgets/controls",
            "_model_module_version": "1.5.0",
            "value": " 561758208/? [00:20&lt;00:00, 102525041.97it/s]",
            "_view_count": null,
            "_view_module_version": "1.5.0",
            "description_tooltip": null,
            "_model_module": "@jupyter-widgets/controls",
            "layout": "IPY_MODEL_e0d709adef294626ae8d15d0241ede29"
          }
        },
        "8157673e414f48b9ac52473f51c73bb5": {
          "model_module": "@jupyter-widgets/controls",
          "model_name": "ProgressStyleModel",
          "state": {
            "_view_name": "StyleView",
            "_model_name": "ProgressStyleModel",
            "description_width": "initial",
            "_view_module": "@jupyter-widgets/base",
            "_model_module_version": "1.5.0",
            "_view_count": null,
            "_view_module_version": "1.2.0",
            "bar_color": null,
            "_model_module": "@jupyter-widgets/controls"
          }
        },
        "274183f9e0c14123a667e27d9983a8b3": {
          "model_module": "@jupyter-widgets/base",
          "model_name": "LayoutModel",
          "state": {
            "_view_name": "LayoutView",
            "grid_template_rows": null,
            "right": null,
            "justify_content": null,
            "_view_module": "@jupyter-widgets/base",
            "overflow": null,
            "_model_module_version": "1.2.0",
            "_view_count": null,
            "flex_flow": null,
            "width": null,
            "min_width": null,
            "border": null,
            "align_items": null,
            "bottom": null,
            "_model_module": "@jupyter-widgets/base",
            "top": null,
            "grid_column": null,
            "overflow_y": null,
            "overflow_x": null,
            "grid_auto_flow": null,
            "grid_area": null,
            "grid_template_columns": null,
            "flex": null,
            "_model_name": "LayoutModel",
            "justify_items": null,
            "grid_row": null,
            "max_height": null,
            "align_content": null,
            "visibility": null,
            "align_self": null,
            "height": null,
            "min_height": null,
            "padding": null,
            "grid_auto_rows": null,
            "grid_gap": null,
            "max_width": null,
            "order": null,
            "_view_module_version": "1.2.0",
            "grid_template_areas": null,
            "object_position": null,
            "object_fit": null,
            "grid_auto_columns": null,
            "margin": null,
            "display": null,
            "left": null
          }
        },
        "b76e08c02d2b4fcbac91c1578e4f0c3f": {
          "model_module": "@jupyter-widgets/controls",
          "model_name": "DescriptionStyleModel",
          "state": {
            "_view_name": "StyleView",
            "_model_name": "DescriptionStyleModel",
            "description_width": "",
            "_view_module": "@jupyter-widgets/base",
            "_model_module_version": "1.5.0",
            "_view_count": null,
            "_view_module_version": "1.2.0",
            "_model_module": "@jupyter-widgets/controls"
          }
        },
        "e0d709adef294626ae8d15d0241ede29": {
          "model_module": "@jupyter-widgets/base",
          "model_name": "LayoutModel",
          "state": {
            "_view_name": "LayoutView",
            "grid_template_rows": null,
            "right": null,
            "justify_content": null,
            "_view_module": "@jupyter-widgets/base",
            "overflow": null,
            "_model_module_version": "1.2.0",
            "_view_count": null,
            "flex_flow": null,
            "width": null,
            "min_width": null,
            "border": null,
            "align_items": null,
            "bottom": null,
            "_model_module": "@jupyter-widgets/base",
            "top": null,
            "grid_column": null,
            "overflow_y": null,
            "overflow_x": null,
            "grid_auto_flow": null,
            "grid_area": null,
            "grid_template_columns": null,
            "flex": null,
            "_model_name": "LayoutModel",
            "justify_items": null,
            "grid_row": null,
            "max_height": null,
            "align_content": null,
            "visibility": null,
            "align_self": null,
            "height": null,
            "min_height": null,
            "padding": null,
            "grid_auto_rows": null,
            "grid_gap": null,
            "max_width": null,
            "order": null,
            "_view_module_version": "1.2.0",
            "grid_template_areas": null,
            "object_position": null,
            "object_fit": null,
            "grid_auto_columns": null,
            "margin": null,
            "display": null,
            "left": null
          }
        }
      }
    },
    "accelerator": "GPU"
  },
  "cells": [
    {
      "cell_type": "markdown",
      "metadata": {
        "id": "view-in-github",
        "colab_type": "text"
      },
      "source": [
        "<a href=\"https://colab.research.google.com/github/prachi735/EVA5/blob/main/week3x/Copy_of_END_Session_4.ipynb\" target=\"_parent\"><img src=\"https://colab.research.google.com/assets/colab-badge.svg\" alt=\"Open In Colab\"/></a>"
      ]
    },
    {
      "cell_type": "markdown",
      "metadata": {
        "id": "em9TTeedcWAc"
      },
      "source": [
        "![Pytorch](https://miro.medium.com/max/1024/1*KKADWARPMxHb-WMxCgW_xA.png)\n",
        "# Pytorch\n",
        "\n",
        "An open source machine learning framework that accelerates the path from research prototyping to production deployment.\n",
        "\n",
        "It is a deep learning framework and a scientific computing package.\n",
        "\n",
        "It has several components that you'd like to be aware of (from future perspective):\n",
        "* PyTorch is production ready. With **torchScript**, PyTorch provides ease-of-use and flexiblility in _eager_ mode, while seamlessly  transitioning to graph mode for speed, optimization, and functionality in C++ runtime environments.\n",
        "* **TorchServe** is an easy to use tool for deploying PyTorch models at scale. It is cloud and environment agnostic and supports features such as multi-model serving, logging, metrics and the creation of RESTful endpoints for application integration.\n",
        "* Optimized performance in both research and production by taking advantage of native support for asynchronous execution of collective operations and peer-to-peer communication that is accessible from Python and C++.\n",
        "* PyTorch supports an end-to-end workflow from Python to deployment on iOS and Android. It extends the PyTorch API to cover common preprocessing and integration tasks needed for incorporating ML in mobile applications.\n",
        "* An active community of researchers and developers have built a rich ecosystem of tools and libraries for extending PyTorch and supporting development in areas from computer vision to reinforcement learning.\n",
        "* Export models in the standard **ONNX** (Open Neural Network Exchange) format for direct access to ONNX-compatible platforms, runtimes, visualizers, and more.\n",
        "* The C++ frontend is a pure C++ interface to PyTorch that follows the design and architecture of the established Python frontend. It is intended to enable research in high performance, low latency and bare metal C++ applications.\n",
        "* PyTorch is well supported on major cloud platforms, providing frictionless development and easy scaling through prebuilt images, large scale training on GPUs, ability to run models in a production scale environment, and more.\n",
        "\n",
        "| **PyTorch**  | **TensorFlow**  | \n",
        "|---|---|\n",
        "| Dynamic Computation Graphs  | Had to integrate Keras to add Dynamic Graphs, else static graphs  |\n",
        "| Have explicit GPU and CPU controls  | 2.0 has made this slighyl easy compared to earlier  |\n",
        "| More Pythonic in nature  | Steep learning curve  |\n",
        "| Good Documentation | Best possible documentation |\n",
        "| External tool for visualization and logging | TensorBoard |\n",
        "| Lighter to work with | Large deployment dependencies |\n",
        "| _Debugging is difficult_ | _Better debugging capabilities_ |\n",
        "\n",
        "\n",
        "![comparison](https://lh5.googleusercontent.com/zzyvL0d5zSIvytHxpKnAR7ZT-kGCRH0gmi20spP6pZL1pc-pb5fAkJDL5-vNV9WZl-Gx2xE4-oIgBXta2etwdTWunx_69mf5f-X_WAA9S0UWTcYlGBMuEiFZW2EdK6fznokEHf10Vs-uVkcIew)\n",
        "\n",
        "Note: In the above graph anything over 50% means more mentions for PyTorch than TensorFlow for that conference.\n",
        "\n",
        "![confs](https://lh5.googleusercontent.com/04_hje2EqkzRzek_xOKwuwqySJLY7QjyEGaKg1L1VU2oIehDGDP2jvFNkMhILGjy1i2hz4akepffOdNNmAWAWmVjSq0mRRANR8dQTyial18BDxyj6lq54f7NVSGzOcW47yjgRSeAf6OUEVzTsw)\n"
      ]
    },
    {
      "cell_type": "markdown",
      "metadata": {
        "id": "9BURmn1dcb3E"
      },
      "source": [
        "## Scientific Computing\n",
        "\n",
        "The scientific computing aspect of PyTorch is primarily a result of PyTorch's tensor Library and associated tensor operations\n",
        "\n",
        "A tensor is an n-dimensional array. \n",
        "\n",
        "![tensor](https://res.cloudinary.com/practicaldev/image/fetch/s--VaxrSdrA--/c_limit%2Cf_auto%2Cfl_progressive%2Cq_auto%2Cw_880/https://thepracticaldev.s3.amazonaws.com/i/bp6ux6ppf5t5amwkxklq.jpg)\n",
        "\n",
        "\n",
        "### Numpy\n",
        "One of the most popular scientific computing package for working with Tensors is nunmpy. \n",
        "![numpy](https://res-3.cloudinary.com/crunchbase-production/image/upload/c_lpad,h_256,w_256,f_auto,q_auto:eco/gxgj1nsz0eq3rg13j7kk)\n",
        "\n",
        "Numpy is the go-to package for nD arrays. PyTorch's tensor library mirrors numpy nD array capabilities very closely and in addition is highly interoprable with numpy. In PyTorch GPU support for tensors is inbuilt, and it is vey easy to move arrays from numpy (CPU) to GPU. "
      ]
    },
    {
      "cell_type": "markdown",
      "metadata": {
        "id": "s_XRh5tpcgQi"
      },
      "source": [
        "![packages](https://lh5.googleusercontent.com/CQQ-OeIV6tQs-iVeHW7wX4CTyfz4m8N1SkZuaWDPWTKoSVtlhwOZaVOF3E_mrK1GVGNx55GJ34uVYbXtIiNuixcjt_kRdHizBZN6RtZj_84VCYapXcbgESAG-SLkEh4kuXbkSIzowrOLSZ1vLQ)\n",
        "![pack](https://manalelaidouni.github.io/assets/img/pexels/Pytorch-package-hierarchy.jpg)\n",
        "\n",
        "#### PyTorch Philosophy\n",
        "\n",
        "* Stay out of the way\n",
        "* Cater to the impatient\n",
        "* Promote linear code-flow\n",
        "* Full interop with the Python ecosystem\n",
        "* Be as fasst as anything else\n",
        "\n",
        "#### Debugging\n",
        "\n",
        "* PyTorch is Python Extension\n",
        "* You can use any Python Debugger\n",
        "* Even _print_ function works on PyTorch objects\n",
        "\n",
        "## Why it got so popular?\n",
        "\n",
        "To solve deep neural networks, we need to calculate derivates, and to do this computationally, deep learning frameworks use what are called **computational graphs**. \n",
        "![cgs](https://blog.paperspace.com/content/images/2019/03/full_graph.png)\n",
        "\n",
        "PyTorch introduced **Dynamic Computational Graphs**, a first in the industry. It means that the graph is generated on the fly as the operations occur in contrast to _static graphs_ that are fully determined before actual action occur. \n",
        "\n",
        "Experimentation, advanced models and quick tests need Dynamic Computation Graphs as a back-end feature. \n",
        "\n",
        "### PyTorch's Computational Graph\n",
        "\n",
        "![quick](https://www.miracleyoo.com/2019/12/11/Pytorch-Core-Code-Research/image-20191128215740348.png)"
      ]
    },
    {
      "cell_type": "markdown",
      "metadata": {
        "id": "-w_QD7eEckms"
      },
      "source": [
        "# Tensors\n",
        "\n",
        "We are interested in our data, but it is not stored at a location that is easy to work with (think of coordinate system that starts at 356, -1900, 300).\n",
        "\n",
        "![locatio](https://www.miracleyoo.com/2019/12/11/Pytorch-Core-Code-Research/image-20191128192741907.png)\n",
        "\n",
        "![tensors](https://www.miracleyoo.com/2019/12/11/Pytorch-Core-Code-Research/image-20191203093005864.png)\n",
        "\n"
      ]
    },
    {
      "cell_type": "markdown",
      "metadata": {
        "id": "FIiPg-qncmj0"
      },
      "source": [
        "![int](https://lh3.googleusercontent.com/proxy/GAbRkUb8yG33vVAJa5GdL1yR-HzBgTIlIF-C9dB5RW62IuTnbGWn9kMa93bM1X08JNFNGZ1lnkMnLHdGigdFZhDiOPvAJmf_-S2sPqLMATwt)"
      ]
    },
    {
      "cell_type": "markdown",
      "metadata": {
        "id": "U8wfYqRmcoVC"
      },
      "source": [
        "![strided](https://lh3.googleusercontent.com/proxy/gNYiV40-EM4FGtzkV-bcOkLW0IUNr7yh9cdlWTsZIf2FhxmHg13JCZ1416XG5tzpa3z54vqaqX13EBynI-kavVV9YeGLoU9ug9p5C8iIFKWi)"
      ]
    },
    {
      "cell_type": "markdown",
      "metadata": {
        "id": "lIc_bDWBcqNh"
      },
      "source": [
        "# Autograd\n",
        "![auto](https://lh3.googleusercontent.com/proxy/dk7UyJzsrYFgRP6fv8wrztdEBGde1mf6zs0vtKuGY7uhE9ASSL50oeDHDEY7YjwMR2X2V2N0Jf1gFWTlY7SbQuASxhd4vq5ylPsyuyfnWGDM)\n",
        "\n",
        "![whatitdoes](https://lh3.googleusercontent.com/proxy/r0LQgLuiYku8WlovS2xtJYiVRT-9YnMQ3zzHSzUODIPTPMFUfqniLu6YtPbHbJDO4L0jkoIYTcuWGFoPeWbkiID2OtPw8I9mx3g2-seMfOed)"
      ]
    },
    {
      "cell_type": "markdown",
      "metadata": {
        "id": "DXVn3Dpacr8N"
      },
      "source": [
        "# Let's do some coding now. \n",
        "\n",
        "### Pytorch's tensors are similar to Numpy's ndarrays"
      ]
    },
    {
      "cell_type": "code",
      "metadata": {
        "id": "i-5KKQ51cYxP",
        "colab": {
          "base_uri": "https://localhost:8080/"
        },
        "outputId": "be54a949-a290-4e82-e0b5-dea4ea6209df"
      },
      "source": [
        "# Pytorch's tensors are similar to Numpy's ndarrays\n",
        "!pip install torch\n"
      ],
      "execution_count": 1,
      "outputs": [
        {
          "output_type": "stream",
          "text": [
            "Requirement already satisfied: torch in /usr/local/lib/python3.6/dist-packages (1.7.0+cu101)\n",
            "Requirement already satisfied: future in /usr/local/lib/python3.6/dist-packages (from torch) (0.16.0)\n",
            "Requirement already satisfied: dataclasses in /usr/local/lib/python3.6/dist-packages (from torch) (0.8)\n",
            "Requirement already satisfied: typing-extensions in /usr/local/lib/python3.6/dist-packages (from torch) (3.7.4.3)\n",
            "Requirement already satisfied: numpy in /usr/local/lib/python3.6/dist-packages (from torch) (1.18.5)\n"
          ],
          "name": "stdout"
        }
      ]
    },
    {
      "cell_type": "code",
      "metadata": {
        "id": "5sS37l6wctdk",
        "colab": {
          "base_uri": "https://localhost:8080/"
        },
        "outputId": "8aca5e87-f397-4ebd-aad0-0451d2f9427e"
      },
      "source": [
        "import torch\n",
        "V0 = torch.tensor(1.3)\n",
        "V1 = torch.tensor([1., 2., 3.])\n",
        "V2 = torch.tensor([[1., 2.], [4., 5.]])\n",
        "print(f'{V0}, {V1}, {V2}')"
      ],
      "execution_count": 2,
      "outputs": [
        {
          "output_type": "stream",
          "text": [
            "1.2999999523162842, tensor([1., 2., 3.]), tensor([[1., 2.],\n",
            "        [4., 5.]])\n"
          ],
          "name": "stdout"
        }
      ]
    },
    {
      "cell_type": "code",
      "metadata": {
        "id": "PbOEdHJQc0ay",
        "colab": {
          "base_uri": "https://localhost:8080/"
        },
        "outputId": "8771ab3b-dd51-49ae-f2f1-aef27671584f"
      },
      "source": [
        "import numpy as np\n",
        "V0 = np.array(1.3)\n",
        "V1 = np.array([1., 2., 3.])\n",
        "V2 = np.array([[1., 2.], [4., 5.]])\n",
        "print(f'{V0}, {V1}, {V2}')"
      ],
      "execution_count": 3,
      "outputs": [
        {
          "output_type": "stream",
          "text": [
            "1.3, [1. 2. 3.], [[1. 2.]\n",
            " [4. 5.]]\n"
          ],
          "name": "stdout"
        }
      ]
    },
    {
      "cell_type": "markdown",
      "metadata": {
        "id": "QI2kHK1lc2Rk"
      },
      "source": [
        "### Creating a Tensor from Numpy array"
      ]
    },
    {
      "cell_type": "code",
      "metadata": {
        "id": "7ns6dIU4c1vo"
      },
      "source": [
        "numpy_array = np.array([1, 2, 3])"
      ],
      "execution_count": 4,
      "outputs": []
    },
    {
      "cell_type": "code",
      "metadata": {
        "id": "pVHJd40Pc4Je"
      },
      "source": [
        "t1 = torch.Tensor(numpy_array)     \n",
        "# Constructor - same as torch.FloatTensor\n",
        "# uses a default float32 tensor, can be changed\n",
        "# all other tensor inherits from this main tensor class\n",
        "# torch.tensor(data, dtype=None, device=None, requires_grad=False) → Tensor\n",
        "\n",
        "\n",
        "t2 = torch.tensor(numpy_array)     \n",
        "# Factory Function\n",
        "# produces a new tensor with same dtype\n",
        "# does not share underlying memory with numpy\n",
        "# always copies the data\n",
        "# torch.tensor(x) is equivalent to x.clone().detach()\n",
        "# recommended to use\n",
        "\n",
        "t3 = torch.as_tensor(numpy_array)  \n",
        "# Factory Function\n",
        "# produces a new tensor with same dtype\n",
        "# share underlying memory with numpy, changing one will change other\n",
        "# can accepts any array like Python data structure \n",
        "# always tried to avoid copies of the data (like using numpy's stored values directly)\n",
        "# HAVE TO MANUALLY ADD requires_grad_() function, or does not support requires_grad flag. \n",
        "# recommended to use\n",
        "\n",
        "t4 = torch.from_numpy(numpy_array) \n",
        "# Factory Function\n",
        "# produces a new tensor with same dtype\n",
        "# can accept only numpy arrays\n",
        "# share underlying memory with numpy, changing one will change other"
      ],
      "execution_count": 5,
      "outputs": []
    },
    {
      "cell_type": "code",
      "metadata": {
        "id": "2wPqpgb4c5Z4",
        "colab": {
          "base_uri": "https://localhost:8080/"
        },
        "outputId": "142c6974-c354-4ad1-e500-3ca810fbe79d"
      },
      "source": [
        "numpy_array.dtype, t1.dtype, t2.dtype, t3.dtype, t4.dtype"
      ],
      "execution_count": 6,
      "outputs": [
        {
          "output_type": "execute_result",
          "data": {
            "text/plain": [
              "(dtype('int64'), torch.float32, torch.int64, torch.int64, torch.int64)"
            ]
          },
          "metadata": {
            "tags": []
          },
          "execution_count": 6
        }
      ]
    },
    {
      "cell_type": "markdown",
      "metadata": {
        "id": "b4lRuDwQc74u"
      },
      "source": [
        "### Sharing memory for performance: copy vs share\n",
        "\n",
        "| Share Data |Copy Data |\n",
        "|----|----|\n",
        "|torch.as_tensor() | torch.tensor() |\n",
        "|torch.from_numpy() | torch.Tensor() |   \n",
        "  \n",
        "> **Zero Memory Copy** ⇋ Very Efficient\n",
        "\n",
        "### Something to keep in mind\n",
        "* Since numpy.array objects are allocated on CPU, the `as_tensor()` function must copy the data from the CPU to the GPU when a GPU is being used\n",
        "* The memory sharing of `as_tensor()` doesn't work with built-in Python data structure like list\n",
        "* The `as_tensor()` call requires developer knowledge of the sharing feature. This is necessary so we don't make an unwanted change in the underlying data without realising it\n",
        "* The `as_tensor()` performance improvement will be greater when there are a lot of back and forth operations between `numpy.array` objects and tensor objects. \n",
        "\n",
        "\n"
      ]
    },
    {
      "cell_type": "code",
      "metadata": {
        "id": "soR191tCc6vs",
        "colab": {
          "base_uri": "https://localhost:8080/"
        },
        "outputId": "e8d0b5ba-a483-487d-a71e-545817a846bb"
      },
      "source": [
        "numpy_array *= 4\n",
        "t1, t2, t3, t4"
      ],
      "execution_count": 7,
      "outputs": [
        {
          "output_type": "execute_result",
          "data": {
            "text/plain": [
              "(tensor([1., 2., 3.]),\n",
              " tensor([1, 2, 3]),\n",
              " tensor([ 4,  8, 12]),\n",
              " tensor([ 4,  8, 12]))"
            ]
          },
          "metadata": {
            "tags": []
          },
          "execution_count": 7
        }
      ]
    },
    {
      "cell_type": "code",
      "metadata": {
        "id": "byfuiO-Qc9vk",
        "colab": {
          "base_uri": "https://localhost:8080/"
        },
        "outputId": "2e080722-30ad-48ac-f25d-4688ce06a8aa"
      },
      "source": [
        "numpy_array = np.array([1, 2, 3])*4\n",
        "numpy_array"
      ],
      "execution_count": 8,
      "outputs": [
        {
          "output_type": "execute_result",
          "data": {
            "text/plain": [
              "array([ 4,  8, 12])"
            ]
          },
          "metadata": {
            "tags": []
          },
          "execution_count": 8
        }
      ]
    },
    {
      "cell_type": "code",
      "metadata": {
        "id": "cZpRuwS5c_-q",
        "colab": {
          "base_uri": "https://localhost:8080/"
        },
        "outputId": "1d751ed5-7329-4bfa-f184-7a39c7e5c80d"
      },
      "source": [
        "t1 *= 2\n",
        "t1, numpy_array"
      ],
      "execution_count": 9,
      "outputs": [
        {
          "output_type": "execute_result",
          "data": {
            "text/plain": [
              "(tensor([2., 4., 6.]), array([ 4,  8, 12]))"
            ]
          },
          "metadata": {
            "tags": []
          },
          "execution_count": 9
        }
      ]
    },
    {
      "cell_type": "code",
      "metadata": {
        "id": "aBGXR8cTdA-2",
        "colab": {
          "base_uri": "https://localhost:8080/"
        },
        "outputId": "99f7729a-acc5-40dc-83b3-f282cd652998"
      },
      "source": [
        "t2 *= 2\n",
        "t2, numpy_array"
      ],
      "execution_count": 10,
      "outputs": [
        {
          "output_type": "execute_result",
          "data": {
            "text/plain": [
              "(tensor([2, 4, 6]), array([ 4,  8, 12]))"
            ]
          },
          "metadata": {
            "tags": []
          },
          "execution_count": 10
        }
      ]
    },
    {
      "cell_type": "code",
      "metadata": {
        "id": "QxG6gbqadB6m",
        "colab": {
          "base_uri": "https://localhost:8080/"
        },
        "outputId": "0b405499-7a12-4592-d94a-2355d05b3caf"
      },
      "source": [
        "t3 *= 2\n",
        "t3, numpy_array"
      ],
      "execution_count": 11,
      "outputs": [
        {
          "output_type": "execute_result",
          "data": {
            "text/plain": [
              "(tensor([ 8, 16, 24]), array([ 4,  8, 12]))"
            ]
          },
          "metadata": {
            "tags": []
          },
          "execution_count": 11
        }
      ]
    },
    {
      "cell_type": "code",
      "metadata": {
        "id": "jwIx_DrjdCz7",
        "colab": {
          "base_uri": "https://localhost:8080/"
        },
        "outputId": "ce5a827d-93d6-4f5d-9d9d-5484ad49a917"
      },
      "source": [
        "t4"
      ],
      "execution_count": 12,
      "outputs": [
        {
          "output_type": "execute_result",
          "data": {
            "text/plain": [
              "tensor([ 8, 16, 24])"
            ]
          },
          "metadata": {
            "tags": []
          },
          "execution_count": 12
        }
      ]
    },
    {
      "cell_type": "code",
      "metadata": {
        "id": "0JDJCDchdDyX",
        "colab": {
          "base_uri": "https://localhost:8080/"
        },
        "outputId": "19399f62-5ec9-4191-c6f2-4bca8b096a58"
      },
      "source": [
        "t4 *= 2\n",
        "t1, t2, t3, t4, numpy_array"
      ],
      "execution_count": 13,
      "outputs": [
        {
          "output_type": "execute_result",
          "data": {
            "text/plain": [
              "(tensor([2., 4., 6.]),\n",
              " tensor([2, 4, 6]),\n",
              " tensor([16, 32, 48]),\n",
              " tensor([16, 32, 48]),\n",
              " array([ 4,  8, 12]))"
            ]
          },
          "metadata": {
            "tags": []
          },
          "execution_count": 13
        }
      ]
    },
    {
      "cell_type": "code",
      "metadata": {
        "id": "rYK49RF3dEk-",
        "colab": {
          "base_uri": "https://localhost:8080/"
        },
        "outputId": "604430de-c5c0-49e0-e657-1588567bbda1"
      },
      "source": [
        "t5 = t4.cuda()\n",
        "\n",
        "t5.device, t4.device"
      ],
      "execution_count": 14,
      "outputs": [
        {
          "output_type": "execute_result",
          "data": {
            "text/plain": [
              "(device(type='cuda', index=0), device(type='cpu'))"
            ]
          },
          "metadata": {
            "tags": []
          },
          "execution_count": 14
        }
      ]
    },
    {
      "cell_type": "code",
      "metadata": {
        "id": "iIjuN7qhdFo6",
        "colab": {
          "base_uri": "https://localhost:8080/"
        },
        "outputId": "c4a2ec25-8f55-434c-ea3a-3a9c733fa050"
      },
      "source": [
        "torch.eye(2), torch.zeros(2, 2), torch.ones(2, 2), torch.rand(2, 2)"
      ],
      "execution_count": 15,
      "outputs": [
        {
          "output_type": "execute_result",
          "data": {
            "text/plain": [
              "(tensor([[1., 0.],\n",
              "         [0., 1.]]), tensor([[0., 0.],\n",
              "         [0., 0.]]), tensor([[1., 1.],\n",
              "         [1., 1.]]), tensor([[0.2698, 0.7592],\n",
              "         [0.4832, 0.0732]]))"
            ]
          },
          "metadata": {
            "tags": []
          },
          "execution_count": 15
        }
      ]
    },
    {
      "cell_type": "markdown",
      "metadata": {
        "id": "e4J_Z4ZvdJm_"
      },
      "source": [
        "#### Tensor Indexing"
      ]
    },
    {
      "cell_type": "code",
      "metadata": {
        "id": "vIiv3pe8dIrE",
        "colab": {
          "base_uri": "https://localhost:8080/"
        },
        "outputId": "94c7686e-f2fa-4e5a-a19e-124d377a910b"
      },
      "source": [
        "# We can use normal indexing as in NumPy\n",
        "\n",
        "data = torch.tensor([[1, 2, 3], [4, 5, 6]])\n",
        "\n",
        "data[1, 0], data[0, : 2]"
      ],
      "execution_count": 16,
      "outputs": [
        {
          "output_type": "execute_result",
          "data": {
            "text/plain": [
              "(tensor(4), tensor([1, 2]))"
            ]
          },
          "metadata": {
            "tags": []
          },
          "execution_count": 16
        }
      ]
    },
    {
      "cell_type": "markdown",
      "metadata": {
        "id": "Gc8aP4bbdL1q"
      },
      "source": [
        "#### Torch.tensor attributes\n",
        "\n",
        "| Attribute | Data Type | Description | \n",
        "|----|----|----|\n",
        "|data|array_like | list, tuple, NumPy ndarray, scalar |\n",
        "|dtype| torch.dtype | The tensor's data type|\n",
        "|requires_grad | bool| Should autograd record operation |\n",
        "|device | torch.device | Allocated on CPU or CUDA (GPU) |"
      ]
    },
    {
      "cell_type": "code",
      "metadata": {
        "id": "Y24JNGn7dKw2"
      },
      "source": [
        "t = torch.tensor(data=[1, 2, 3], dtype=torch.float32, device='cpu', requires_grad = False)"
      ],
      "execution_count": 17,
      "outputs": []
    },
    {
      "cell_type": "code",
      "metadata": {
        "id": "juEz0HkwdNN-",
        "colab": {
          "base_uri": "https://localhost:8080/"
        },
        "outputId": "53a36252-1999-44e3-9102-b3d80622dfce"
      },
      "source": [
        "t"
      ],
      "execution_count": 18,
      "outputs": [
        {
          "output_type": "execute_result",
          "data": {
            "text/plain": [
              "tensor([1., 2., 3.])"
            ]
          },
          "metadata": {
            "tags": []
          },
          "execution_count": 18
        }
      ]
    },
    {
      "cell_type": "code",
      "metadata": {
        "id": "Ghgfc-ORdOCU"
      },
      "source": [
        "t = torch.as_tensor(data=[1, 2, 3], dtype=torch.float32, device='cpu', requires_grad = False)\n",
        "t"
      ],
      "execution_count": null,
      "outputs": []
    },
    {
      "cell_type": "code",
      "metadata": {
        "id": "GagQvEHBdPuq",
        "colab": {
          "base_uri": "https://localhost:8080/"
        },
        "outputId": "3b420aac-04ed-4df1-9de7-a8b24c75f627"
      },
      "source": [
        "t = torch.as_tensor(data=[1, 2, 3], dtype=torch.float32, device='cpu')\n",
        "t"
      ],
      "execution_count": 23,
      "outputs": [
        {
          "output_type": "execute_result",
          "data": {
            "text/plain": [
              "tensor([1., 2., 3.])"
            ]
          },
          "metadata": {
            "tags": []
          },
          "execution_count": 23
        }
      ]
    },
    {
      "cell_type": "code",
      "metadata": {
        "id": "8GtSzhy6dQrk",
        "colab": {
          "base_uri": "https://localhost:8080/"
        },
        "outputId": "21f9fc85-c721-49bc-dad0-fac5773cd375"
      },
      "source": [
        "t.requires_grad_()\n"
      ],
      "execution_count": 24,
      "outputs": [
        {
          "output_type": "execute_result",
          "data": {
            "text/plain": [
              "tensor([1., 2., 3.], requires_grad=True)"
            ]
          },
          "metadata": {
            "tags": []
          },
          "execution_count": 24
        }
      ]
    },
    {
      "cell_type": "markdown",
      "metadata": {
        "id": "GTuHW64odS38"
      },
      "source": [
        "## Autograd\n",
        "\n",
        "* Automatic differentiation for all operations on Tensors\n",
        "* The backward graph is automatically defined by the forward graph!\n"
      ]
    },
    {
      "cell_type": "code",
      "metadata": {
        "id": "lb7WzGRsdRqO"
      },
      "source": [
        "from torch.autograd import grad\n",
        "\n",
        "x1 = torch.tensor(2, requires_grad=True, dtype=torch.float16)\n",
        "x2 = torch.tensor(3, requires_grad=True, dtype=torch.float16)\n",
        "x3 = torch.tensor(1, requires_grad=True, dtype=torch.float16)\n",
        "x4 = torch.tensor(4, requires_grad=True, dtype=torch.float16)"
      ],
      "execution_count": 25,
      "outputs": []
    },
    {
      "cell_type": "code",
      "metadata": {
        "id": "cWUse_tSdUKG",
        "colab": {
          "base_uri": "https://localhost:8080/"
        },
        "outputId": "b4445890-aed3-4738-8c9f-f47f1ed093d8"
      },
      "source": [
        "z1 = x1*x2\n",
        "z2 =  x3*x4\n",
        "\n",
        "f = z1 + z2\n",
        "\n",
        "df_dx = grad(outputs=f, inputs=[x1, x2, x3, x4]) # what if you forget an element here? 🤐\n",
        "\n",
        "print(f'gradient of x1 = {df_dx[0]}')\n",
        "print(f'gradient of x2 = {df_dx[1]}')\n",
        "print(f'gradient of x3 = {df_dx[2]}')\n",
        "print(f'gradient of x4 = {df_dx[3]}')"
      ],
      "execution_count": 26,
      "outputs": [
        {
          "output_type": "stream",
          "text": [
            "gradient of x1 = 3.0\n",
            "gradient of x2 = 2.0\n",
            "gradient of x3 = 4.0\n",
            "gradient of x4 = 1.0\n"
          ],
          "name": "stdout"
        }
      ]
    },
    {
      "cell_type": "markdown",
      "metadata": {
        "id": "he0QMn4odWDG"
      },
      "source": [
        "### Simplified code"
      ]
    },
    {
      "cell_type": "code",
      "metadata": {
        "id": "crATZCeQdVBE",
        "colab": {
          "base_uri": "https://localhost:8080/"
        },
        "outputId": "81c9ba73-9918-4a27-c74e-dd3f1664c496"
      },
      "source": [
        "from torch.autograd import grad\n",
        "\n",
        "x1 = torch.tensor(2, requires_grad=True, dtype=torch.float16)\n",
        "x2 = torch.tensor(3, requires_grad=True, dtype=torch.float16)\n",
        "x3 = torch.tensor(1, requires_grad=True, dtype=torch.float16)\n",
        "x4 = torch.tensor(4, requires_grad=True, dtype=torch.float16)\n",
        "\n",
        "z1 = x1*x2\n",
        "z2 =  x3*x4\n",
        "\n",
        "f = z1 + z2\n",
        "f.backward()\n",
        "\n",
        "print(f'gradient of x1 = {df_dx[0]}')\n",
        "print(f'gradient of x2 = {df_dx[1]}')\n",
        "print(f'gradient of x3 = {df_dx[2]}')\n",
        "print(f'gradient of x4 = {df_dx[3]}')"
      ],
      "execution_count": 27,
      "outputs": [
        {
          "output_type": "stream",
          "text": [
            "gradient of x1 = 3.0\n",
            "gradient of x2 = 2.0\n",
            "gradient of x3 = 4.0\n",
            "gradient of x4 = 1.0\n"
          ],
          "name": "stdout"
        }
      ]
    },
    {
      "cell_type": "markdown",
      "metadata": {
        "id": "bWIXxuPGdYtL"
      },
      "source": [
        "### Tensor Operation Types\n",
        "\n",
        "1. Reshaping Operations\n",
        "2. Element-wise Operations\n",
        "3. Reduction Operations\n",
        "4. Access Operations\n",
        "\n"
      ]
    },
    {
      "cell_type": "code",
      "metadata": {
        "id": "24N9hk-9dXR-"
      },
      "source": [
        "t = torch.tensor([\n",
        "    [0, 0, 0, 0],\n",
        "    [1, 1, 1, 1],\n",
        "    [2, 2, 2, 2]\n",
        "], dtype=torch.float32)"
      ],
      "execution_count": 28,
      "outputs": []
    },
    {
      "cell_type": "code",
      "metadata": {
        "id": "xXjbwgrHdi4m",
        "colab": {
          "base_uri": "https://localhost:8080/"
        },
        "outputId": "a37eea5c-36bf-4635-a4c8-19e3d8a22d15"
      },
      "source": [
        "# we have two ways to access the shape of tensors\n",
        "t.shape, t.size()"
      ],
      "execution_count": 29,
      "outputs": [
        {
          "output_type": "execute_result",
          "data": {
            "text/plain": [
              "(torch.Size([3, 4]), torch.Size([3, 4]))"
            ]
          },
          "metadata": {
            "tags": []
          },
          "execution_count": 29
        }
      ]
    },
    {
      "cell_type": "code",
      "metadata": {
        "id": "SditjP7DeDxB",
        "colab": {
          "base_uri": "https://localhost:8080/"
        },
        "outputId": "8eb74345-8b6f-49ce-8ddd-17d5490aab77"
      },
      "source": [
        "# we can get the rank or dimensions of a matrix by\n",
        "len(t.shape)"
      ],
      "execution_count": 30,
      "outputs": [
        {
          "output_type": "execute_result",
          "data": {
            "text/plain": [
              "2"
            ]
          },
          "metadata": {
            "tags": []
          },
          "execution_count": 30
        }
      ]
    },
    {
      "cell_type": "code",
      "metadata": {
        "id": "yFYbo-8kebsg",
        "colab": {
          "base_uri": "https://localhost:8080/"
        },
        "outputId": "6625287b-cca3-438f-ab65-2e08e420e990"
      },
      "source": [
        "# we can also learn about the total elements in a tensor by\n",
        "torch.tensor(t.shape).prod()"
      ],
      "execution_count": 31,
      "outputs": [
        {
          "output_type": "execute_result",
          "data": {
            "text/plain": [
              "tensor(12)"
            ]
          },
          "metadata": {
            "tags": []
          },
          "execution_count": 31
        }
      ]
    },
    {
      "cell_type": "code",
      "metadata": {
        "id": "_ODcMfh3eitM",
        "colab": {
          "base_uri": "https://localhost:8080/"
        },
        "outputId": "90237ced-844c-41fd-82c9-64e6c9dac994"
      },
      "source": [
        "# or by using numel\n",
        "t.numel()"
      ],
      "execution_count": 32,
      "outputs": [
        {
          "output_type": "execute_result",
          "data": {
            "text/plain": [
              "12"
            ]
          },
          "metadata": {
            "tags": []
          },
          "execution_count": 32
        }
      ]
    },
    {
      "cell_type": "markdown",
      "metadata": {
        "id": "yfcZjMiteqP2"
      },
      "source": [
        "### Why knowing these is important? \n",
        "\n",
        "When we reshape a tensor, the reshaping operation must account for all of numel (or total number of elements). We if we have 12 elements, we can only build 1x12, 12x1, 6x2, 2x6, 3x4, 4x3 reshaped tensors"
      ]
    },
    {
      "cell_type": "code",
      "metadata": {
        "id": "-oPD9uDWemso",
        "colab": {
          "base_uri": "https://localhost:8080/"
        },
        "outputId": "98051496-9cdb-4908-8e86-7438dab2c0b7"
      },
      "source": [
        "t.reshape(1, 12)"
      ],
      "execution_count": 33,
      "outputs": [
        {
          "output_type": "execute_result",
          "data": {
            "text/plain": [
              "tensor([[0., 0., 0., 0., 1., 1., 1., 1., 2., 2., 2., 2.]])"
            ]
          },
          "metadata": {
            "tags": []
          },
          "execution_count": 33
        }
      ]
    },
    {
      "cell_type": "code",
      "metadata": {
        "id": "dbmBJVJufFDE",
        "colab": {
          "base_uri": "https://localhost:8080/"
        },
        "outputId": "8963ba66-1645-4e1a-d296-17e4f4f78438"
      },
      "source": [
        "t.reshape(2, 6)"
      ],
      "execution_count": 34,
      "outputs": [
        {
          "output_type": "execute_result",
          "data": {
            "text/plain": [
              "tensor([[0., 0., 0., 0., 1., 1.],\n",
              "        [1., 1., 2., 2., 2., 2.]])"
            ]
          },
          "metadata": {
            "tags": []
          },
          "execution_count": 34
        }
      ]
    },
    {
      "cell_type": "code",
      "metadata": {
        "id": "43Y-_YaPfIhw",
        "colab": {
          "base_uri": "https://localhost:8080/"
        },
        "outputId": "247ee09f-8dba-4908-88ad-8ec5e08fbec1"
      },
      "source": [
        "t.reshape(6, 2)"
      ],
      "execution_count": 35,
      "outputs": [
        {
          "output_type": "execute_result",
          "data": {
            "text/plain": [
              "tensor([[0., 0.],\n",
              "        [0., 0.],\n",
              "        [1., 1.],\n",
              "        [1., 1.],\n",
              "        [2., 2.],\n",
              "        [2., 2.]])"
            ]
          },
          "metadata": {
            "tags": []
          },
          "execution_count": 35
        }
      ]
    },
    {
      "cell_type": "code",
      "metadata": {
        "id": "JJmwSfbpfKaa",
        "colab": {
          "base_uri": "https://localhost:8080/"
        },
        "outputId": "3503ecac-7b10-4dba-d966-3cd83f53d8cf"
      },
      "source": [
        "t.reshape(3, 4)"
      ],
      "execution_count": 36,
      "outputs": [
        {
          "output_type": "execute_result",
          "data": {
            "text/plain": [
              "tensor([[0., 0., 0., 0.],\n",
              "        [1., 1., 1., 1.],\n",
              "        [2., 2., 2., 2.]])"
            ]
          },
          "metadata": {
            "tags": []
          },
          "execution_count": 36
        }
      ]
    },
    {
      "cell_type": "code",
      "metadata": {
        "id": "cWqlJb4wfLmG",
        "colab": {
          "base_uri": "https://localhost:8080/"
        },
        "outputId": "e5b7333d-a316-47d9-ec51-612f0105eb30"
      },
      "source": [
        "t.reshape(4, 3)"
      ],
      "execution_count": 37,
      "outputs": [
        {
          "output_type": "execute_result",
          "data": {
            "text/plain": [
              "tensor([[0., 0., 0.],\n",
              "        [0., 1., 1.],\n",
              "        [1., 1., 2.],\n",
              "        [2., 2., 2.]])"
            ]
          },
          "metadata": {
            "tags": []
          },
          "execution_count": 37
        }
      ]
    },
    {
      "cell_type": "markdown",
      "metadata": {
        "id": "ETJtIB_mfSve"
      },
      "source": [
        "**Can we change the rank of a tensor?** \n",
        "\n",
        "Of course, but we need to take care of the original numel"
      ]
    },
    {
      "cell_type": "code",
      "metadata": {
        "id": "u5q2H5hgfMbA",
        "colab": {
          "base_uri": "https://localhost:8080/"
        },
        "outputId": "efed3ecb-c528-40c0-ef74-fbcbdd471dd0"
      },
      "source": [
        "t.reshape(2, 2, 3)"
      ],
      "execution_count": 38,
      "outputs": [
        {
          "output_type": "execute_result",
          "data": {
            "text/plain": [
              "tensor([[[0., 0., 0.],\n",
              "         [0., 1., 1.]],\n",
              "\n",
              "        [[1., 1., 2.],\n",
              "         [2., 2., 2.]]])"
            ]
          },
          "metadata": {
            "tags": []
          },
          "execution_count": 38
        }
      ]
    },
    {
      "cell_type": "markdown",
      "metadata": {
        "id": "4svjC27Pfgmw"
      },
      "source": [
        "**Squeezing a Tensor**\n",
        "\n",
        "Removes all the dimensions that have a length of 1\n",
        "\n",
        "**Unsqueezing a Tensor**\n",
        "Adds a dimension that has a length of 1. "
      ]
    },
    {
      "cell_type": "code",
      "metadata": {
        "id": "A0JiHMkCfah0",
        "colab": {
          "base_uri": "https://localhost:8080/"
        },
        "outputId": "01cc39e1-83b9-46b6-81aa-72b9f6ce89e2"
      },
      "source": [
        "print(t.reshape(1, 12))\n",
        "print(t.reshape(1, 12).shape)"
      ],
      "execution_count": 39,
      "outputs": [
        {
          "output_type": "stream",
          "text": [
            "tensor([[0., 0., 0., 0., 1., 1., 1., 1., 2., 2., 2., 2.]])\n",
            "torch.Size([1, 12])\n"
          ],
          "name": "stdout"
        }
      ]
    },
    {
      "cell_type": "code",
      "metadata": {
        "id": "WcYrEXdOfyAm",
        "colab": {
          "base_uri": "https://localhost:8080/"
        },
        "outputId": "6d1cf0cc-5dab-414c-c918-3a8621861282"
      },
      "source": [
        "print(t.reshape(1, 12).squeeze())\n",
        "print(t.reshape(1, 12).squeeze().shape)"
      ],
      "execution_count": 40,
      "outputs": [
        {
          "output_type": "stream",
          "text": [
            "tensor([0., 0., 0., 0., 1., 1., 1., 1., 2., 2., 2., 2.])\n",
            "torch.Size([12])\n"
          ],
          "name": "stdout"
        }
      ]
    },
    {
      "cell_type": "code",
      "metadata": {
        "id": "l3zhxWYBf2xE",
        "colab": {
          "base_uri": "https://localhost:8080/"
        },
        "outputId": "20368d7d-58a3-43f0-98fe-d29bf53cb4c6"
      },
      "source": [
        "print(t.reshape(1, 12).squeeze().unsqueeze(dim=0))\n",
        "print(t.reshape(1, 12).squeeze().unsqueeze(dim=0).shape)"
      ],
      "execution_count": 41,
      "outputs": [
        {
          "output_type": "stream",
          "text": [
            "tensor([[0., 0., 0., 0., 1., 1., 1., 1., 2., 2., 2., 2.]])\n",
            "torch.Size([1, 12])\n"
          ],
          "name": "stdout"
        }
      ]
    },
    {
      "cell_type": "markdown",
      "metadata": {
        "id": "Jfk4Yiobf_i9"
      },
      "source": [
        "**Use cases?**\n",
        "\n",
        "Neural networks are always trained in a batch of samples. This is troubling because when we want to test 1 image, we do not have an array, we only have 1 image. Well we unsqueeze it to fake a batch.\n",
        "\n",
        "We use this function that is very common, called Flatten. This essentially create a new tensor that is only 1D. This is done to connect our data to next Fully Connected Layers. We use squeeze function for this. \n",
        "\n",
        "Let's implement such a function. "
      ]
    },
    {
      "cell_type": "code",
      "metadata": {
        "id": "kcmdw22Zf7iY"
      },
      "source": [
        "def flatten(t):\n",
        "  t = t.reshape(1, -1)\n",
        "  # In PyTorch this forces PyTorch to figure out the next dimension automatically so numel remains constant.\n",
        "  # i.e. if tensor was of 2x3x4 dimensions (1, -1) will calculate 24 for us and get us a 1x24 tensor. \n",
        "  t = t.squeeze()\n",
        "  # now we need to squeeze it since it is still acting like a 2D array.\n",
        "  return t"
      ],
      "execution_count": 42,
      "outputs": []
    },
    {
      "cell_type": "code",
      "metadata": {
        "id": "J1Ehm6nvgujz",
        "colab": {
          "base_uri": "https://localhost:8080/"
        },
        "outputId": "259d66fb-8d09-4b68-f1f6-38762b8716ca"
      },
      "source": [
        "t.shape"
      ],
      "execution_count": 43,
      "outputs": [
        {
          "output_type": "execute_result",
          "data": {
            "text/plain": [
              "torch.Size([3, 4])"
            ]
          },
          "metadata": {
            "tags": []
          },
          "execution_count": 43
        }
      ]
    },
    {
      "cell_type": "code",
      "metadata": {
        "id": "ONMy16ffhZtc",
        "colab": {
          "base_uri": "https://localhost:8080/"
        },
        "outputId": "61f02f94-dfd3-4c67-dfcd-d9ffdacf3514"
      },
      "source": [
        "flatten(t)"
      ],
      "execution_count": 44,
      "outputs": [
        {
          "output_type": "execute_result",
          "data": {
            "text/plain": [
              "tensor([0., 0., 0., 0., 1., 1., 1., 1., 2., 2., 2., 2.])"
            ]
          },
          "metadata": {
            "tags": []
          },
          "execution_count": 44
        }
      ]
    },
    {
      "cell_type": "markdown",
      "metadata": {
        "id": "mgCBQu1nhw5e"
      },
      "source": [
        "**Tensor Concatenation**"
      ]
    },
    {
      "cell_type": "code",
      "metadata": {
        "id": "FxGc_WufhbeM",
        "colab": {
          "base_uri": "https://localhost:8080/"
        },
        "outputId": "cb8b966b-0012-4cdd-8099-ad69fe0938b1"
      },
      "source": [
        "t1 = torch.tensor([\n",
        "    [1, 2],\n",
        "    [3, 4]\n",
        "])\n",
        "\n",
        "t2 = torch.tensor([\n",
        "    [5, 6],\n",
        "    [7, 8]\n",
        "])\n",
        "\n",
        "torch.cat((t1, t2), dim=0), torch.cat((t1, t2), dim=1)\n"
      ],
      "execution_count": 45,
      "outputs": [
        {
          "output_type": "execute_result",
          "data": {
            "text/plain": [
              "(tensor([[1, 2],\n",
              "         [3, 4],\n",
              "         [5, 6],\n",
              "         [7, 8]]), tensor([[1, 2, 5, 6],\n",
              "         [3, 4, 7, 8]]))"
            ]
          },
          "metadata": {
            "tags": []
          },
          "execution_count": 45
        }
      ]
    },
    {
      "cell_type": "markdown",
      "metadata": {
        "id": "8Zxi8P9MiVPH"
      },
      "source": [
        "**More on Flatten, and batches**"
      ]
    },
    {
      "cell_type": "code",
      "metadata": {
        "id": "l4W7fSCjiAg_"
      },
      "source": [
        "img1 = torch.tensor([\n",
        "  [1, 1, 1, 1],\n",
        "  [1, 1, 1, 1],\n",
        "  [1, 1, 1, 1],\n",
        "  [1, 1, 1, 1]\n",
        "])\n",
        "\n",
        "img2 = torch.tensor([\n",
        "  [2, 2, 2, 2],\n",
        "  [2, 2, 2, 2],\n",
        "  [2, 2, 2, 2],\n",
        "  [2, 2, 2, 2]\n",
        "])\n",
        "\n",
        "img3 = torch.tensor([\n",
        "  [3, 3, 3, 3],\n",
        "  [3, 3, 3, 3],\n",
        "  [3, 3, 3, 3],\n",
        "  [3, 3, 3, 3]\n",
        "])"
      ],
      "execution_count": 49,
      "outputs": []
    },
    {
      "cell_type": "markdown",
      "metadata": {
        "id": "4z857HlHimJF"
      },
      "source": [
        "Assume that above we have 3 4x4 black and white images. \n",
        "\n",
        "But we feed batches to our neural networks. How do we convert this into a batch (one of the many ways)"
      ]
    },
    {
      "cell_type": "code",
      "metadata": {
        "id": "wzYbZmYAihsB",
        "colab": {
          "base_uri": "https://localhost:8080/"
        },
        "outputId": "5ddf8efc-8cc1-426d-97a8-018e7ecc7a01"
      },
      "source": [
        "batch = torch.stack((img1, img2, img3))\n",
        "batch.shape"
      ],
      "execution_count": 50,
      "outputs": [
        {
          "output_type": "execute_result",
          "data": {
            "text/plain": [
              "torch.Size([3, 4, 4])"
            ]
          },
          "metadata": {
            "tags": []
          },
          "execution_count": 50
        }
      ]
    },
    {
      "cell_type": "code",
      "metadata": {
        "id": "9iuSiLLFi408",
        "colab": {
          "base_uri": "https://localhost:8080/"
        },
        "outputId": "cf808b1b-d22c-4532-f86a-8238e18971ab"
      },
      "source": [
        "batch"
      ],
      "execution_count": 51,
      "outputs": [
        {
          "output_type": "execute_result",
          "data": {
            "text/plain": [
              "tensor([[[1, 1, 1, 1],\n",
              "         [1, 1, 1, 1],\n",
              "         [1, 1, 1, 1],\n",
              "         [1, 1, 1, 1]],\n",
              "\n",
              "        [[2, 2, 2, 2],\n",
              "         [2, 2, 2, 2],\n",
              "         [2, 2, 2, 2],\n",
              "         [2, 2, 2, 2]],\n",
              "\n",
              "        [[3, 3, 3, 3],\n",
              "         [3, 3, 3, 3],\n",
              "         [3, 3, 3, 3],\n",
              "         [3, 3, 3, 3]]])"
            ]
          },
          "metadata": {
            "tags": []
          },
          "execution_count": 51
        }
      ]
    },
    {
      "cell_type": "markdown",
      "metadata": {
        "id": "YHV-rIMpjtNL"
      },
      "source": [
        "3 above represents our batch size, and 4x4 represents the shape of our images. But that is not how NN expects the data to be. It needs to be explicitly specified that we have 1 channel and that channel has 4x4 size data, so"
      ]
    },
    {
      "cell_type": "code",
      "metadata": {
        "id": "j560reP_i5jC",
        "colab": {
          "base_uri": "https://localhost:8080/"
        },
        "outputId": "a8578b26-8274-4f38-89f6-f10d8de68765"
      },
      "source": [
        "batch = batch.reshape(3, 1, 4, 4)\n",
        "batch"
      ],
      "execution_count": 52,
      "outputs": [
        {
          "output_type": "execute_result",
          "data": {
            "text/plain": [
              "tensor([[[[1, 1, 1, 1],\n",
              "          [1, 1, 1, 1],\n",
              "          [1, 1, 1, 1],\n",
              "          [1, 1, 1, 1]]],\n",
              "\n",
              "\n",
              "        [[[2, 2, 2, 2],\n",
              "          [2, 2, 2, 2],\n",
              "          [2, 2, 2, 2],\n",
              "          [2, 2, 2, 2]]],\n",
              "\n",
              "\n",
              "        [[[3, 3, 3, 3],\n",
              "          [3, 3, 3, 3],\n",
              "          [3, 3, 3, 3],\n",
              "          [3, 3, 3, 3]]]])"
            ]
          },
          "metadata": {
            "tags": []
          },
          "execution_count": 52
        }
      ]
    },
    {
      "cell_type": "code",
      "metadata": {
        "id": "moHk-RkNkAAj",
        "colab": {
          "base_uri": "https://localhost:8080/"
        },
        "outputId": "90bd3d17-70ac-4ec7-fc30-f1d31bcf9f40"
      },
      "source": [
        "# let's get our first image\n",
        "\n",
        "batch[0]"
      ],
      "execution_count": 53,
      "outputs": [
        {
          "output_type": "execute_result",
          "data": {
            "text/plain": [
              "tensor([[[1, 1, 1, 1],\n",
              "         [1, 1, 1, 1],\n",
              "         [1, 1, 1, 1],\n",
              "         [1, 1, 1, 1]]])"
            ]
          },
          "metadata": {
            "tags": []
          },
          "execution_count": 53
        }
      ]
    },
    {
      "cell_type": "code",
      "metadata": {
        "id": "Ijpr3Cwjkox4",
        "colab": {
          "base_uri": "https://localhost:8080/"
        },
        "outputId": "23d9c9c4-c21d-4dd9-c101-f7087db0f961"
      },
      "source": [
        "# let's get the first channel of our first image\n",
        "\n",
        "batch[0][0]"
      ],
      "execution_count": 54,
      "outputs": [
        {
          "output_type": "execute_result",
          "data": {
            "text/plain": [
              "tensor([[1, 1, 1, 1],\n",
              "        [1, 1, 1, 1],\n",
              "        [1, 1, 1, 1],\n",
              "        [1, 1, 1, 1]])"
            ]
          },
          "metadata": {
            "tags": []
          },
          "execution_count": 54
        }
      ]
    },
    {
      "cell_type": "code",
      "metadata": {
        "id": "U6a0c16qkteQ",
        "colab": {
          "base_uri": "https://localhost:8080/"
        },
        "outputId": "1a3d32d6-44b6-4c14-86c7-185c5bdd29da"
      },
      "source": [
        "# let's get the first row of our first channel of our first image\n",
        "\n",
        "batch[0][0][0]"
      ],
      "execution_count": 55,
      "outputs": [
        {
          "output_type": "execute_result",
          "data": {
            "text/plain": [
              "tensor([1, 1, 1, 1])"
            ]
          },
          "metadata": {
            "tags": []
          },
          "execution_count": 55
        }
      ]
    },
    {
      "cell_type": "code",
      "metadata": {
        "id": "A4dQTAcCkzQU",
        "colab": {
          "base_uri": "https://localhost:8080/"
        },
        "outputId": "b32cfdba-776f-4172-ea19-47e905ebdb7d"
      },
      "source": [
        "# let's get the first pixel of the first row of our first channel of our first image\n",
        "\n",
        "batch[0][0][0][0]"
      ],
      "execution_count": 56,
      "outputs": [
        {
          "output_type": "execute_result",
          "data": {
            "text/plain": [
              "tensor(1)"
            ]
          },
          "metadata": {
            "tags": []
          },
          "execution_count": 56
        }
      ]
    },
    {
      "cell_type": "markdown",
      "metadata": {
        "id": "8zLMXm8mlwE3"
      },
      "source": [
        "Let's see how we flatten our image inside the batch"
      ]
    },
    {
      "cell_type": "code",
      "metadata": {
        "id": "ENiccu1Hlqt4",
        "colab": {
          "base_uri": "https://localhost:8080/"
        },
        "outputId": "b802adae-a318-4abc-dc5d-975620983dee"
      },
      "source": [
        "batch.reshape(1, -1)[0]"
      ],
      "execution_count": 57,
      "outputs": [
        {
          "output_type": "execute_result",
          "data": {
            "text/plain": [
              "tensor([1, 1, 1, 1, 1, 1, 1, 1, 1, 1, 1, 1, 1, 1, 1, 1, 2, 2, 2, 2, 2, 2, 2, 2,\n",
              "        2, 2, 2, 2, 2, 2, 2, 2, 3, 3, 3, 3, 3, 3, 3, 3, 3, 3, 3, 3, 3, 3, 3, 3])"
            ]
          },
          "metadata": {
            "tags": []
          },
          "execution_count": 57
        }
      ]
    },
    {
      "cell_type": "code",
      "metadata": {
        "id": "9DhC-ZCNl533",
        "colab": {
          "base_uri": "https://localhost:8080/"
        },
        "outputId": "81f6215a-a7ba-4039-8707-1852602c4791"
      },
      "source": [
        "batch.reshape(-1)"
      ],
      "execution_count": 58,
      "outputs": [
        {
          "output_type": "execute_result",
          "data": {
            "text/plain": [
              "tensor([1, 1, 1, 1, 1, 1, 1, 1, 1, 1, 1, 1, 1, 1, 1, 1, 2, 2, 2, 2, 2, 2, 2, 2,\n",
              "        2, 2, 2, 2, 2, 2, 2, 2, 3, 3, 3, 3, 3, 3, 3, 3, 3, 3, 3, 3, 3, 3, 3, 3])"
            ]
          },
          "metadata": {
            "tags": []
          },
          "execution_count": 58
        }
      ]
    },
    {
      "cell_type": "code",
      "metadata": {
        "id": "xn36bXVHmMce",
        "colab": {
          "base_uri": "https://localhost:8080/"
        },
        "outputId": "80c5c656-2ce9-4546-fc59-9e0df3fbaa80"
      },
      "source": [
        "batch.reshape(batch.numel())"
      ],
      "execution_count": 59,
      "outputs": [
        {
          "output_type": "execute_result",
          "data": {
            "text/plain": [
              "tensor([1, 1, 1, 1, 1, 1, 1, 1, 1, 1, 1, 1, 1, 1, 1, 1, 2, 2, 2, 2, 2, 2, 2, 2,\n",
              "        2, 2, 2, 2, 2, 2, 2, 2, 3, 3, 3, 3, 3, 3, 3, 3, 3, 3, 3, 3, 3, 3, 3, 3])"
            ]
          },
          "metadata": {
            "tags": []
          },
          "execution_count": 59
        }
      ]
    },
    {
      "cell_type": "code",
      "metadata": {
        "id": "p1t6_iq2mO_F",
        "colab": {
          "base_uri": "https://localhost:8080/"
        },
        "outputId": "21ad3c1c-1bc7-4acf-b69e-d13b85c5da91"
      },
      "source": [
        "batch.flatten() # inbuilt PyTorch method"
      ],
      "execution_count": 60,
      "outputs": [
        {
          "output_type": "execute_result",
          "data": {
            "text/plain": [
              "tensor([1, 1, 1, 1, 1, 1, 1, 1, 1, 1, 1, 1, 1, 1, 1, 1, 2, 2, 2, 2, 2, 2, 2, 2,\n",
              "        2, 2, 2, 2, 2, 2, 2, 2, 3, 3, 3, 3, 3, 3, 3, 3, 3, 3, 3, 3, 3, 3, 3, 3])"
            ]
          },
          "metadata": {
            "tags": []
          },
          "execution_count": 60
        }
      ]
    },
    {
      "cell_type": "markdown",
      "metadata": {
        "id": "FWfvcLWxmdIv"
      },
      "source": [
        "*But* what if we wanted to flatten the images but not collapse them into a single dim? Above data is anyways useless for our DNN"
      ]
    },
    {
      "cell_type": "code",
      "metadata": {
        "id": "lrmlALiCmUTV",
        "colab": {
          "base_uri": "https://localhost:8080/"
        },
        "outputId": "cd80223e-722f-4514-e032-cd3aa4b1fd90"
      },
      "source": [
        "batch.reshape(3, -1)"
      ],
      "execution_count": 61,
      "outputs": [
        {
          "output_type": "execute_result",
          "data": {
            "text/plain": [
              "tensor([[1, 1, 1, 1, 1, 1, 1, 1, 1, 1, 1, 1, 1, 1, 1, 1],\n",
              "        [2, 2, 2, 2, 2, 2, 2, 2, 2, 2, 2, 2, 2, 2, 2, 2],\n",
              "        [3, 3, 3, 3, 3, 3, 3, 3, 3, 3, 3, 3, 3, 3, 3, 3]])"
            ]
          },
          "metadata": {
            "tags": []
          },
          "execution_count": 61
        }
      ]
    },
    {
      "cell_type": "code",
      "metadata": {
        "id": "qlfOje6vmtnz",
        "colab": {
          "base_uri": "https://localhost:8080/"
        },
        "outputId": "8b46d7e7-2b80-4cce-a89c-3b5ab667426b"
      },
      "source": [
        "# or inbuilt method\n",
        "batch.flatten(start_dim=1).shape"
      ],
      "execution_count": 62,
      "outputs": [
        {
          "output_type": "execute_result",
          "data": {
            "text/plain": [
              "torch.Size([3, 16])"
            ]
          },
          "metadata": {
            "tags": []
          },
          "execution_count": 62
        }
      ]
    },
    {
      "cell_type": "code",
      "metadata": {
        "id": "xO1bgen0m47R",
        "colab": {
          "base_uri": "https://localhost:8080/"
        },
        "outputId": "f725f3e8-836a-4d86-e511-1ce29a9ee71e"
      },
      "source": [
        "# or inbuilt method\n",
        "batch.flatten(start_dim=1)"
      ],
      "execution_count": 63,
      "outputs": [
        {
          "output_type": "execute_result",
          "data": {
            "text/plain": [
              "tensor([[1, 1, 1, 1, 1, 1, 1, 1, 1, 1, 1, 1, 1, 1, 1, 1],\n",
              "        [2, 2, 2, 2, 2, 2, 2, 2, 2, 2, 2, 2, 2, 2, 2, 2],\n",
              "        [3, 3, 3, 3, 3, 3, 3, 3, 3, 3, 3, 3, 3, 3, 3, 3]])"
            ]
          },
          "metadata": {
            "tags": []
          },
          "execution_count": 63
        }
      ]
    },
    {
      "cell_type": "markdown",
      "metadata": {
        "id": "Jb8wwwajnOpI"
      },
      "source": [
        "# Element-wise tensor Operations"
      ]
    },
    {
      "cell_type": "code",
      "metadata": {
        "id": "6f54xyYum8S_"
      },
      "source": [
        "t1 = torch.tensor([\n",
        "    [1, 2],\n",
        "    [3, 4]\n",
        "], dtype=torch.float32)\n",
        "\n",
        "t2 = torch.tensor([\n",
        "    [5, 6],\n",
        "    [7, 8]\n",
        "], dtype=torch.float32)"
      ],
      "execution_count": 64,
      "outputs": []
    },
    {
      "cell_type": "code",
      "metadata": {
        "id": "YjQAOpohncvj",
        "colab": {
          "base_uri": "https://localhost:8080/"
        },
        "outputId": "57ceeb6a-e237-44cb-b796-b27111e13b86"
      },
      "source": [
        "t1 + t2 "
      ],
      "execution_count": 65,
      "outputs": [
        {
          "output_type": "execute_result",
          "data": {
            "text/plain": [
              "tensor([[ 6.,  8.],\n",
              "        [10., 12.]])"
            ]
          },
          "metadata": {
            "tags": []
          },
          "execution_count": 65
        }
      ]
    },
    {
      "cell_type": "code",
      "metadata": {
        "id": "4IlOv8O7nnRd",
        "colab": {
          "base_uri": "https://localhost:8080/"
        },
        "outputId": "0f997f67-a268-438d-e5da-8f815befa3a7"
      },
      "source": [
        "t1 + 2"
      ],
      "execution_count": 66,
      "outputs": [
        {
          "output_type": "execute_result",
          "data": {
            "text/plain": [
              "tensor([[3., 4.],\n",
              "        [5., 6.]])"
            ]
          },
          "metadata": {
            "tags": []
          },
          "execution_count": 66
        }
      ]
    },
    {
      "cell_type": "code",
      "metadata": {
        "id": "75BCw_GPnrjR",
        "colab": {
          "base_uri": "https://localhost:8080/"
        },
        "outputId": "b235ec25-0f93-4fbb-b0d0-37fe65a486d7"
      },
      "source": [
        "t1 - 2"
      ],
      "execution_count": 67,
      "outputs": [
        {
          "output_type": "execute_result",
          "data": {
            "text/plain": [
              "tensor([[-1.,  0.],\n",
              "        [ 1.,  2.]])"
            ]
          },
          "metadata": {
            "tags": []
          },
          "execution_count": 67
        }
      ]
    },
    {
      "cell_type": "code",
      "metadata": {
        "id": "V8ptwa7nn5QZ",
        "colab": {
          "base_uri": "https://localhost:8080/"
        },
        "outputId": "9b96a19a-1e26-4925-cabf-defaf6f4d603"
      },
      "source": [
        "t1 / 2"
      ],
      "execution_count": 68,
      "outputs": [
        {
          "output_type": "execute_result",
          "data": {
            "text/plain": [
              "tensor([[0.5000, 1.0000],\n",
              "        [1.5000, 2.0000]])"
            ]
          },
          "metadata": {
            "tags": []
          },
          "execution_count": 68
        }
      ]
    },
    {
      "cell_type": "code",
      "metadata": {
        "id": "x2l1iqDzn6lL",
        "colab": {
          "base_uri": "https://localhost:8080/"
        },
        "outputId": "26a1253a-42a6-409e-e00d-d8d0ad08d3bc"
      },
      "source": [
        "print(t1.add(2))\n",
        "\n",
        "print(t1.sub(2))\n",
        "\n",
        "print(t1.mul(2))\n",
        "\n",
        "print(t1.div(2))"
      ],
      "execution_count": 69,
      "outputs": [
        {
          "output_type": "stream",
          "text": [
            "tensor([[3., 4.],\n",
            "        [5., 6.]])\n",
            "tensor([[-1.,  0.],\n",
            "        [ 1.,  2.]])\n",
            "tensor([[2., 4.],\n",
            "        [6., 8.]])\n",
            "tensor([[0.5000, 1.0000],\n",
            "        [1.5000, 2.0000]])\n"
          ],
          "name": "stdout"
        }
      ]
    },
    {
      "cell_type": "code",
      "metadata": {
        "id": "sWuTHsggoCJD"
      },
      "source": [
        "t = torch.tensor([\n",
        "    [0, 5, 7],\n",
        "    [6, 0, 7],\n",
        "    [0, 8, 0]\n",
        "], dtype=torch.float32)"
      ],
      "execution_count": 70,
      "outputs": []
    },
    {
      "cell_type": "code",
      "metadata": {
        "id": "lTXLlTlPodBD",
        "colab": {
          "base_uri": "https://localhost:8080/"
        },
        "outputId": "c47928ee-7e4e-45ee-fa75-0564c1ae5376"
      },
      "source": [
        "t.eq(0)"
      ],
      "execution_count": 71,
      "outputs": [
        {
          "output_type": "execute_result",
          "data": {
            "text/plain": [
              "tensor([[ True, False, False],\n",
              "        [False,  True, False],\n",
              "        [ True, False,  True]])"
            ]
          },
          "metadata": {
            "tags": []
          },
          "execution_count": 71
        }
      ]
    },
    {
      "cell_type": "code",
      "metadata": {
        "id": "CyaG8jYuogIx",
        "colab": {
          "base_uri": "https://localhost:8080/"
        },
        "outputId": "d8a800cf-78d1-44c5-ca69-cc7a3212408e"
      },
      "source": [
        "t.ge(0)"
      ],
      "execution_count": 72,
      "outputs": [
        {
          "output_type": "execute_result",
          "data": {
            "text/plain": [
              "tensor([[True, True, True],\n",
              "        [True, True, True],\n",
              "        [True, True, True]])"
            ]
          },
          "metadata": {
            "tags": []
          },
          "execution_count": 72
        }
      ]
    },
    {
      "cell_type": "code",
      "metadata": {
        "id": "RLAVr0Uyo6KX",
        "colab": {
          "base_uri": "https://localhost:8080/"
        },
        "outputId": "cb8c98e2-ff8e-4868-d3fa-e4650913a4db"
      },
      "source": [
        "t.gt(0)"
      ],
      "execution_count": 73,
      "outputs": [
        {
          "output_type": "execute_result",
          "data": {
            "text/plain": [
              "tensor([[False,  True,  True],\n",
              "        [ True, False,  True],\n",
              "        [False,  True, False]])"
            ]
          },
          "metadata": {
            "tags": []
          },
          "execution_count": 73
        }
      ]
    },
    {
      "cell_type": "code",
      "metadata": {
        "id": "MJJNdjsyo8Vo",
        "colab": {
          "base_uri": "https://localhost:8080/"
        },
        "outputId": "79bc3ba8-0d1c-4b24-a6a5-495d5c6330c1"
      },
      "source": [
        "t.lt(0)"
      ],
      "execution_count": 74,
      "outputs": [
        {
          "output_type": "execute_result",
          "data": {
            "text/plain": [
              "tensor([[False, False, False],\n",
              "        [False, False, False],\n",
              "        [False, False, False]])"
            ]
          },
          "metadata": {
            "tags": []
          },
          "execution_count": 74
        }
      ]
    },
    {
      "cell_type": "code",
      "metadata": {
        "id": "epHivYzVo-DF",
        "colab": {
          "base_uri": "https://localhost:8080/"
        },
        "outputId": "e205f641-5725-424d-bebf-7ed965152518"
      },
      "source": [
        "t.le(7)"
      ],
      "execution_count": 75,
      "outputs": [
        {
          "output_type": "execute_result",
          "data": {
            "text/plain": [
              "tensor([[ True,  True,  True],\n",
              "        [ True,  True,  True],\n",
              "        [ True, False,  True]])"
            ]
          },
          "metadata": {
            "tags": []
          },
          "execution_count": 75
        }
      ]
    },
    {
      "cell_type": "markdown",
      "metadata": {
        "id": "CXWAQvGLpMUq"
      },
      "source": [
        "We can apply functions to each elements as well!"
      ]
    },
    {
      "cell_type": "code",
      "metadata": {
        "id": "plihIWbTpArN",
        "colab": {
          "base_uri": "https://localhost:8080/"
        },
        "outputId": "39947628-d8f5-4ec1-ac3b-077e90cab2ae"
      },
      "source": [
        "t.abs()"
      ],
      "execution_count": 76,
      "outputs": [
        {
          "output_type": "execute_result",
          "data": {
            "text/plain": [
              "tensor([[0., 5., 7.],\n",
              "        [6., 0., 7.],\n",
              "        [0., 8., 0.]])"
            ]
          },
          "metadata": {
            "tags": []
          },
          "execution_count": 76
        }
      ]
    },
    {
      "cell_type": "code",
      "metadata": {
        "id": "5hkPJZWNpPqa",
        "colab": {
          "base_uri": "https://localhost:8080/"
        },
        "outputId": "4837ee6d-8f8f-4518-c390-164d474ce057"
      },
      "source": [
        "t.sqrt()"
      ],
      "execution_count": 77,
      "outputs": [
        {
          "output_type": "execute_result",
          "data": {
            "text/plain": [
              "tensor([[0.0000, 2.2361, 2.6458],\n",
              "        [2.4495, 0.0000, 2.6458],\n",
              "        [0.0000, 2.8284, 0.0000]])"
            ]
          },
          "metadata": {
            "tags": []
          },
          "execution_count": 77
        }
      ]
    },
    {
      "cell_type": "code",
      "metadata": {
        "id": "rICopM5mpQua",
        "colab": {
          "base_uri": "https://localhost:8080/"
        },
        "outputId": "1e0447b2-1f16-482a-8b24-190a6e385c7f"
      },
      "source": [
        "t.neg()"
      ],
      "execution_count": 78,
      "outputs": [
        {
          "output_type": "execute_result",
          "data": {
            "text/plain": [
              "tensor([[-0., -5., -7.],\n",
              "        [-6., -0., -7.],\n",
              "        [-0., -8., -0.]])"
            ]
          },
          "metadata": {
            "tags": []
          },
          "execution_count": 78
        }
      ]
    },
    {
      "cell_type": "code",
      "metadata": {
        "id": "6pmh7YjopRr0",
        "colab": {
          "base_uri": "https://localhost:8080/"
        },
        "outputId": "6d914872-2f4c-46cf-aef0-21e6898ce02c"
      },
      "source": [
        "t.neg().abs()"
      ],
      "execution_count": 79,
      "outputs": [
        {
          "output_type": "execute_result",
          "data": {
            "text/plain": [
              "tensor([[0., 5., 7.],\n",
              "        [6., 0., 7.],\n",
              "        [0., 8., 0.]])"
            ]
          },
          "metadata": {
            "tags": []
          },
          "execution_count": 79
        }
      ]
    },
    {
      "cell_type": "markdown",
      "metadata": {
        "id": "09l4XrfDp3dy"
      },
      "source": [
        "# Reduction Functions\n",
        "\n",
        "A reduction operation on a tensor is an operation that reduces the number of elements contained within the tensor"
      ]
    },
    {
      "cell_type": "code",
      "metadata": {
        "id": "vIfmhfv9pUt7"
      },
      "source": [
        "t = torch.tensor([\n",
        "    [0, 5, 7],\n",
        "    [6, 0, 7],\n",
        "    [0, 8, 0]\n",
        "], dtype=torch.float32)"
      ],
      "execution_count": 80,
      "outputs": []
    },
    {
      "cell_type": "code",
      "metadata": {
        "id": "qU1ybMRxqMkw",
        "colab": {
          "base_uri": "https://localhost:8080/"
        },
        "outputId": "66b2bd15-2102-4272-9d97-5d8a5f6bfd1a"
      },
      "source": [
        "t.sum()"
      ],
      "execution_count": 81,
      "outputs": [
        {
          "output_type": "execute_result",
          "data": {
            "text/plain": [
              "tensor(33.)"
            ]
          },
          "metadata": {
            "tags": []
          },
          "execution_count": 81
        }
      ]
    },
    {
      "cell_type": "code",
      "metadata": {
        "id": "dfG2VuCSqOC-",
        "colab": {
          "base_uri": "https://localhost:8080/"
        },
        "outputId": "cb639d50-3b2e-4363-9544-308fc9b062fb"
      },
      "source": [
        "t.prod()"
      ],
      "execution_count": 82,
      "outputs": [
        {
          "output_type": "execute_result",
          "data": {
            "text/plain": [
              "tensor(0.)"
            ]
          },
          "metadata": {
            "tags": []
          },
          "execution_count": 82
        }
      ]
    },
    {
      "cell_type": "code",
      "metadata": {
        "id": "f3qicgMxqO73",
        "colab": {
          "base_uri": "https://localhost:8080/"
        },
        "outputId": "24cc7764-42e5-42f0-8af6-7b4f99c760fa"
      },
      "source": [
        "t.mean()"
      ],
      "execution_count": 83,
      "outputs": [
        {
          "output_type": "execute_result",
          "data": {
            "text/plain": [
              "tensor(3.6667)"
            ]
          },
          "metadata": {
            "tags": []
          },
          "execution_count": 83
        }
      ]
    },
    {
      "cell_type": "code",
      "metadata": {
        "id": "Iqhsh1pJqQbA",
        "colab": {
          "base_uri": "https://localhost:8080/"
        },
        "outputId": "77c0d2c3-8c57-4840-f0d6-9da0b2632cb4"
      },
      "source": [
        "t.std()"
      ],
      "execution_count": 84,
      "outputs": [
        {
          "output_type": "execute_result",
          "data": {
            "text/plain": [
              "tensor(3.5707)"
            ]
          },
          "metadata": {
            "tags": []
          },
          "execution_count": 84
        }
      ]
    },
    {
      "cell_type": "markdown",
      "metadata": {
        "id": "aVET7lnMqbdh"
      },
      "source": [
        "Reduction operation do not recessarily reduce tensors to single value. We can perform operations on a specific axis as well"
      ]
    },
    {
      "cell_type": "code",
      "metadata": {
        "id": "Mq8aP1i3qY_E"
      },
      "source": [
        "t = torch.tensor([\n",
        "  [1, 1, 1, 1],\n",
        "  [2, 2, 2, 2],\n",
        "  [3, 3, 3, 3],\n",
        "  [4, 4, 4, 4]\n",
        "])"
      ],
      "execution_count": 85,
      "outputs": []
    },
    {
      "cell_type": "code",
      "metadata": {
        "id": "-XWfCsypqnJG",
        "colab": {
          "base_uri": "https://localhost:8080/"
        },
        "outputId": "568264a4-859a-4188-f50f-89499af931ab"
      },
      "source": [
        "t.sum(dim=0) # 0th axis is arrays (y-axis here), 1st axis is numbers(x-axis here)"
      ],
      "execution_count": 86,
      "outputs": [
        {
          "output_type": "execute_result",
          "data": {
            "text/plain": [
              "tensor([10, 10, 10, 10])"
            ]
          },
          "metadata": {
            "tags": []
          },
          "execution_count": 86
        }
      ]
    },
    {
      "cell_type": "code",
      "metadata": {
        "id": "fcNnxWABqo8Q",
        "colab": {
          "base_uri": "https://localhost:8080/"
        },
        "outputId": "96180c7e-2c4f-4afd-872b-acda3d7876c3"
      },
      "source": [
        "\r\n",
        "t.sum(dim=1)"
      ],
      "execution_count": 87,
      "outputs": [
        {
          "output_type": "execute_result",
          "data": {
            "text/plain": [
              "tensor([ 4,  8, 12, 16])"
            ]
          },
          "metadata": {
            "tags": []
          },
          "execution_count": 87
        }
      ]
    },
    {
      "cell_type": "markdown",
      "metadata": {
        "id": "uyGSJe3srLc-"
      },
      "source": [
        "ArgMax and ArgMin"
      ]
    },
    {
      "cell_type": "code",
      "metadata": {
        "id": "-SYAwj6Aq62b",
        "colab": {
          "base_uri": "https://localhost:8080/"
        },
        "outputId": "a296006c-0d1d-4913-b1f8-9166f394ffb5"
      },
      "source": [
        "t.argmax(), t.max()"
      ],
      "execution_count": 88,
      "outputs": [
        {
          "output_type": "execute_result",
          "data": {
            "text/plain": [
              "(tensor(12), tensor(4))"
            ]
          },
          "metadata": {
            "tags": []
          },
          "execution_count": 88
        }
      ]
    },
    {
      "cell_type": "code",
      "metadata": {
        "id": "-DwG1WG4rOZO",
        "colab": {
          "base_uri": "https://localhost:8080/"
        },
        "outputId": "aaf64386-c3ff-4128-de1c-1ce80c9fa3be"
      },
      "source": [
        "t.argmin(), t.min()"
      ],
      "execution_count": 89,
      "outputs": [
        {
          "output_type": "execute_result",
          "data": {
            "text/plain": [
              "(tensor(0), tensor(1))"
            ]
          },
          "metadata": {
            "tags": []
          },
          "execution_count": 89
        }
      ]
    },
    {
      "cell_type": "code",
      "metadata": {
        "id": "VsDVXClDrSGE",
        "colab": {
          "base_uri": "https://localhost:8080/"
        },
        "outputId": "6d1a2c27-f055-490a-f912-b048c77c0d55"
      },
      "source": [
        "t.flatten()"
      ],
      "execution_count": 90,
      "outputs": [
        {
          "output_type": "execute_result",
          "data": {
            "text/plain": [
              "tensor([1, 1, 1, 1, 2, 2, 2, 2, 3, 3, 3, 3, 4, 4, 4, 4])"
            ]
          },
          "metadata": {
            "tags": []
          },
          "execution_count": 90
        }
      ]
    },
    {
      "cell_type": "code",
      "metadata": {
        "id": "RY-ZW7PDrcrU"
      },
      "source": [
        "t = torch.tensor([\n",
        "    [1, 0, 0, 2],\n",
        "    [0, 3, 3, 0],\n",
        "    [4, 0, 0, 5]\n",
        "], dtype=torch.float32)"
      ],
      "execution_count": 91,
      "outputs": []
    },
    {
      "cell_type": "code",
      "metadata": {
        "id": "mKdm0AxsrrXU",
        "colab": {
          "base_uri": "https://localhost:8080/"
        },
        "outputId": "e160c5f6-d8dc-4112-c8f7-0eda013cf646"
      },
      "source": [
        "t.max(dim=0)"
      ],
      "execution_count": 92,
      "outputs": [
        {
          "output_type": "execute_result",
          "data": {
            "text/plain": [
              "torch.return_types.max(values=tensor([4., 3., 3., 5.]), indices=tensor([2, 1, 1, 2]))"
            ]
          },
          "metadata": {
            "tags": []
          },
          "execution_count": 92
        }
      ]
    },
    {
      "cell_type": "code",
      "metadata": {
        "id": "c24IuxS_r3do",
        "colab": {
          "base_uri": "https://localhost:8080/"
        },
        "outputId": "fd4e3675-7e60-4e38-86c9-da0f21e138e9"
      },
      "source": [
        "t.max(dim=1)"
      ],
      "execution_count": 93,
      "outputs": [
        {
          "output_type": "execute_result",
          "data": {
            "text/plain": [
              "torch.return_types.max(values=tensor([2., 3., 5.]), indices=tensor([3, 1, 3]))"
            ]
          },
          "metadata": {
            "tags": []
          },
          "execution_count": 93
        }
      ]
    },
    {
      "cell_type": "code",
      "metadata": {
        "id": "fD_k_j6sr64D",
        "colab": {
          "base_uri": "https://localhost:8080/"
        },
        "outputId": "f3690851-8cc9-4a66-8d22-c3810a8a8988"
      },
      "source": [
        "t.argmax(dim=0)"
      ],
      "execution_count": 94,
      "outputs": [
        {
          "output_type": "execute_result",
          "data": {
            "text/plain": [
              "tensor([2, 1, 1, 2])"
            ]
          },
          "metadata": {
            "tags": []
          },
          "execution_count": 94
        }
      ]
    },
    {
      "cell_type": "code",
      "metadata": {
        "id": "0OP153uGr9y4",
        "colab": {
          "base_uri": "https://localhost:8080/"
        },
        "outputId": "7b2be323-202d-4cb3-c89c-58ada0f25d89"
      },
      "source": [
        "t.argmax(dim=1)"
      ],
      "execution_count": 95,
      "outputs": [
        {
          "output_type": "execute_result",
          "data": {
            "text/plain": [
              "tensor([3, 1, 3])"
            ]
          },
          "metadata": {
            "tags": []
          },
          "execution_count": 95
        }
      ]
    },
    {
      "cell_type": "code",
      "metadata": {
        "id": "_cevoI3psBD1",
        "colab": {
          "base_uri": "https://localhost:8080/"
        },
        "outputId": "41dcae04-a4ab-421a-a854-c4e6815b1bb1"
      },
      "source": [
        "t.mean(), t.mean().item() #item works only with scalar value tensors"
      ],
      "execution_count": 96,
      "outputs": [
        {
          "output_type": "execute_result",
          "data": {
            "text/plain": [
              "(tensor(1.5000), 1.5)"
            ]
          },
          "metadata": {
            "tags": []
          },
          "execution_count": 96
        }
      ]
    },
    {
      "cell_type": "code",
      "metadata": {
        "id": "viOUq9NIsNe7",
        "colab": {
          "base_uri": "https://localhost:8080/"
        },
        "outputId": "4059f9a3-29f1-4115-ff00-df26f904d5d0"
      },
      "source": [
        "# how to get multiple values out of a tensor as item only works with scalar values\n",
        "\n",
        "t.mean(dim=0).tolist(), t.mean(dim=0).tolist()[0]"
      ],
      "execution_count": 97,
      "outputs": [
        {
          "output_type": "execute_result",
          "data": {
            "text/plain": [
              "([1.6666666269302368, 1.0, 1.0, 2.3333332538604736], 1.6666666269302368)"
            ]
          },
          "metadata": {
            "tags": []
          },
          "execution_count": 97
        }
      ]
    },
    {
      "cell_type": "code",
      "metadata": {
        "id": "2ZQoIkl-si6s",
        "colab": {
          "base_uri": "https://localhost:8080/"
        },
        "outputId": "183b745c-705a-44a8-b984-0a8e1da8d376"
      },
      "source": [
        "# or\n",
        "\n",
        "t.mean(dim=0).numpy(), t.mean(dim=0).numpy()[0]"
      ],
      "execution_count": 98,
      "outputs": [
        {
          "output_type": "execute_result",
          "data": {
            "text/plain": [
              "(array([1.6666666, 1.       , 1.       , 2.3333333], dtype=float32), 1.6666666)"
            ]
          },
          "metadata": {
            "tags": []
          },
          "execution_count": 98
        }
      ]
    },
    {
      "cell_type": "markdown",
      "metadata": {
        "id": "LIS7Yv1Zs8Ur"
      },
      "source": [
        "# Working with the dataset\n",
        "\n",
        "We will look at convolutional/image examples as they allow us to get a good intuition on axises and are more complex to work on just 1D data\n",
        "\n",
        "### A common nn pipeline looks like this:\n",
        "1. Prepare the data\n",
        "2. Build the model\n",
        "3. Train the model\n",
        "4. Analyze the model"
      ]
    },
    {
      "cell_type": "code",
      "metadata": {
        "id": "SnnAaxfdsrRJ"
      },
      "source": [
        "import torch\n",
        "import torchvision # provide access to datasets, models, transforms, utils, etc\n",
        "import torchvision.transforms as transforms"
      ],
      "execution_count": 1,
      "outputs": []
    },
    {
      "cell_type": "code",
      "metadata": {
        "id": "VzeyvAyttaLr"
      },
      "source": [
        "# let's extend the Dataset class of Pytorch to build our own sample dataset\n",
        "from torch.utils.data import Dataset\n",
        "class OHLC(Dataset):\n",
        "  def __init__(self, csv_file):\n",
        "    self.data = pd.read_csv(csv_file)\n",
        "\n",
        "  def __getitem__(self, index):\n",
        "    r = self.data.iloc[index]\n",
        "    label = torch.tensor(r.is_up_day, dtype=torch.long)\n",
        "    sample = self.normalize(torch.tensor([r.open, r.high, r.low, r.close]))\n",
        "    return sample, label\n",
        "  \n",
        "  def __len__(self):\n",
        "    return len(self.data)"
      ],
      "execution_count": 100,
      "outputs": []
    },
    {
      "cell_type": "code",
      "metadata": {
        "id": "8U3DGMhzubXw",
        "colab": {
          "base_uri": "https://localhost:8080/",
          "height": 422,
          "referenced_widgets": [
            "32c169fa0a0a4be18a4c2b5dd913f48c",
            "04f1deb81a8740a491c940ca41bf439a",
            "092c10d3d1db40ca942eb01ca871a149",
            "0295ee57c55c4e049f77909f3dcdab2a",
            "6a4dcefe9463400a9bde53d4c8b90d19",
            "e1ffb477c8da4d03960c97c96a35d065",
            "246fa3c4e7cc447ba9a1c761e46039e1",
            "8009f9ed4d8646059368645e34efe797",
            "434acd7c0c634d6ab696b376537a3191",
            "5772a1f020a441c1b283649604308ca2",
            "c281dcc5166642eebb00dff892575ad1",
            "8e8dbf9716254681976faa2d0fbdde05",
            "ba895fef3727437ea2c4821bf075d7a2",
            "83958b7cdc67419b9d04aab490381033",
            "37abd154dcb242e9a46b0ba9374558ad",
            "65f4efd886a0457f8431a512e7ce10ea",
            "2cf2613a912e46e390457553270bb8c1",
            "8778cf178c304bba92dd29b8efdcbbfc",
            "f25c7a2ecca2453da4e41d44c642420e",
            "738dcee610a44b0e86f5543addeea097",
            "2f8f4398f9ef4943b63e686a28526053",
            "d85a9e396b154515966f029ef955bc01",
            "bc4c344ee64849e8b954de5fb3098840",
            "fe065c9a8b7541698249666cf34edb01",
            "b1a2913fd8644ceeaaaa35b5e4ede105",
            "0cba8bf6107d4fb48a06cb82ad71eff5",
            "42515a09e3914666af3c12dec2223b78",
            "a41b7c7018774d32b7faa2f2a8f883ff",
            "0326b12efb3e4b07866d316d5636acf2",
            "2c9e4b1c5bda40489c81a379c47c7ed8",
            "b1671a3e826e4e959834c9d3b7f0add9",
            "ad00a65add1c4763a30266140c5f1774"
          ]
        },
        "outputId": "e5914b32-c795-42a7-def3-5eac045ec893"
      },
      "source": [
        "# now let's work with FashionMnist\n",
        "\n",
        "train_set = torchvision.datasets.FashionMNIST(\n",
        "    root='./data'\n",
        "    ,train=True\n",
        "    ,download=True\n",
        "    ,transform=transforms.Compose([\n",
        "        transforms.ToTensor()\n",
        "    ])\n",
        ")"
      ],
      "execution_count": 101,
      "outputs": [
        {
          "output_type": "stream",
          "text": [
            "Downloading http://fashion-mnist.s3-website.eu-central-1.amazonaws.com/train-images-idx3-ubyte.gz to ./data/FashionMNIST/raw/train-images-idx3-ubyte.gz\n"
          ],
          "name": "stdout"
        },
        {
          "output_type": "display_data",
          "data": {
            "application/vnd.jupyter.widget-view+json": {
              "model_id": "32c169fa0a0a4be18a4c2b5dd913f48c",
              "version_minor": 0,
              "version_major": 2
            },
            "text/plain": [
              "HBox(children=(FloatProgress(value=1.0, bar_style='info', max=1.0), HTML(value='')))"
            ]
          },
          "metadata": {
            "tags": []
          }
        },
        {
          "output_type": "stream",
          "text": [
            "Extracting ./data/FashionMNIST/raw/train-images-idx3-ubyte.gz to ./data/FashionMNIST/raw\n",
            "Downloading http://fashion-mnist.s3-website.eu-central-1.amazonaws.com/train-labels-idx1-ubyte.gz to ./data/FashionMNIST/raw/train-labels-idx1-ubyte.gz\n"
          ],
          "name": "stdout"
        },
        {
          "output_type": "display_data",
          "data": {
            "application/vnd.jupyter.widget-view+json": {
              "model_id": "434acd7c0c634d6ab696b376537a3191",
              "version_minor": 0,
              "version_major": 2
            },
            "text/plain": [
              "HBox(children=(FloatProgress(value=1.0, bar_style='info', max=1.0), HTML(value='')))"
            ]
          },
          "metadata": {
            "tags": []
          }
        },
        {
          "output_type": "stream",
          "text": [
            "Extracting ./data/FashionMNIST/raw/train-labels-idx1-ubyte.gz to ./data/FashionMNIST/raw\n",
            "Downloading http://fashion-mnist.s3-website.eu-central-1.amazonaws.com/t10k-images-idx3-ubyte.gz to ./data/FashionMNIST/raw/t10k-images-idx3-ubyte.gz\n"
          ],
          "name": "stdout"
        },
        {
          "output_type": "display_data",
          "data": {
            "application/vnd.jupyter.widget-view+json": {
              "model_id": "2cf2613a912e46e390457553270bb8c1",
              "version_minor": 0,
              "version_major": 2
            },
            "text/plain": [
              "HBox(children=(FloatProgress(value=1.0, bar_style='info', max=1.0), HTML(value='')))"
            ]
          },
          "metadata": {
            "tags": []
          }
        },
        {
          "output_type": "stream",
          "text": [
            "Extracting ./data/FashionMNIST/raw/t10k-images-idx3-ubyte.gz to ./data/FashionMNIST/raw\n",
            "Downloading http://fashion-mnist.s3-website.eu-central-1.amazonaws.com/t10k-labels-idx1-ubyte.gz to ./data/FashionMNIST/raw/t10k-labels-idx1-ubyte.gz\n",
            "\n",
            "\n"
          ],
          "name": "stdout"
        },
        {
          "output_type": "display_data",
          "data": {
            "application/vnd.jupyter.widget-view+json": {
              "model_id": "b1a2913fd8644ceeaaaa35b5e4ede105",
              "version_minor": 0,
              "version_major": 2
            },
            "text/plain": [
              "HBox(children=(FloatProgress(value=1.0, bar_style='info', max=1.0), HTML(value='')))"
            ]
          },
          "metadata": {
            "tags": []
          }
        },
        {
          "output_type": "stream",
          "text": [
            "Extracting ./data/FashionMNIST/raw/t10k-labels-idx1-ubyte.gz to ./data/FashionMNIST/raw\n",
            "Processing...\n",
            "Done!\n"
          ],
          "name": "stdout"
        },
        {
          "output_type": "stream",
          "text": [
            "/usr/local/lib/python3.6/dist-packages/torchvision/datasets/mnist.py:480: UserWarning: The given NumPy array is not writeable, and PyTorch does not support non-writeable tensors. This means you can write to the underlying (supposedly non-writeable) NumPy array using the tensor. You may want to copy the array to protect its data or make it writeable before converting it to a tensor. This type of warning will be suppressed for the rest of this program. (Triggered internally at  /pytorch/torch/csrc/utils/tensor_numpy.cpp:141.)\n",
            "  return torch.from_numpy(parsed.astype(m[2], copy=False)).view(*s)\n"
          ],
          "name": "stderr"
        }
      ]
    },
    {
      "cell_type": "code",
      "metadata": {
        "colab": {
          "base_uri": "https://localhost:8080/",
          "height": 289,
          "referenced_widgets": [
            "e13442ca4ef848ce8244abcbed3e1fb7",
            "bec335699956434488ce40206b7cee09",
            "f9f9385bfd0b4ab28a57e65c015d0cbe",
            "4e2ecd7e1176440db709e20bb7a1ae49",
            "8157673e414f48b9ac52473f51c73bb5",
            "274183f9e0c14123a667e27d9983a8b3",
            "b76e08c02d2b4fcbac91c1578e4f0c3f",
            "e0d709adef294626ae8d15d0241ede29"
          ]
        },
        "id": "I6eEVEEriBqs",
        "outputId": "4537b13f-bd8b-4214-f340-8e735811b41b"
      },
      "source": [
        "# now let's work with EMnist\r\n",
        "\r\n",
        "train_set = torchvision.datasets.EMNIST(\r\n",
        "    root='./data'\r\n",
        "    ,split = 'byclass'\r\n",
        "    ,train=True\r\n",
        "    ,download=True\r\n",
        "    ,transform=transforms.Compose([\r\n",
        "        transforms.ToTensor(),\r\n",
        "    ])\r\n",
        ")"
      ],
      "execution_count": 2,
      "outputs": [
        {
          "output_type": "stream",
          "text": [
            "Downloading and extracting zip archive\n",
            "Downloading http://www.itl.nist.gov/iaui/vip/cs_links/EMNIST/gzip.zip to ./data/EMNIST/raw/emnist.zip\n"
          ],
          "name": "stdout"
        },
        {
          "output_type": "display_data",
          "data": {
            "application/vnd.jupyter.widget-view+json": {
              "model_id": "e13442ca4ef848ce8244abcbed3e1fb7",
              "version_minor": 0,
              "version_major": 2
            },
            "text/plain": [
              "HBox(children=(FloatProgress(value=1.0, bar_style='info', max=1.0), HTML(value='')))"
            ]
          },
          "metadata": {
            "tags": []
          }
        },
        {
          "output_type": "stream",
          "text": [
            "Extracting ./data/EMNIST/raw/emnist.zip to ./data/EMNIST/raw\n",
            "Processing byclass\n"
          ],
          "name": "stdout"
        },
        {
          "output_type": "stream",
          "text": [
            "/usr/local/lib/python3.6/dist-packages/torchvision/datasets/mnist.py:480: UserWarning: The given NumPy array is not writeable, and PyTorch does not support non-writeable tensors. This means you can write to the underlying (supposedly non-writeable) NumPy array using the tensor. You may want to copy the array to protect its data or make it writeable before converting it to a tensor. This type of warning will be suppressed for the rest of this program. (Triggered internally at  /pytorch/torch/csrc/utils/tensor_numpy.cpp:141.)\n",
            "  return torch.from_numpy(parsed.astype(m[2], copy=False)).view(*s)\n"
          ],
          "name": "stderr"
        },
        {
          "output_type": "stream",
          "text": [
            "Processing bymerge\n",
            "Processing balanced\n",
            "Processing letters\n",
            "Processing digits\n",
            "Processing mnist\n",
            "Done!\n"
          ],
          "name": "stdout"
        }
      ]
    },
    {
      "cell_type": "markdown",
      "metadata": {
        "id": "pGFzt-K5vL6u"
      },
      "source": [
        "`torch.utils.data.DataLoader` is an iterator which provides all these features:\n",
        "* Batching the data\n",
        "* Shuffling the data\n",
        "* Load the data in parallel using multiprocessing workers."
      ]
    },
    {
      "cell_type": "code",
      "metadata": {
        "id": "YwqfC3LiuuE6"
      },
      "source": [
        "train_loader = torch.utils.data.DataLoader(train_set\n",
        "    ,batch_size=10\n",
        "    ,shuffle=True\n",
        ")"
      ],
      "execution_count": 3,
      "outputs": []
    },
    {
      "cell_type": "code",
      "metadata": {
        "id": "m4OIm-8rvcNP"
      },
      "source": [
        "import numpy as np\n",
        "import matplotlib.pyplot as plt\n",
        "\n",
        "torch.set_printoptions(linewidth=120)"
      ],
      "execution_count": 4,
      "outputs": []
    },
    {
      "cell_type": "code",
      "metadata": {
        "id": "f4APFwqovs7C",
        "colab": {
          "base_uri": "https://localhost:8080/"
        },
        "outputId": "f6f5e3cd-4ca4-40bd-ab09-bf5a9b0e9523"
      },
      "source": [
        "len(train_set)"
      ],
      "execution_count": 5,
      "outputs": [
        {
          "output_type": "execute_result",
          "data": {
            "text/plain": [
              "697932"
            ]
          },
          "metadata": {
            "tags": []
          },
          "execution_count": 5
        }
      ]
    },
    {
      "cell_type": "code",
      "metadata": {
        "id": "hlQveFsEvuEg",
        "colab": {
          "base_uri": "https://localhost:8080/"
        },
        "outputId": "e653dcc8-d8db-4b65-a761-3e0dff0ff79f"
      },
      "source": [
        "train_set.train_labels"
      ],
      "execution_count": 6,
      "outputs": [
        {
          "output_type": "stream",
          "text": [
            "/usr/local/lib/python3.6/dist-packages/torchvision/datasets/mnist.py:48: UserWarning: train_labels has been renamed targets\n",
            "  warnings.warn(\"train_labels has been renamed targets\")\n"
          ],
          "name": "stderr"
        },
        {
          "output_type": "execute_result",
          "data": {
            "text/plain": [
              "tensor([35, 36,  6,  ...,  5, 11, 22])"
            ]
          },
          "metadata": {
            "tags": []
          },
          "execution_count": 6
        }
      ]
    },
    {
      "cell_type": "code",
      "metadata": {
        "id": "963_xKoMvwD4",
        "colab": {
          "base_uri": "https://localhost:8080/"
        },
        "outputId": "da137d71-dc12-4a3b-c5d4-27a07f2069eb"
      },
      "source": [
        "train_set.train_labels.bincount() #frequency of each label, we have balanced class here"
      ],
      "execution_count": 7,
      "outputs": [
        {
          "output_type": "stream",
          "text": [
            "/usr/local/lib/python3.6/dist-packages/torchvision/datasets/mnist.py:48: UserWarning: train_labels has been renamed targets\n",
            "  warnings.warn(\"train_labels has been renamed targets\")\n"
          ],
          "name": "stderr"
        },
        {
          "output_type": "execute_result",
          "data": {
            "text/plain": [
              "tensor([34585, 38374, 34203, 35143, 33535, 31416, 34232, 35754, 33946, 33847,  6407,  3878, 10094,  4562,  4934,  9182,\n",
              "         2517,  3152, 11946,  3762,  2468,  5076,  9002,  8237, 24983,  8347,  2605,  5073, 20764,  9820, 12602,  4637,\n",
              "         4695,  2771,  4743,  2701, 10033,  5159,  2854, 10177, 24631,  2561,  3687,  8738,  2725,  1896,  2491, 15318,\n",
              "         2645, 11418,  2749,  2448,  2994, 14105,  2699, 18262,  2830,  2910,  2697,  2822,  2365,  2725])"
            ]
          },
          "metadata": {
            "tags": []
          },
          "execution_count": 7
        }
      ]
    },
    {
      "cell_type": "code",
      "metadata": {
        "id": "6ZDV4g0av1Fs",
        "colab": {
          "base_uri": "https://localhost:8080/"
        },
        "outputId": "7146dcc1-b636-45a2-9c8e-b34055491726"
      },
      "source": [
        "for e in train_set:\n",
        "  print(e)\n",
        "  break"
      ],
      "execution_count": 108,
      "outputs": [
        {
          "output_type": "stream",
          "text": [
            "(tensor([[[0.0000, 0.0000, 0.0000, 0.0000, 0.0000, 0.0000, 0.0000, 0.0000, 0.0000, 0.0000, 0.0000, 0.0000, 0.0000,\n",
            "          0.0000, 0.0000, 0.0000, 0.0000, 0.0000, 0.0000, 0.0000, 0.0000, 0.0000, 0.0000, 0.0000, 0.0000, 0.0000,\n",
            "          0.0000, 0.0000],\n",
            "         [0.0000, 0.0000, 0.0000, 0.0000, 0.0000, 0.0000, 0.0000, 0.0000, 0.0000, 0.0000, 0.0000, 0.0000, 0.0000,\n",
            "          0.0000, 0.0000, 0.0000, 0.0000, 0.0000, 0.0000, 0.0000, 0.0000, 0.0000, 0.0000, 0.0000, 0.0000, 0.0000,\n",
            "          0.0000, 0.0000],\n",
            "         [0.0000, 0.0000, 0.0000, 0.0000, 0.0000, 0.0000, 0.0000, 0.0000, 0.0000, 0.0000, 0.0000, 0.0000, 0.0000,\n",
            "          0.0000, 0.0000, 0.0000, 0.0000, 0.0000, 0.0000, 0.0000, 0.0000, 0.0000, 0.0000, 0.0000, 0.0000, 0.0000,\n",
            "          0.0000, 0.0000],\n",
            "         [0.0000, 0.0000, 0.0000, 0.0000, 0.0000, 0.0000, 0.0000, 0.0000, 0.0000, 0.0000, 0.0000, 0.0000, 0.0000,\n",
            "          0.0000, 0.0000, 0.0000, 0.0000, 0.0000, 0.0000, 0.0000, 0.0000, 0.0000, 0.0000, 0.0000, 0.0000, 0.0000,\n",
            "          0.0000, 0.0000],\n",
            "         [0.0000, 0.0000, 0.0000, 0.0000, 0.0000, 0.0000, 0.0000, 0.0000, 0.0000, 0.0000, 0.0000, 0.0000, 0.0000,\n",
            "          0.0000, 0.0000, 0.0000, 0.0000, 0.0000, 0.0000, 0.0000, 0.0863, 0.3176, 0.4902, 0.3020, 0.0000, 0.0000,\n",
            "          0.0000, 0.0000],\n",
            "         [0.0000, 0.0000, 0.0039, 0.0745, 0.0314, 0.0000, 0.0000, 0.0000, 0.0000, 0.0000, 0.0000, 0.0000, 0.0000,\n",
            "          0.0000, 0.0000, 0.0000, 0.0000, 0.0000, 0.0000, 0.0784, 0.6235, 0.9098, 0.9765, 0.8078, 0.0392, 0.0000,\n",
            "          0.0000, 0.0000],\n",
            "         [0.0000, 0.0000, 0.1333, 0.7882, 0.8118, 0.3529, 0.0039, 0.0000, 0.0000, 0.0000, 0.0000, 0.0000, 0.0000,\n",
            "          0.0000, 0.0000, 0.0000, 0.0000, 0.0000, 0.0941, 0.6667, 0.9961, 0.9961, 0.9961, 0.9922, 0.4431, 0.0157,\n",
            "          0.0000, 0.0000],\n",
            "         [0.0000, 0.0000, 0.3294, 0.9137, 0.9922, 0.8549, 0.0745, 0.0000, 0.0000, 0.0000, 0.0000, 0.0000, 0.0000,\n",
            "          0.0000, 0.0000, 0.0000, 0.0078, 0.0431, 0.5137, 0.9176, 0.9961, 1.0000, 1.0000, 0.9961, 0.4980, 0.0157,\n",
            "          0.0000, 0.0000],\n",
            "         [0.0000, 0.0078, 0.6667, 0.9843, 0.9961, 0.9137, 0.0784, 0.0000, 0.0000, 0.0000, 0.0000, 0.0000, 0.0000,\n",
            "          0.0000, 0.0000, 0.0000, 0.2588, 0.5451, 0.9569, 0.9961, 1.0000, 1.0000, 1.0000, 0.9961, 0.4980, 0.0157,\n",
            "          0.0000, 0.0000],\n",
            "         [0.0000, 0.0078, 0.6784, 0.9882, 0.9961, 0.8510, 0.0157, 0.0000, 0.0000, 0.0000, 0.0000, 0.0000, 0.0000,\n",
            "          0.0000, 0.0275, 0.2314, 0.9098, 0.9961, 0.9961, 0.9961, 0.9961, 0.9961, 1.0000, 0.9961, 0.5059, 0.0196,\n",
            "          0.0000, 0.0000],\n",
            "         [0.0000, 0.0078, 0.6824, 0.9882, 0.9961, 0.8510, 0.0157, 0.0000, 0.0000, 0.0000, 0.0000, 0.0000, 0.0000,\n",
            "          0.0000, 0.3529, 0.8118, 0.9961, 0.9961, 0.9961, 0.9255, 0.9255, 0.9961, 1.0000, 0.9961, 0.6667, 0.0784,\n",
            "          0.0000, 0.0000],\n",
            "         [0.0000, 0.0157, 0.8510, 0.9961, 0.9961, 0.8510, 0.0157, 0.0000, 0.0000, 0.0000, 0.0000, 0.0000, 0.0275,\n",
            "          0.1412, 0.8667, 0.9961, 0.9961, 0.9686, 0.7922, 0.3098, 0.5059, 0.9804, 1.0000, 0.9961, 0.5490, 0.0353,\n",
            "          0.0000, 0.0000],\n",
            "         [0.0000, 0.0157, 0.8510, 0.9961, 0.9961, 0.8706, 0.0353, 0.0000, 0.0000, 0.0000, 0.0000, 0.0039, 0.3529,\n",
            "          0.7961, 0.9765, 0.9961, 0.9608, 0.6431, 0.1333, 0.0275, 0.4980, 0.9804, 1.0000, 0.9961, 0.5059, 0.0196,\n",
            "          0.0000, 0.0000],\n",
            "         [0.0000, 0.0157, 0.8510, 0.9961, 0.9961, 0.9765, 0.1451, 0.0000, 0.0000, 0.0000, 0.0235, 0.3098, 0.9608,\n",
            "          0.9961, 0.9961, 0.9804, 0.3725, 0.0353, 0.0000, 0.0000, 0.4902, 0.9765, 1.0000, 0.9961, 0.7961, 0.1255,\n",
            "          0.0000, 0.0000],\n",
            "         [0.0000, 0.0157, 0.7961, 0.9961, 1.0000, 0.9804, 0.1451, 0.0000, 0.0000, 0.0118, 0.4353, 0.7412, 0.9961,\n",
            "          0.9961, 0.9843, 0.7333, 0.0784, 0.0000, 0.0000, 0.0000, 0.3216, 0.9098, 0.9961, 0.9961, 0.8510, 0.1529,\n",
            "          0.0000, 0.0000],\n",
            "         [0.0000, 0.0000, 0.5059, 0.9804, 1.0000, 0.9804, 0.1529, 0.0000, 0.0118, 0.3098, 0.9686, 0.9961, 0.9961,\n",
            "          0.9843, 0.5137, 0.1255, 0.0000, 0.0000, 0.0000, 0.0000, 0.0314, 0.4980, 0.9961, 1.0000, 0.8980, 0.2745,\n",
            "          0.0000, 0.0000],\n",
            "         [0.0000, 0.0000, 0.4471, 0.9608, 1.0000, 0.9882, 0.3216, 0.0118, 0.1882, 0.6902, 0.9961, 0.9961, 0.9922,\n",
            "          0.8549, 0.0902, 0.0000, 0.0000, 0.0000, 0.0000, 0.0000, 0.0000, 0.2000, 0.9804, 1.0000, 0.9176, 0.3294,\n",
            "          0.0000, 0.0000],\n",
            "         [0.0000, 0.0000, 0.1490, 0.8471, 0.9961, 0.9961, 0.5804, 0.3922, 0.9569, 0.9961, 0.9961, 0.9647, 0.4980,\n",
            "          0.1294, 0.0000, 0.0000, 0.0000, 0.0000, 0.0000, 0.0000, 0.0000, 0.1255, 0.9608, 0.9961, 0.9804, 0.4980,\n",
            "          0.0000, 0.0000],\n",
            "         [0.0000, 0.0000, 0.0824, 0.6745, 0.9961, 0.9961, 0.9255, 0.9216, 0.9961, 0.9961, 0.9804, 0.6863, 0.0392,\n",
            "          0.0000, 0.0000, 0.0000, 0.0000, 0.0000, 0.0000, 0.0000, 0.0000, 0.0353, 0.8627, 0.9961, 0.9804, 0.5490,\n",
            "          0.0000, 0.0000],\n",
            "         [0.0000, 0.0000, 0.0157, 0.4902, 0.9961, 1.0000, 1.0000, 1.0000, 0.9961, 0.9843, 0.3922, 0.0784, 0.0000,\n",
            "          0.0000, 0.0000, 0.0000, 0.0000, 0.0000, 0.0000, 0.0000, 0.0000, 0.0000, 0.4275, 0.9373, 0.9922, 0.7216,\n",
            "          0.0118, 0.0000],\n",
            "         [0.0000, 0.0000, 0.0078, 0.3216, 0.9882, 0.9961, 1.0000, 0.9961, 0.9922, 0.8549, 0.0863, 0.0000, 0.0000,\n",
            "          0.0000, 0.0000, 0.0000, 0.0000, 0.0000, 0.0000, 0.0000, 0.0000, 0.0000, 0.4510, 0.9608, 0.9961, 0.8039,\n",
            "          0.0157, 0.0000],\n",
            "         [0.0000, 0.0000, 0.0000, 0.1333, 0.9529, 0.9961, 1.0000, 0.9961, 0.8667, 0.3569, 0.0039, 0.0000, 0.0000,\n",
            "          0.0000, 0.0000, 0.0000, 0.0000, 0.0000, 0.0000, 0.0000, 0.0000, 0.0000, 0.4275, 0.9098, 0.9961, 0.8510,\n",
            "          0.0157, 0.0000],\n",
            "         [0.0000, 0.0000, 0.0000, 0.0039, 0.4824, 0.9098, 0.9922, 0.9098, 0.3059, 0.0118, 0.0000, 0.0000, 0.0000,\n",
            "          0.0000, 0.0000, 0.0000, 0.0000, 0.0000, 0.0000, 0.0000, 0.0000, 0.0000, 0.0157, 0.3098, 0.8353, 0.6000,\n",
            "          0.0078, 0.0000],\n",
            "         [0.0000, 0.0000, 0.0000, 0.0000, 0.0863, 0.4941, 0.7922, 0.3725, 0.0275, 0.0000, 0.0000, 0.0000, 0.0000,\n",
            "          0.0000, 0.0000, 0.0000, 0.0000, 0.0000, 0.0000, 0.0000, 0.0000, 0.0000, 0.0000, 0.0275, 0.1412, 0.0784,\n",
            "          0.0000, 0.0000],\n",
            "         [0.0000, 0.0000, 0.0000, 0.0000, 0.0000, 0.0078, 0.0157, 0.0000, 0.0000, 0.0000, 0.0000, 0.0000, 0.0000,\n",
            "          0.0000, 0.0000, 0.0000, 0.0000, 0.0000, 0.0000, 0.0000, 0.0000, 0.0000, 0.0000, 0.0000, 0.0000, 0.0000,\n",
            "          0.0000, 0.0000],\n",
            "         [0.0000, 0.0000, 0.0000, 0.0000, 0.0000, 0.0000, 0.0000, 0.0000, 0.0000, 0.0000, 0.0000, 0.0000, 0.0000,\n",
            "          0.0000, 0.0000, 0.0000, 0.0000, 0.0000, 0.0000, 0.0000, 0.0000, 0.0000, 0.0000, 0.0000, 0.0000, 0.0000,\n",
            "          0.0000, 0.0000],\n",
            "         [0.0000, 0.0000, 0.0000, 0.0000, 0.0000, 0.0000, 0.0000, 0.0000, 0.0000, 0.0000, 0.0000, 0.0000, 0.0000,\n",
            "          0.0000, 0.0000, 0.0000, 0.0000, 0.0000, 0.0000, 0.0000, 0.0000, 0.0000, 0.0000, 0.0000, 0.0000, 0.0000,\n",
            "          0.0000, 0.0000],\n",
            "         [0.0000, 0.0000, 0.0000, 0.0000, 0.0000, 0.0000, 0.0000, 0.0000, 0.0000, 0.0000, 0.0000, 0.0000, 0.0000,\n",
            "          0.0000, 0.0000, 0.0000, 0.0000, 0.0000, 0.0000, 0.0000, 0.0000, 0.0000, 0.0000, 0.0000, 0.0000, 0.0000,\n",
            "          0.0000, 0.0000]]]), 35)\n"
          ],
          "name": "stdout"
        }
      ]
    },
    {
      "cell_type": "code",
      "metadata": {
        "id": "vFFeuRrIwJi-",
        "colab": {
          "base_uri": "https://localhost:8080/"
        },
        "outputId": "c8d80b0b-ceb0-4059-f25b-4cce2768e83a"
      },
      "source": [
        "# so you can see we can iterate over our dataset\n",
        "\n",
        "sample = next(iter(range(6200)))\n",
        "sample"
      ],
      "execution_count": 13,
      "outputs": [
        {
          "output_type": "execute_result",
          "data": {
            "text/plain": [
              "0"
            ]
          },
          "metadata": {
            "tags": []
          },
          "execution_count": 13
        }
      ]
    },
    {
      "cell_type": "code",
      "metadata": {
        "id": "i8fLnGBQwbMT",
        "colab": {
          "base_uri": "https://localhost:8080/"
        },
        "outputId": "80d296e6-5243-4523-fd2d-2c57ee5baa7e"
      },
      "source": [
        "sample = next(iter(train_set))\n",
        "\n",
        "len(sample)"
      ],
      "execution_count": 14,
      "outputs": [
        {
          "output_type": "execute_result",
          "data": {
            "text/plain": [
              "2"
            ]
          },
          "metadata": {
            "tags": []
          },
          "execution_count": 14
        }
      ]
    },
    {
      "cell_type": "code",
      "metadata": {
        "id": "KhfoJld3wdFS",
        "colab": {
          "base_uri": "https://localhost:8080/"
        },
        "outputId": "eef8516c-ebd0-46b3-803c-4ca94fac0b05"
      },
      "source": [
        "type(sample)"
      ],
      "execution_count": 15,
      "outputs": [
        {
          "output_type": "execute_result",
          "data": {
            "text/plain": [
              "tuple"
            ]
          },
          "metadata": {
            "tags": []
          },
          "execution_count": 15
        }
      ]
    },
    {
      "cell_type": "code",
      "metadata": {
        "id": "l7tivh0iwoOC"
      },
      "source": [
        "image, label = sample"
      ],
      "execution_count": 16,
      "outputs": []
    },
    {
      "cell_type": "code",
      "metadata": {
        "id": "9a7IcDNywp0o",
        "colab": {
          "base_uri": "https://localhost:8080/"
        },
        "outputId": "3291a59d-1c37-4a3e-eda1-03c4421fd326"
      },
      "source": [
        "# or\n",
        "image = sample[0]\n",
        "label = sample[1]\n",
        "\n",
        "\n",
        "image.shape, label"
      ],
      "execution_count": 17,
      "outputs": [
        {
          "output_type": "execute_result",
          "data": {
            "text/plain": [
              "(torch.Size([1, 28, 28]), 35)"
            ]
          },
          "metadata": {
            "tags": []
          },
          "execution_count": 17
        }
      ]
    },
    {
      "cell_type": "code",
      "metadata": {
        "id": "Uprox6W-wuPa",
        "colab": {
          "base_uri": "https://localhost:8080/",
          "height": 283
        },
        "outputId": "460ea877-6f83-4606-95ad-291c41eaae15"
      },
      "source": [
        "plt.imshow(image.squeeze(), cmap='gray')\n",
        "print('label:', label)"
      ],
      "execution_count": 18,
      "outputs": [
        {
          "output_type": "stream",
          "text": [
            "label: 35\n"
          ],
          "name": "stdout"
        },
        {
          "output_type": "display_data",
          "data": {
            "image/png": "[encoded data removed]",
            "text/plain": [
              "<Figure size 432x288 with 1 Axes>"
            ]
          },
          "metadata": {
            "tags": [],
            "needs_background": "light"
          }
        }
      ]
    },
    {
      "cell_type": "code",
      "metadata": {
        "id": "qWUStQmuxDGw",
        "colab": {
          "base_uri": "https://localhost:8080/"
        },
        "outputId": "f5e1d56d-a387-40a5-de33-7cb2cce55abc"
      },
      "source": [
        "batch = next(iter(train_loader))\n",
        "\n",
        "len(batch), type(batch)"
      ],
      "execution_count": 19,
      "outputs": [
        {
          "output_type": "execute_result",
          "data": {
            "text/plain": [
              "(2, list)"
            ]
          },
          "metadata": {
            "tags": []
          },
          "execution_count": 19
        }
      ]
    },
    {
      "cell_type": "code",
      "metadata": {
        "id": "-yv8RyH4xUFQ"
      },
      "source": [
        "images, labels = batch"
      ],
      "execution_count": 20,
      "outputs": []
    },
    {
      "cell_type": "code",
      "metadata": {
        "id": "1V-_WP4KxV_O",
        "colab": {
          "base_uri": "https://localhost:8080/"
        },
        "outputId": "b42b501a-e715-41ee-c7e4-aa6d828b5de5"
      },
      "source": [
        "image.shape, labels.shape"
      ],
      "execution_count": 21,
      "outputs": [
        {
          "output_type": "execute_result",
          "data": {
            "text/plain": [
              "(torch.Size([1, 28, 28]), torch.Size([10]))"
            ]
          },
          "metadata": {
            "tags": []
          },
          "execution_count": 21
        }
      ]
    },
    {
      "cell_type": "code",
      "metadata": {
        "id": "vZUzOebYxYom",
        "colab": {
          "base_uri": "https://localhost:8080/",
          "height": 157
        },
        "outputId": "be01f605-f5d1-4b0b-e37e-970efbda1d15"
      },
      "source": [
        "grid = torchvision.utils.make_grid(images, nrow=10)\n",
        "plt.figure(figsize=(15,15))\n",
        "plt.imshow(np.transpose(grid, (1,2,0)))\n",
        "print('labels:', labels)"
      ],
      "execution_count": 22,
      "outputs": [
        {
          "output_type": "stream",
          "text": [
            "labels: tensor([ 8, 55, 61,  3, 40, 51, 38,  2, 15, 30])\n"
          ],
          "name": "stdout"
        },
        {
          "output_type": "display_data",
          "data": {
            "image/png": "[encoded data removed]",
            "text/plain": [
              "<Figure size 1080x1080 with 1 Axes>"
            ]
          },
          "metadata": {
            "tags": [],
            "needs_background": "light"
          }
        }
      ]
    },
    {
      "cell_type": "markdown",
      "metadata": {
        "id": "3SAT2cT5x-aC"
      },
      "source": [
        "# Let's build a network\n",
        "\n",
        "Below is the basic structure of a Model"
      ]
    },
    {
      "cell_type": "code",
      "metadata": {
        "id": "xOkUfpwjxpmT"
      },
      "source": [
        "import torch.nn as nn\n",
        "\n",
        "class Network(nn.Module):\n",
        "    def __init__(self):\n",
        "        super().__init__()\n",
        "        self.layer = None\n",
        "\n",
        "    def forward(self, t):\n",
        "        t = self.layer(t)\n",
        "        return t"
      ],
      "execution_count": 23,
      "outputs": []
    },
    {
      "cell_type": "markdown",
      "metadata": {
        "id": "APMKJrmGygcv"
      },
      "source": [
        "Let's make something usable"
      ]
    },
    {
      "cell_type": "code",
      "metadata": {
        "id": "mZKhLOfoyZnB"
      },
      "source": [
        "class Network(nn.Module):\n",
        "    def __init__(self):\n",
        "        super().__init__()\n",
        "        self.conv1 = nn.Conv2d(in_channels=1, out_channels=6, kernel_size=5)\n",
        "        self.conv2 = nn.Conv2d(in_channels=6, out_channels=12, kernel_size=5)\n",
        "\n",
        "        self.fc1 = nn.Linear(in_features=12 * 4 * 4, out_features=120)\n",
        "        self.fc2 = nn.Linear(in_features=120, out_features=60)\n",
        "        self.out = nn.Linear(in_features=60, out_features=10)\n",
        "\n",
        "    def forward(self, t):\n",
        "        # implement the forward pass\n",
        "        return t"
      ],
      "execution_count": 120,
      "outputs": []
    },
    {
      "cell_type": "code",
      "metadata": {
        "id": "79iB8Yc2y7f2",
        "colab": {
          "base_uri": "https://localhost:8080/"
        },
        "outputId": "383ff078-6496-415d-c3ec-a15bb4bc85cf"
      },
      "source": [
        "network = Network()\n",
        "\n",
        "print(network)"
      ],
      "execution_count": 121,
      "outputs": [
        {
          "output_type": "stream",
          "text": [
            "Network(\n",
            "  (conv1): Conv2d(1, 6, kernel_size=(5, 5), stride=(1, 1))\n",
            "  (conv2): Conv2d(6, 12, kernel_size=(5, 5), stride=(1, 1))\n",
            "  (fc1): Linear(in_features=192, out_features=120, bias=True)\n",
            "  (fc2): Linear(in_features=120, out_features=60, bias=True)\n",
            "  (out): Linear(in_features=60, out_features=10, bias=True)\n",
            ")\n"
          ],
          "name": "stdout"
        }
      ]
    },
    {
      "cell_type": "code",
      "metadata": {
        "id": "Pm8wygVny-ui",
        "colab": {
          "base_uri": "https://localhost:8080/"
        },
        "outputId": "1ed4dc2c-9e62-414a-f234-95005f545ecb"
      },
      "source": [
        "# accessing the network layers\n",
        "\n",
        "network.conv1"
      ],
      "execution_count": 122,
      "outputs": [
        {
          "output_type": "execute_result",
          "data": {
            "text/plain": [
              "Conv2d(1, 6, kernel_size=(5, 5), stride=(1, 1))"
            ]
          },
          "metadata": {
            "tags": []
          },
          "execution_count": 122
        }
      ]
    },
    {
      "cell_type": "code",
      "metadata": {
        "id": "mgbfEryCzWEz",
        "colab": {
          "base_uri": "https://localhost:8080/"
        },
        "outputId": "5e995cc9-53fe-414a-8af3-ac12e250ff23"
      },
      "source": [
        "network.conv2"
      ],
      "execution_count": 123,
      "outputs": [
        {
          "output_type": "execute_result",
          "data": {
            "text/plain": [
              "Conv2d(6, 12, kernel_size=(5, 5), stride=(1, 1))"
            ]
          },
          "metadata": {
            "tags": []
          },
          "execution_count": 123
        }
      ]
    },
    {
      "cell_type": "code",
      "metadata": {
        "id": "q1kW-9bczXgX",
        "colab": {
          "base_uri": "https://localhost:8080/"
        },
        "outputId": "62d0d47d-33c3-4a5d-a6e9-2b02b5cef8da"
      },
      "source": [
        "network.fc1"
      ],
      "execution_count": 124,
      "outputs": [
        {
          "output_type": "execute_result",
          "data": {
            "text/plain": [
              "Linear(in_features=192, out_features=120, bias=True)"
            ]
          },
          "metadata": {
            "tags": []
          },
          "execution_count": 124
        }
      ]
    },
    {
      "cell_type": "code",
      "metadata": {
        "id": "e-U5zEcIzYlh",
        "colab": {
          "base_uri": "https://localhost:8080/"
        },
        "outputId": "fe333b03-d699-4616-aea5-c73b8e66452b"
      },
      "source": [
        "network.fc2"
      ],
      "execution_count": 125,
      "outputs": [
        {
          "output_type": "execute_result",
          "data": {
            "text/plain": [
              "Linear(in_features=120, out_features=60, bias=True)"
            ]
          },
          "metadata": {
            "tags": []
          },
          "execution_count": 125
        }
      ]
    },
    {
      "cell_type": "code",
      "metadata": {
        "id": "o7WwX9xizY4W",
        "colab": {
          "base_uri": "https://localhost:8080/"
        },
        "outputId": "e80582b5-17fd-473c-9ce2-8d4ba878b679"
      },
      "source": [
        "network.out"
      ],
      "execution_count": 126,
      "outputs": [
        {
          "output_type": "execute_result",
          "data": {
            "text/plain": [
              "Linear(in_features=60, out_features=10, bias=True)"
            ]
          },
          "metadata": {
            "tags": []
          },
          "execution_count": 126
        }
      ]
    },
    {
      "cell_type": "markdown",
      "metadata": {
        "id": "rqux2WY8zbXo"
      },
      "source": [
        "[link text](https://)### Accessing the Layer Weights"
      ]
    },
    {
      "cell_type": "code",
      "metadata": {
        "id": "xGLqBdodzZpf",
        "colab": {
          "base_uri": "https://localhost:8080/"
        },
        "outputId": "62658e31-7ff2-42b9-9153-e3f8203e3e45"
      },
      "source": [
        "network.conv1.weight"
      ],
      "execution_count": 127,
      "outputs": [
        {
          "output_type": "execute_result",
          "data": {
            "text/plain": [
              "Parameter containing:\n",
              "tensor([[[[ 0.0172,  0.1129,  0.0045,  0.1429, -0.0464],\n",
              "          [ 0.0549, -0.0768, -0.1438,  0.0918, -0.0327],\n",
              "          [ 0.1884,  0.1615, -0.1440, -0.0442,  0.1474],\n",
              "          [-0.1360,  0.1141, -0.1710, -0.0144, -0.0615],\n",
              "          [-0.1532,  0.0379, -0.1173, -0.0666,  0.0096]]],\n",
              "\n",
              "\n",
              "        [[[-0.1311,  0.0528,  0.0819,  0.0725, -0.0499],\n",
              "          [-0.0451,  0.0270, -0.0166,  0.1002,  0.1965],\n",
              "          [ 0.1313, -0.1323,  0.0297,  0.0532,  0.0896],\n",
              "          [ 0.1224, -0.1941, -0.0175,  0.0748, -0.0231],\n",
              "          [-0.0775, -0.1106,  0.0301, -0.1489,  0.1109]]],\n",
              "\n",
              "\n",
              "        [[[-0.0022, -0.0872,  0.0137,  0.1781, -0.0866],\n",
              "          [-0.1193,  0.0066,  0.1070,  0.0975, -0.0525],\n",
              "          [ 0.0813,  0.1162,  0.0511,  0.0206, -0.1302],\n",
              "          [ 0.1163,  0.0003,  0.0188,  0.1163,  0.1247],\n",
              "          [-0.0974,  0.0885,  0.1251, -0.1939, -0.1518]]],\n",
              "\n",
              "\n",
              "        [[[ 0.0840,  0.0674,  0.0666, -0.1820, -0.0618],\n",
              "          [ 0.1915, -0.0552, -0.1253,  0.0326, -0.0268],\n",
              "          [-0.0672, -0.0103, -0.1260,  0.1791, -0.1259],\n",
              "          [ 0.1180, -0.0350,  0.1442, -0.0723,  0.1464],\n",
              "          [ 0.0750, -0.1602, -0.0270,  0.0945,  0.1706]]],\n",
              "\n",
              "\n",
              "        [[[-0.1013, -0.1755, -0.1170,  0.1381,  0.0331],\n",
              "          [ 0.0546,  0.1373, -0.0389, -0.1038,  0.0672],\n",
              "          [ 0.1142,  0.1966, -0.1739, -0.1677, -0.1236],\n",
              "          [-0.1871,  0.1608,  0.1423, -0.1608, -0.0789],\n",
              "          [-0.0305,  0.0183,  0.0502,  0.0399, -0.1962]]],\n",
              "\n",
              "\n",
              "        [[[-0.0075,  0.0479, -0.1409,  0.0739,  0.0054],\n",
              "          [ 0.0291,  0.0324, -0.0945, -0.0048,  0.1465],\n",
              "          [-0.0798, -0.0526, -0.1303,  0.0643,  0.1485],\n",
              "          [-0.1877,  0.1017,  0.1968, -0.0781,  0.0679],\n",
              "          [-0.0069, -0.0916,  0.0560,  0.1410,  0.0925]]]], requires_grad=True)"
            ]
          },
          "metadata": {
            "tags": []
          },
          "execution_count": 127
        }
      ]
    },
    {
      "cell_type": "code",
      "metadata": {
        "id": "wFr1G6AOzeqh",
        "colab": {
          "base_uri": "https://localhost:8080/"
        },
        "outputId": "d10f2c53-dd0e-4af5-91af-97078c9642e6"
      },
      "source": [
        "network.fc2.weight"
      ],
      "execution_count": 128,
      "outputs": [
        {
          "output_type": "execute_result",
          "data": {
            "text/plain": [
              "Parameter containing:\n",
              "tensor([[-0.0277, -0.0808,  0.0077,  ..., -0.0856,  0.0873,  0.0772],\n",
              "        [ 0.0672,  0.0171,  0.0353,  ..., -0.0579,  0.0606, -0.0809],\n",
              "        [ 0.0264, -0.0846, -0.0670,  ...,  0.0782, -0.0029,  0.0723],\n",
              "        ...,\n",
              "        [-0.0033, -0.0831, -0.0104,  ..., -0.0857, -0.0357, -0.0679],\n",
              "        [ 0.0529,  0.0474,  0.0539,  ...,  0.0532,  0.0863,  0.0469],\n",
              "        [ 0.0864,  0.0061, -0.0331,  ..., -0.0797,  0.0097,  0.0256]], requires_grad=True)"
            ]
          },
          "metadata": {
            "tags": []
          },
          "execution_count": 128
        }
      ]
    },
    {
      "cell_type": "code",
      "metadata": {
        "id": "-NCjZmXFzkNj",
        "colab": {
          "base_uri": "https://localhost:8080/"
        },
        "outputId": "554e2a9e-72b0-437a-9e3a-2b0ed1ac5fc4"
      },
      "source": [
        "network.fc1.weight.shape"
      ],
      "execution_count": 129,
      "outputs": [
        {
          "output_type": "execute_result",
          "data": {
            "text/plain": [
              "torch.Size([120, 192])"
            ]
          },
          "metadata": {
            "tags": []
          },
          "execution_count": 129
        }
      ]
    },
    {
      "cell_type": "code",
      "metadata": {
        "id": "EuL52GGfzshd",
        "colab": {
          "base_uri": "https://localhost:8080/"
        },
        "outputId": "2067549c-d229-403e-8a53-288420d12262"
      },
      "source": [
        "network.out.weight.shape"
      ],
      "execution_count": 130,
      "outputs": [
        {
          "output_type": "execute_result",
          "data": {
            "text/plain": [
              "torch.Size([10, 60])"
            ]
          },
          "metadata": {
            "tags": []
          },
          "execution_count": 130
        }
      ]
    },
    {
      "cell_type": "code",
      "metadata": {
        "id": "8rMINNPrz_8W",
        "colab": {
          "base_uri": "https://localhost:8080/"
        },
        "outputId": "08549bbd-6706-4352-80ba-7bc9cfb66743"
      },
      "source": [
        "for param in network.parameters():\n",
        "    print(param.shape)"
      ],
      "execution_count": 131,
      "outputs": [
        {
          "output_type": "stream",
          "text": [
            "torch.Size([6, 1, 5, 5])\n",
            "torch.Size([6])\n",
            "torch.Size([12, 6, 5, 5])\n",
            "torch.Size([12])\n",
            "torch.Size([120, 192])\n",
            "torch.Size([120])\n",
            "torch.Size([60, 120])\n",
            "torch.Size([60])\n",
            "torch.Size([10, 60])\n",
            "torch.Size([10])\n"
          ],
          "name": "stdout"
        }
      ]
    },
    {
      "cell_type": "code",
      "metadata": {
        "id": "xMxLuboL0IF_",
        "colab": {
          "base_uri": "https://localhost:8080/"
        },
        "outputId": "91a07e30-1d70-47c1-92b3-6fe5902190c7"
      },
      "source": [
        "for name, param in network.named_parameters():\n",
        "    print(name, '\\t\\t', param.shape)"
      ],
      "execution_count": 132,
      "outputs": [
        {
          "output_type": "stream",
          "text": [
            "conv1.weight \t\t torch.Size([6, 1, 5, 5])\n",
            "conv1.bias \t\t torch.Size([6])\n",
            "conv2.weight \t\t torch.Size([12, 6, 5, 5])\n",
            "conv2.bias \t\t torch.Size([12])\n",
            "fc1.weight \t\t torch.Size([120, 192])\n",
            "fc1.bias \t\t torch.Size([120])\n",
            "fc2.weight \t\t torch.Size([60, 120])\n",
            "fc2.bias \t\t torch.Size([60])\n",
            "out.weight \t\t torch.Size([10, 60])\n",
            "out.bias \t\t torch.Size([10])\n"
          ],
          "name": "stdout"
        }
      ]
    },
    {
      "cell_type": "markdown",
      "metadata": {
        "id": "sRxFavog0guT"
      },
      "source": [
        "### Full Network"
      ]
    },
    {
      "cell_type": "code",
      "metadata": {
        "id": "Cke1USA00Jqz"
      },
      "source": [
        "import torch.nn.functional as F\n",
        "class Network(nn.Module):\n",
        "    def __init__(self):\n",
        "        super().__init__()\n",
        "\n",
        "        self.convblock1 = nn.Sequential(\n",
        "            nn.Conv2d(in_channels=1, out_channels=10, kernel_size=(3, 3), padding=0, bias=False),\n",
        "            nn.ReLU()\n",
        "        ) # input_size = 28 output_size = 26 receptive_field = 3\n",
        "\n",
        "        self.convblock2 = nn.Sequential(\n",
        "            nn.Conv2d(in_channels=10, out_channels=10, kernel_size=(3, 3), padding=0, bias=False),\n",
        "            nn.ReLU()\n",
        "        ) # input_size = 13 output_size = 11 receptive_field = 8\n",
        "\n",
        "        self.convblock3 = nn.Sequential(\n",
        "            nn.Conv2d(in_channels=10, out_channels=20, kernel_size=(3, 3), padding=0, bias=False),\n",
        "            nn.ReLU()\n",
        "        ) # input_size = 11 output_size = 9 receptive_field = 10\n",
        "\n",
        "        self.pool1 = nn.MaxPool2d(2, 2) # input_size = 26 output_size = 13 receptive_field = 6\n",
        "\n",
        "        self.convblock4 = nn.Sequential(\n",
        "            nn.Conv2d(in_channels=20, out_channels=20, kernel_size=(3, 3), padding=0, bias=False),\n",
        "            nn.ReLU()\n",
        "        ) # input_size = 9 output_size = 7 receptive_field = 12\n",
        "\n",
        "        self.convblock5 = nn.Sequential(\n",
        "            nn.Conv2d(in_channels=20, out_channels=30, kernel_size=(3, 3), padding=0, bias=False),\n",
        "            nn.ReLU()\n",
        "        ) # input_size = 7 output_size = 5 receptive_field = 13\n",
        "\n",
        "        self.convblock6 = nn.Sequential(\n",
        "            nn.Conv2d(in_channels=30, out_channels=62, kernel_size=(3, 3), padding=0, bias=False),\n",
        "        ) # input_size = 5 output_size = 3 receptive_field = 15\n",
        "\n",
        "        self.out =  nn.AdaptiveAvgPool2d(1)\n",
        "\n",
        "    def forward(self, t):\n",
        "        # (1) input layer\n",
        "        t = t\n",
        "\n",
        "        # (2) hidden conv layer 1\n",
        "        t = self.convblock1(t) \n",
        "        \n",
        "        # (3) hidden conv layer 2\n",
        "        t = self.convblock2(t) \n",
        "        \n",
        "        # (4) hidden linear layer 3\n",
        "        t = self.convblock3(t) \n",
        "\n",
        "        t = self.pool1(t) \n",
        "\n",
        "        # (5) hidden linear layer 4\n",
        "        t = self.convblock4(t)\n",
        "        \n",
        "        # (6) hidden linear layer 5\n",
        "        t = self.convblock5(t)\n",
        "        \n",
        "        # (7) hidden linear layer 6\n",
        "        t = self.convblock6(t)\n",
        "        \n",
        "        # (8) output layer\n",
        "        t = self.out(t)\n",
        "        t = t.view(-1,62)\n",
        "        t = F.softmax(t, dim=1)\n",
        "\n",
        "        return t"
      ],
      "execution_count": 305,
      "outputs": []
    },
    {
      "cell_type": "code",
      "metadata": {
        "id": "FvP-prOP0m_P"
      },
      "source": [
        "# We can turn the dynamic graphing/gradients feature OFF, since we aren't going to be training it for sometime. It also saves memory"
      ],
      "execution_count": 306,
      "outputs": []
    },
    {
      "cell_type": "code",
      "metadata": {
        "id": "AxqezksJ1LYa",
        "colab": {
          "base_uri": "https://localhost:8080/"
        },
        "outputId": "e6585c30-3692-4321-b20c-c25b86271fa7"
      },
      "source": [
        "torch.set_grad_enabled(False)"
      ],
      "execution_count": 307,
      "outputs": [
        {
          "output_type": "execute_result",
          "data": {
            "text/plain": [
              "<torch.autograd.grad_mode.set_grad_enabled at 0x7fa12066ae10>"
            ]
          },
          "metadata": {
            "tags": []
          },
          "execution_count": 307
        }
      ]
    },
    {
      "cell_type": "code",
      "metadata": {
        "id": "UbQHPlZy1NNQ",
        "colab": {
          "base_uri": "https://localhost:8080/"
        },
        "outputId": "2847e4ac-ee94-408f-c543-13856b52bae2"
      },
      "source": [
        "sample = next(iter(train_set)) \n",
        "image, label = sample\n",
        "image.shape, image.unsqueeze(0).shape"
      ],
      "execution_count": 308,
      "outputs": [
        {
          "output_type": "execute_result",
          "data": {
            "text/plain": [
              "(torch.Size([1, 28, 28]), torch.Size([1, 1, 28, 28]))"
            ]
          },
          "metadata": {
            "tags": []
          },
          "execution_count": 308
        }
      ]
    },
    {
      "cell_type": "code",
      "metadata": {
        "id": "NIl8xuyW1YN-"
      },
      "source": [
        "network = Network()\n",
        "pred = network(image.unsqueeze(0)) # image shape needs to be (batch_size × in_channels × H × W)\n"
      ],
      "execution_count": 309,
      "outputs": []
    },
    {
      "cell_type": "code",
      "metadata": {
        "id": "l3ycjF4Q1bsF",
        "colab": {
          "base_uri": "https://localhost:8080/"
        },
        "outputId": "f901b70f-0b9a-4871-e862-22eff8b23535"
      },
      "source": [
        "pred"
      ],
      "execution_count": 310,
      "outputs": [
        {
          "output_type": "execute_result",
          "data": {
            "text/plain": [
              "tensor([[0.0162, 0.0161, 0.0161, 0.0161, 0.0161, 0.0161, 0.0161, 0.0161, 0.0161, 0.0162, 0.0161, 0.0161, 0.0162, 0.0161,\n",
              "         0.0160, 0.0161, 0.0161, 0.0161, 0.0161, 0.0161, 0.0162, 0.0161, 0.0161, 0.0162, 0.0161, 0.0161, 0.0162, 0.0161,\n",
              "         0.0162, 0.0161, 0.0161, 0.0161, 0.0161, 0.0161, 0.0162, 0.0161, 0.0161, 0.0161, 0.0162, 0.0162, 0.0162, 0.0162,\n",
              "         0.0161, 0.0161, 0.0161, 0.0161, 0.0161, 0.0161, 0.0162, 0.0162, 0.0160, 0.0161, 0.0162, 0.0161, 0.0161, 0.0161,\n",
              "         0.0162, 0.0162, 0.0162, 0.0162, 0.0161, 0.0162]])"
            ]
          },
          "metadata": {
            "tags": []
          },
          "execution_count": 310
        }
      ]
    },
    {
      "cell_type": "code",
      "metadata": {
        "id": "320AJS3P1dri",
        "colab": {
          "base_uri": "https://localhost:8080/"
        },
        "outputId": "9369308b-5120-4459-c898-fd7684f78ec3"
      },
      "source": [
        "pred.shape"
      ],
      "execution_count": 311,
      "outputs": [
        {
          "output_type": "execute_result",
          "data": {
            "text/plain": [
              "torch.Size([1, 62])"
            ]
          },
          "metadata": {
            "tags": []
          },
          "execution_count": 311
        }
      ]
    },
    {
      "cell_type": "code",
      "metadata": {
        "id": "WCW3hPT51e6e",
        "colab": {
          "base_uri": "https://localhost:8080/"
        },
        "outputId": "1a9a560d-bbb3-4b65-8169-d4e249c0fad2"
      },
      "source": [
        "label"
      ],
      "execution_count": 312,
      "outputs": [
        {
          "output_type": "execute_result",
          "data": {
            "text/plain": [
              "35"
            ]
          },
          "metadata": {
            "tags": []
          },
          "execution_count": 312
        }
      ]
    },
    {
      "cell_type": "code",
      "metadata": {
        "id": "_BySjUxN2M5Z",
        "colab": {
          "base_uri": "https://localhost:8080/"
        },
        "outputId": "6445b8bb-e15c-4459-c204-263e4c966397"
      },
      "source": [
        "pred.argmax(dim=1)"
      ],
      "execution_count": 313,
      "outputs": [
        {
          "output_type": "execute_result",
          "data": {
            "text/plain": [
              "tensor([49])"
            ]
          },
          "metadata": {
            "tags": []
          },
          "execution_count": 313
        }
      ]
    },
    {
      "cell_type": "code",
      "metadata": {
        "id": "eevFji4O2P2N",
        "colab": {
          "base_uri": "https://localhost:8080/"
        },
        "outputId": "c193de01-b8f9-4387-a656-75f08f0344ef"
      },
      "source": [
        "F.softmax(pred, dim=1)"
      ],
      "execution_count": 314,
      "outputs": [
        {
          "output_type": "execute_result",
          "data": {
            "text/plain": [
              "tensor([[0.0161, 0.0161, 0.0161, 0.0161, 0.0161, 0.0161, 0.0161, 0.0161, 0.0161, 0.0161, 0.0161, 0.0161, 0.0161, 0.0161,\n",
              "         0.0161, 0.0161, 0.0161, 0.0161, 0.0161, 0.0161, 0.0161, 0.0161, 0.0161, 0.0161, 0.0161, 0.0161, 0.0161, 0.0161,\n",
              "         0.0161, 0.0161, 0.0161, 0.0161, 0.0161, 0.0161, 0.0161, 0.0161, 0.0161, 0.0161, 0.0161, 0.0161, 0.0161, 0.0161,\n",
              "         0.0161, 0.0161, 0.0161, 0.0161, 0.0161, 0.0161, 0.0161, 0.0161, 0.0161, 0.0161, 0.0161, 0.0161, 0.0161, 0.0161,\n",
              "         0.0161, 0.0161, 0.0161, 0.0161, 0.0161, 0.0161]])"
            ]
          },
          "metadata": {
            "tags": []
          },
          "execution_count": 314
        }
      ]
    },
    {
      "cell_type": "code",
      "metadata": {
        "id": "QvykZneI2ZLK",
        "colab": {
          "base_uri": "https://localhost:8080/"
        },
        "outputId": "79e68e23-0711-418a-e85b-c013707c1f26"
      },
      "source": [
        "F.softmax(pred, dim=1).sum()"
      ],
      "execution_count": 315,
      "outputs": [
        {
          "output_type": "execute_result",
          "data": {
            "text/plain": [
              "tensor(1.)"
            ]
          },
          "metadata": {
            "tags": []
          },
          "execution_count": 315
        }
      ]
    },
    {
      "cell_type": "markdown",
      "metadata": {
        "id": "OIUWuHlF2vd0"
      },
      "source": [
        "But that was 1 image only, lets now send a batch of images. "
      ]
    },
    {
      "cell_type": "code",
      "metadata": {
        "id": "rVVEr-d92cGP",
        "colab": {
          "base_uri": "https://localhost:8080/"
        },
        "outputId": "6f54d774-e3a1-4392-dbe6-3c14e4c738e5"
      },
      "source": [
        "data_loader = torch.utils.data.DataLoader(\n",
        "    train_set, \n",
        "    batch_size=10\n",
        ")\n",
        "\n",
        "batch = next(iter(data_loader))\n",
        "len(batch)"
      ],
      "execution_count": 238,
      "outputs": [
        {
          "output_type": "execute_result",
          "data": {
            "text/plain": [
              "2"
            ]
          },
          "metadata": {
            "tags": []
          },
          "execution_count": 238
        }
      ]
    },
    {
      "cell_type": "code",
      "metadata": {
        "id": "WB7ll75W29wk",
        "colab": {
          "base_uri": "https://localhost:8080/"
        },
        "outputId": "5f07084a-ceac-4c7d-8a67-4bfa37356c2b"
      },
      "source": [
        "batch[1]"
      ],
      "execution_count": 239,
      "outputs": [
        {
          "output_type": "execute_result",
          "data": {
            "text/plain": [
              "tensor([35, 36,  6,  3, 22, 38,  5,  9, 47,  4])"
            ]
          },
          "metadata": {
            "tags": []
          },
          "execution_count": 239
        }
      ]
    },
    {
      "cell_type": "code",
      "metadata": {
        "id": "dR-lLMIN3K66"
      },
      "source": [
        "images, labels = batch"
      ],
      "execution_count": 240,
      "outputs": []
    },
    {
      "cell_type": "code",
      "metadata": {
        "id": "pKQR8Hc33Ntm",
        "colab": {
          "base_uri": "https://localhost:8080/"
        },
        "outputId": "d0ac403f-33a0-4523-be38-a9063e50ad04"
      },
      "source": [
        "images.shape"
      ],
      "execution_count": 241,
      "outputs": [
        {
          "output_type": "execute_result",
          "data": {
            "text/plain": [
              "torch.Size([10, 1, 28, 28])"
            ]
          },
          "metadata": {
            "tags": []
          },
          "execution_count": 241
        }
      ]
    },
    {
      "cell_type": "code",
      "metadata": {
        "id": "3_A8awID3QpU",
        "colab": {
          "base_uri": "https://localhost:8080/"
        },
        "outputId": "1e5387c0-d592-4eda-dff2-aa64c954a5c8"
      },
      "source": [
        "preds = network(images)\n",
        "\n",
        "preds.shape"
      ],
      "execution_count": 242,
      "outputs": [
        {
          "output_type": "execute_result",
          "data": {
            "text/plain": [
              "torch.Size([10, 62])"
            ]
          },
          "metadata": {
            "tags": []
          },
          "execution_count": 242
        }
      ]
    },
    {
      "cell_type": "code",
      "metadata": {
        "id": "pEWre3vC3UVs",
        "colab": {
          "base_uri": "https://localhost:8080/"
        },
        "outputId": "c7ae80ed-9fd8-4c1f-bd0f-2054ddaffe30"
      },
      "source": [
        "preds"
      ],
      "execution_count": 243,
      "outputs": [
        {
          "output_type": "execute_result",
          "data": {
            "text/plain": [
              "tensor([[0.0161, 0.0162, 0.0161, 0.0162, 0.0162, 0.0161, 0.0161, 0.0161, 0.0161, 0.0161, 0.0161, 0.0161, 0.0161, 0.0161,\n",
              "         0.0162, 0.0161, 0.0161, 0.0161, 0.0162, 0.0161, 0.0161, 0.0161, 0.0161, 0.0162, 0.0161, 0.0161, 0.0162, 0.0162,\n",
              "         0.0161, 0.0161, 0.0161, 0.0161, 0.0161, 0.0161, 0.0161, 0.0161, 0.0161, 0.0161, 0.0161, 0.0161, 0.0161, 0.0162,\n",
              "         0.0161, 0.0161, 0.0162, 0.0161, 0.0161, 0.0161, 0.0161, 0.0161, 0.0161, 0.0161, 0.0161, 0.0162, 0.0161, 0.0161,\n",
              "         0.0161, 0.0162, 0.0161, 0.0161, 0.0161, 0.0161],\n",
              "        [0.0161, 0.0162, 0.0161, 0.0161, 0.0162, 0.0161, 0.0161, 0.0161, 0.0161, 0.0161, 0.0161, 0.0161, 0.0161, 0.0161,\n",
              "         0.0162, 0.0161, 0.0161, 0.0161, 0.0162, 0.0161, 0.0161, 0.0161, 0.0161, 0.0162, 0.0161, 0.0161, 0.0161, 0.0162,\n",
              "         0.0161, 0.0161, 0.0161, 0.0161, 0.0161, 0.0162, 0.0161, 0.0161, 0.0161, 0.0161, 0.0161, 0.0161, 0.0161, 0.0161,\n",
              "         0.0161, 0.0161, 0.0161, 0.0161, 0.0161, 0.0161, 0.0161, 0.0161, 0.0161, 0.0162, 0.0161, 0.0161, 0.0161, 0.0161,\n",
              "         0.0162, 0.0162, 0.0161, 0.0161, 0.0161, 0.0161],\n",
              "        [0.0161, 0.0162, 0.0161, 0.0162, 0.0161, 0.0162, 0.0161, 0.0161, 0.0161, 0.0161, 0.0161, 0.0161, 0.0161, 0.0161,\n",
              "         0.0163, 0.0161, 0.0161, 0.0161, 0.0162, 0.0161, 0.0161, 0.0161, 0.0162, 0.0162, 0.0161, 0.0161, 0.0162, 0.0161,\n",
              "         0.0161, 0.0161, 0.0161, 0.0161, 0.0161, 0.0162, 0.0161, 0.0161, 0.0161, 0.0161, 0.0161, 0.0161, 0.0161, 0.0161,\n",
              "         0.0161, 0.0161, 0.0161, 0.0161, 0.0161, 0.0161, 0.0161, 0.0161, 0.0161, 0.0162, 0.0161, 0.0161, 0.0161, 0.0161,\n",
              "         0.0161, 0.0163, 0.0161, 0.0162, 0.0161, 0.0161],\n",
              "        [0.0161, 0.0162, 0.0161, 0.0161, 0.0161, 0.0161, 0.0161, 0.0162, 0.0162, 0.0162, 0.0161, 0.0162, 0.0161, 0.0161,\n",
              "         0.0162, 0.0161, 0.0161, 0.0161, 0.0162, 0.0161, 0.0161, 0.0162, 0.0161, 0.0161, 0.0161, 0.0161, 0.0161, 0.0161,\n",
              "         0.0161, 0.0161, 0.0161, 0.0161, 0.0161, 0.0161, 0.0161, 0.0161, 0.0161, 0.0161, 0.0161, 0.0161, 0.0162, 0.0161,\n",
              "         0.0161, 0.0162, 0.0161, 0.0162, 0.0161, 0.0161, 0.0161, 0.0161, 0.0161, 0.0161, 0.0161, 0.0161, 0.0161, 0.0161,\n",
              "         0.0162, 0.0162, 0.0161, 0.0161, 0.0161, 0.0161],\n",
              "        [0.0161, 0.0161, 0.0161, 0.0161, 0.0162, 0.0161, 0.0161, 0.0162, 0.0161, 0.0161, 0.0161, 0.0161, 0.0161, 0.0161,\n",
              "         0.0162, 0.0161, 0.0161, 0.0161, 0.0161, 0.0161, 0.0161, 0.0162, 0.0161, 0.0161, 0.0161, 0.0162, 0.0161, 0.0161,\n",
              "         0.0161, 0.0161, 0.0161, 0.0161, 0.0161, 0.0162, 0.0161, 0.0161, 0.0161, 0.0161, 0.0161, 0.0161, 0.0161, 0.0161,\n",
              "         0.0161, 0.0162, 0.0161, 0.0161, 0.0161, 0.0161, 0.0161, 0.0161, 0.0161, 0.0162, 0.0161, 0.0162, 0.0161, 0.0161,\n",
              "         0.0161, 0.0162, 0.0161, 0.0161, 0.0161, 0.0161],\n",
              "        [0.0161, 0.0162, 0.0161, 0.0161, 0.0162, 0.0162, 0.0161, 0.0162, 0.0161, 0.0161, 0.0161, 0.0161, 0.0161, 0.0161,\n",
              "         0.0162, 0.0161, 0.0161, 0.0161, 0.0162, 0.0161, 0.0162, 0.0162, 0.0161, 0.0162, 0.0161, 0.0161, 0.0161, 0.0161,\n",
              "         0.0161, 0.0161, 0.0161, 0.0161, 0.0161, 0.0162, 0.0161, 0.0161, 0.0161, 0.0161, 0.0161, 0.0161, 0.0161, 0.0161,\n",
              "         0.0161, 0.0161, 0.0161, 0.0161, 0.0161, 0.0161, 0.0161, 0.0161, 0.0161, 0.0162, 0.0161, 0.0162, 0.0161, 0.0161,\n",
              "         0.0161, 0.0162, 0.0161, 0.0161, 0.0161, 0.0161],\n",
              "        [0.0161, 0.0162, 0.0161, 0.0161, 0.0162, 0.0162, 0.0161, 0.0161, 0.0161, 0.0161, 0.0161, 0.0161, 0.0161, 0.0161,\n",
              "         0.0162, 0.0162, 0.0161, 0.0161, 0.0162, 0.0162, 0.0162, 0.0162, 0.0161, 0.0161, 0.0161, 0.0161, 0.0161, 0.0161,\n",
              "         0.0161, 0.0162, 0.0161, 0.0161, 0.0161, 0.0161, 0.0161, 0.0161, 0.0161, 0.0161, 0.0161, 0.0161, 0.0161, 0.0161,\n",
              "         0.0161, 0.0161, 0.0161, 0.0161, 0.0161, 0.0161, 0.0161, 0.0161, 0.0161, 0.0161, 0.0161, 0.0161, 0.0161, 0.0161,\n",
              "         0.0161, 0.0162, 0.0161, 0.0161, 0.0161, 0.0161],\n",
              "        [0.0161, 0.0162, 0.0161, 0.0161, 0.0162, 0.0161, 0.0161, 0.0161, 0.0161, 0.0161, 0.0161, 0.0161, 0.0161, 0.0161,\n",
              "         0.0161, 0.0161, 0.0161, 0.0161, 0.0162, 0.0161, 0.0161, 0.0162, 0.0161, 0.0162, 0.0161, 0.0161, 0.0162, 0.0162,\n",
              "         0.0161, 0.0161, 0.0161, 0.0161, 0.0161, 0.0161, 0.0161, 0.0161, 0.0161, 0.0161, 0.0161, 0.0161, 0.0161, 0.0161,\n",
              "         0.0161, 0.0161, 0.0162, 0.0161, 0.0161, 0.0161, 0.0161, 0.0161, 0.0161, 0.0161, 0.0161, 0.0161, 0.0161, 0.0161,\n",
              "         0.0161, 0.0162, 0.0161, 0.0161, 0.0161, 0.0161],\n",
              "        [0.0162, 0.0162, 0.0161, 0.0162, 0.0162, 0.0161, 0.0161, 0.0161, 0.0161, 0.0161, 0.0161, 0.0161, 0.0161, 0.0161,\n",
              "         0.0161, 0.0161, 0.0161, 0.0162, 0.0162, 0.0161, 0.0161, 0.0162, 0.0161, 0.0162, 0.0162, 0.0161, 0.0162, 0.0161,\n",
              "         0.0161, 0.0162, 0.0161, 0.0161, 0.0161, 0.0161, 0.0161, 0.0161, 0.0161, 0.0161, 0.0161, 0.0161, 0.0161, 0.0161,\n",
              "         0.0161, 0.0161, 0.0162, 0.0161, 0.0161, 0.0161, 0.0161, 0.0161, 0.0161, 0.0161, 0.0161, 0.0161, 0.0161, 0.0161,\n",
              "         0.0161, 0.0162, 0.0161, 0.0161, 0.0161, 0.0161],\n",
              "        [0.0161, 0.0162, 0.0161, 0.0162, 0.0162, 0.0161, 0.0162, 0.0162, 0.0161, 0.0161, 0.0161, 0.0161, 0.0161, 0.0161,\n",
              "         0.0162, 0.0161, 0.0161, 0.0161, 0.0162, 0.0161, 0.0161, 0.0162, 0.0161, 0.0162, 0.0161, 0.0161, 0.0162, 0.0162,\n",
              "         0.0161, 0.0162, 0.0161, 0.0161, 0.0161, 0.0162, 0.0161, 0.0161, 0.0161, 0.0161, 0.0161, 0.0161, 0.0161, 0.0161,\n",
              "         0.0161, 0.0161, 0.0162, 0.0161, 0.0161, 0.0161, 0.0161, 0.0161, 0.0161, 0.0162, 0.0161, 0.0161, 0.0161, 0.0161,\n",
              "         0.0161, 0.0162, 0.0161, 0.0161, 0.0161, 0.0161]])"
            ]
          },
          "metadata": {
            "tags": []
          },
          "execution_count": 243
        }
      ]
    },
    {
      "cell_type": "code",
      "metadata": {
        "id": "URRkHOYB3WFM",
        "colab": {
          "base_uri": "https://localhost:8080/"
        },
        "outputId": "1f85610a-0d95-4d85-957c-8763e9ab2215"
      },
      "source": [
        "preds.argmax(dim=1)"
      ],
      "execution_count": 244,
      "outputs": [
        {
          "output_type": "execute_result",
          "data": {
            "text/plain": [
              "tensor([ 1, 57, 57, 57, 14, 14, 29,  1, 21, 57])"
            ]
          },
          "metadata": {
            "tags": []
          },
          "execution_count": 244
        }
      ]
    },
    {
      "cell_type": "code",
      "metadata": {
        "id": "bm2c6VZy3YG0",
        "colab": {
          "base_uri": "https://localhost:8080/"
        },
        "outputId": "44025443-9aaf-4cf5-80bd-dcd6736a746a"
      },
      "source": [
        "preds.argmax(dim=1).eq(labels)"
      ],
      "execution_count": 245,
      "outputs": [
        {
          "output_type": "execute_result",
          "data": {
            "text/plain": [
              "tensor([False, False, False, False, False, False, False, False, False, False])"
            ]
          },
          "metadata": {
            "tags": []
          },
          "execution_count": 245
        }
      ]
    },
    {
      "cell_type": "code",
      "metadata": {
        "id": "JlD9eilA3iqU",
        "colab": {
          "base_uri": "https://localhost:8080/"
        },
        "outputId": "223ec812-1bc2-4c38-e821-db6843bf2aaa"
      },
      "source": [
        "preds.argmax(dim=1).eq(labels).sum()"
      ],
      "execution_count": 246,
      "outputs": [
        {
          "output_type": "execute_result",
          "data": {
            "text/plain": [
              "tensor(0)"
            ]
          },
          "metadata": {
            "tags": []
          },
          "execution_count": 246
        }
      ]
    },
    {
      "cell_type": "code",
      "metadata": {
        "id": "qzKlJggq3r7U"
      },
      "source": [
        "def get_num_correct(preds, labels):\n",
        "  return preds.argmax(dim=1).eq(labels).sum().item()"
      ],
      "execution_count": 247,
      "outputs": []
    },
    {
      "cell_type": "code",
      "metadata": {
        "id": "6064BrtI3xKl",
        "colab": {
          "base_uri": "https://localhost:8080/"
        },
        "outputId": "f54c2f8c-3e41-4f49-f411-879b4f3c1ebe"
      },
      "source": [
        "get_num_correct(preds, labels)"
      ],
      "execution_count": 248,
      "outputs": [
        {
          "output_type": "execute_result",
          "data": {
            "text/plain": [
              "0"
            ]
          },
          "metadata": {
            "tags": []
          },
          "execution_count": 248
        }
      ]
    },
    {
      "cell_type": "code",
      "metadata": {
        "id": "fw9H38m8Gohy"
      },
      "source": [
        "import torch.nn as nn\r\n",
        "import torch\r\n",
        "import torchvision # provide access to datasets, models, transforms, utils, etc\r\n",
        "import torchvision.transforms as transforms\r\n",
        "import torch.optim as optim\r\n",
        "from torch.utils.data import Dataset\r\n",
        "import matplotlib.pyplot as plt\r\n",
        "import random"
      ],
      "execution_count": 49,
      "outputs": []
    },
    {
      "cell_type": "markdown",
      "metadata": {
        "id": "b0nNBDMf4Dsg"
      },
      "source": [
        "# Training\n",
        "\n",
        "During the entire training process, we do as many epochs as necessary to reach our desired level of accuracy. With this, we have the following steps:\n",
        "\n",
        "Get batch from the training set.\n",
        "Pass batch to network.\n",
        "Calculate the loss (difference between the predicted values and the true values).\n",
        "Calculate the gradient of the loss function w.r.t the network's weights.\n",
        "Update the weights using the gradients to reduce the loss.\n",
        "Repeat steps 1-5 until one epoch is completed.\n",
        "Repeat steps 1-6 for as many epochs required to reach the minimum loss."
      ]
    },
    {
      "cell_type": "code",
      "metadata": {
        "id": "GEDjCKyr3yeT",
        "colab": {
          "base_uri": "https://localhost:8080/"
        },
        "outputId": "8e64a59e-c5d9-4261-a8e0-13425d300471"
      },
      "source": [
        "import torch.optim as optim\n",
        "\n",
        "torch.set_grad_enabled(True) # remember we turned off the gradients?"
      ],
      "execution_count": 321,
      "outputs": [
        {
          "output_type": "execute_result",
          "data": {
            "text/plain": [
              "<torch.autograd.grad_mode.set_grad_enabled at 0x7fa0d32ff240>"
            ]
          },
          "metadata": {
            "tags": []
          },
          "execution_count": 321
        }
      ]
    },
    {
      "cell_type": "markdown",
      "metadata": {
        "id": "6elKfBof4j1R"
      },
      "source": [
        "### LOSS"
      ]
    },
    {
      "cell_type": "code",
      "metadata": {
        "id": "5qUZm1Co4Ynz",
        "colab": {
          "base_uri": "https://localhost:8080/"
        },
        "outputId": "a1a103e0-e761-4ed4-ee57-6846d8404100"
      },
      "source": [
        "preds = network(images)\n",
        "loss = F.cross_entropy(preds, labels)\n",
        "loss.item()"
      ],
      "execution_count": 261,
      "outputs": [
        {
          "output_type": "execute_result",
          "data": {
            "text/plain": [
              "4.127138614654541"
            ]
          },
          "metadata": {
            "tags": []
          },
          "execution_count": 261
        }
      ]
    },
    {
      "cell_type": "markdown",
      "metadata": {
        "id": "zE3G1r2n4lhy"
      },
      "source": [
        "### Calculating the gradients"
      ]
    },
    {
      "cell_type": "code",
      "metadata": {
        "id": "MMpOsCM_4gUW"
      },
      "source": [
        "for layer in network.convblock1.children():\r\n",
        "  if type(layer) == 'torch.nn.modules.conv.Conv2d':\r\n",
        "    print(layer.weight.grad) # currently there are no gradients"
      ],
      "execution_count": 262,
      "outputs": []
    },
    {
      "cell_type": "code",
      "metadata": {
        "id": "8ZSVOeIz4t30"
      },
      "source": [
        "loss.backward()"
      ],
      "execution_count": 263,
      "outputs": []
    },
    {
      "cell_type": "code",
      "metadata": {
        "colab": {
          "base_uri": "https://localhost:8080/"
        },
        "id": "iEWlY0QOpWst",
        "outputId": "a68056aa-64c7-445e-f423-5b9214560659"
      },
      "source": [
        "print(network)"
      ],
      "execution_count": 316,
      "outputs": [
        {
          "output_type": "stream",
          "text": [
            "Network(\n",
            "  (convblock1): Sequential(\n",
            "    (0): Conv2d(1, 10, kernel_size=(3, 3), stride=(1, 1), bias=False)\n",
            "    (1): ReLU()\n",
            "  )\n",
            "  (convblock2): Sequential(\n",
            "    (0): Conv2d(10, 10, kernel_size=(3, 3), stride=(1, 1), bias=False)\n",
            "    (1): ReLU()\n",
            "  )\n",
            "  (convblock3): Sequential(\n",
            "    (0): Conv2d(10, 20, kernel_size=(3, 3), stride=(1, 1), bias=False)\n",
            "    (1): ReLU()\n",
            "  )\n",
            "  (pool1): MaxPool2d(kernel_size=2, stride=2, padding=0, dilation=1, ceil_mode=False)\n",
            "  (convblock4): Sequential(\n",
            "    (0): Conv2d(20, 20, kernel_size=(3, 3), stride=(1, 1), bias=False)\n",
            "    (1): ReLU()\n",
            "  )\n",
            "  (convblock5): Sequential(\n",
            "    (0): Conv2d(20, 30, kernel_size=(3, 3), stride=(1, 1), bias=False)\n",
            "    (1): ReLU()\n",
            "  )\n",
            "  (convblock6): Sequential(\n",
            "    (0): Conv2d(30, 62, kernel_size=(3, 3), stride=(1, 1), bias=False)\n",
            "  )\n",
            "  (out): AdaptiveAvgPool2d(output_size=1)\n",
            ")\n"
          ],
          "name": "stdout"
        }
      ]
    },
    {
      "cell_type": "code",
      "metadata": {
        "id": "1Z14tYzB4vNX",
        "colab": {
          "base_uri": "https://localhost:8080/"
        },
        "outputId": "0f2c3aa8-c3b5-4cfc-83ac-8a51a6702352"
      },
      "source": [
        "for m in network.children():\r\n",
        "  for n in m.modules():\r\n",
        "    print(n[0].weight.grad)\r\n",
        "    break;\r\n",
        "  break;\r\n",
        "#network.layer[0].weight.grad.shape"
      ],
      "execution_count": 265,
      "outputs": [
        {
          "output_type": "stream",
          "text": [
            "tensor([[[[ 6.4374e-06,  7.1089e-06,  6.1597e-06],\n",
            "          [ 8.9064e-06,  7.8856e-06,  6.9103e-06],\n",
            "          [ 1.0124e-05,  6.8665e-06,  4.8908e-06]]],\n",
            "\n",
            "\n",
            "        [[[-2.4102e-06, -2.8504e-06, -2.9623e-06],\n",
            "          [-1.3149e-06, -2.9129e-06, -3.3579e-06],\n",
            "          [-1.6310e-06, -2.7679e-06, -3.2800e-06]]],\n",
            "\n",
            "\n",
            "        [[[-3.1198e-06, -6.7668e-07,  1.5599e-06],\n",
            "          [-4.3481e-06, -1.6999e-06,  1.3796e-06],\n",
            "          [-2.5350e-06,  3.2561e-08,  2.2662e-06]]],\n",
            "\n",
            "\n",
            "        [[[ 8.9105e-06,  8.9275e-06,  6.4577e-06],\n",
            "          [ 8.2760e-06,  7.7778e-06,  4.8322e-06],\n",
            "          [ 7.5903e-06,  4.9055e-06,  3.1636e-06]]],\n",
            "\n",
            "\n",
            "        [[[ 5.1342e-06,  4.4783e-06,  2.3193e-06],\n",
            "          [ 4.7307e-06,  3.0801e-06,  2.3281e-06],\n",
            "          [ 4.9011e-06,  2.9167e-06,  2.7144e-06]]],\n",
            "\n",
            "\n",
            "        [[[ 5.3794e-09, -6.9955e-08, -1.2231e-07],\n",
            "          [-1.9443e-07, -4.0735e-08, -8.3365e-08],\n",
            "          [-1.0609e-07, -1.9298e-08, -2.0079e-08]]],\n",
            "\n",
            "\n",
            "        [[[-1.6100e-05, -1.8394e-05, -1.7239e-05],\n",
            "          [-1.7410e-05, -1.9655e-05, -1.7320e-05],\n",
            "          [-2.0221e-05, -2.0803e-05, -1.7436e-05]]],\n",
            "\n",
            "\n",
            "        [[[-1.2899e-06, -8.4464e-08,  1.8960e-06],\n",
            "          [-1.0266e-06,  8.0053e-07,  1.5422e-06],\n",
            "          [ 1.1991e-08,  1.5578e-06,  2.4382e-06]]],\n",
            "\n",
            "\n",
            "        [[[-9.1823e-07, -1.4272e-06, -1.4772e-06],\n",
            "          [-1.9337e-06, -1.1229e-06, -2.1622e-06],\n",
            "          [-2.6784e-06, -2.7752e-06, -3.9198e-06]]],\n",
            "\n",
            "\n",
            "        [[[ 1.6012e-07,  2.4506e-08, -5.2926e-08],\n",
            "          [-1.3203e-07, -9.2756e-08, -8.7157e-08],\n",
            "          [-3.8579e-07, -1.7533e-07, -1.0405e-07]]]])\n"
          ],
          "name": "stdout"
        }
      ]
    },
    {
      "cell_type": "code",
      "metadata": {
        "id": "q7_0-atH4xUv",
        "colab": {
          "base_uri": "https://localhost:8080/",
          "height": 301
        },
        "outputId": "bf35d9d7-07da-45ce-ea3b-4df4428f50b3"
      },
      "source": [
        "network.conv1.weight.grad"
      ],
      "execution_count": 266,
      "outputs": [
        {
          "output_type": "error",
          "ename": "ModuleAttributeError",
          "evalue": "ignored",
          "traceback": [
            "\u001b[0;31m---------------------------------------------------------------------------\u001b[0m",
            "\u001b[0;31mModuleAttributeError\u001b[0m                      Traceback (most recent call last)",
            "\u001b[0;32m<ipython-input-266-380f0f08af3a>\u001b[0m in \u001b[0;36m<module>\u001b[0;34m()\u001b[0m\n\u001b[0;32m----> 1\u001b[0;31m \u001b[0mnetwork\u001b[0m\u001b[0;34m.\u001b[0m\u001b[0mconv1\u001b[0m\u001b[0;34m.\u001b[0m\u001b[0mweight\u001b[0m\u001b[0;34m.\u001b[0m\u001b[0mgrad\u001b[0m\u001b[0;34m\u001b[0m\u001b[0;34m\u001b[0m\u001b[0m\n\u001b[0m",
            "\u001b[0;32m/usr/local/lib/python3.6/dist-packages/torch/nn/modules/module.py\u001b[0m in \u001b[0;36m__getattr__\u001b[0;34m(self, name)\u001b[0m\n\u001b[1;32m    777\u001b[0m                 \u001b[0;32mreturn\u001b[0m \u001b[0mmodules\u001b[0m\u001b[0;34m[\u001b[0m\u001b[0mname\u001b[0m\u001b[0;34m]\u001b[0m\u001b[0;34m\u001b[0m\u001b[0;34m\u001b[0m\u001b[0m\n\u001b[1;32m    778\u001b[0m         raise ModuleAttributeError(\"'{}' object has no attribute '{}'\".format(\n\u001b[0;32m--> 779\u001b[0;31m             type(self).__name__, name))\n\u001b[0m\u001b[1;32m    780\u001b[0m \u001b[0;34m\u001b[0m\u001b[0m\n\u001b[1;32m    781\u001b[0m     \u001b[0;32mdef\u001b[0m \u001b[0m__setattr__\u001b[0m\u001b[0;34m(\u001b[0m\u001b[0mself\u001b[0m\u001b[0;34m,\u001b[0m \u001b[0mname\u001b[0m\u001b[0;34m:\u001b[0m \u001b[0mstr\u001b[0m\u001b[0;34m,\u001b[0m \u001b[0mvalue\u001b[0m\u001b[0;34m:\u001b[0m \u001b[0mUnion\u001b[0m\u001b[0;34m[\u001b[0m\u001b[0mTensor\u001b[0m\u001b[0;34m,\u001b[0m \u001b[0;34m'Module'\u001b[0m\u001b[0;34m]\u001b[0m\u001b[0;34m)\u001b[0m \u001b[0;34m->\u001b[0m \u001b[0;32mNone\u001b[0m\u001b[0;34m:\u001b[0m\u001b[0;34m\u001b[0m\u001b[0;34m\u001b[0m\u001b[0m\n",
            "\u001b[0;31mModuleAttributeError\u001b[0m: 'Network' object has no attribute 'conv1'"
          ]
        }
      ]
    },
    {
      "cell_type": "markdown",
      "metadata": {
        "id": "l0Y7e9cP438a"
      },
      "source": [
        "### Updating the weights"
      ]
    },
    {
      "cell_type": "code",
      "metadata": {
        "id": "GLPBOosI41IF",
        "colab": {
          "base_uri": "https://localhost:8080/"
        },
        "outputId": "4805cc9d-741d-4583-f02a-2897e1267d67"
      },
      "source": [
        "optimizer = optim.Adam(network.parameters(), lr=0.01)\n",
        "\n",
        "loss.item()"
      ],
      "execution_count": 249,
      "outputs": [
        {
          "output_type": "execute_result",
          "data": {
            "text/plain": [
              "4.11447286605835"
            ]
          },
          "metadata": {
            "tags": []
          },
          "execution_count": 249
        }
      ]
    },
    {
      "cell_type": "code",
      "metadata": {
        "id": "kH9FFy8z4-0R",
        "colab": {
          "base_uri": "https://localhost:8080/"
        },
        "outputId": "87984017-e8ea-4062-a418-f17c8a147664"
      },
      "source": [
        "get_num_correct(preds, labels)"
      ],
      "execution_count": 250,
      "outputs": [
        {
          "output_type": "execute_result",
          "data": {
            "text/plain": [
              "0"
            ]
          },
          "metadata": {
            "tags": []
          },
          "execution_count": 250
        }
      ]
    },
    {
      "cell_type": "code",
      "metadata": {
        "id": "WSS0nLhr5BNB"
      },
      "source": [
        "optimizer.step()"
      ],
      "execution_count": 251,
      "outputs": []
    },
    {
      "cell_type": "code",
      "metadata": {
        "id": "sQnJ-UKf5D2d"
      },
      "source": [
        "preds = network(images)\n",
        "loss = F.cross_entropy(preds, labels)"
      ],
      "execution_count": 252,
      "outputs": []
    },
    {
      "cell_type": "code",
      "metadata": {
        "id": "MR1t_H1H5JBr",
        "colab": {
          "base_uri": "https://localhost:8080/"
        },
        "outputId": "6cde652a-2e8f-45f3-a303-68eac681550c"
      },
      "source": [
        "loss.item()"
      ],
      "execution_count": 253,
      "outputs": [
        {
          "output_type": "execute_result",
          "data": {
            "text/plain": [
              "4.127135276794434"
            ]
          },
          "metadata": {
            "tags": []
          },
          "execution_count": 253
        }
      ]
    },
    {
      "cell_type": "code",
      "metadata": {
        "id": "WdqP0BFS5KYT",
        "colab": {
          "base_uri": "https://localhost:8080/"
        },
        "outputId": "e18ace34-ac93-433a-e6e3-7f2ae5cb8d16"
      },
      "source": [
        "get_num_correct(preds, labels)"
      ],
      "execution_count": 254,
      "outputs": [
        {
          "output_type": "execute_result",
          "data": {
            "text/plain": [
              "0"
            ]
          },
          "metadata": {
            "tags": []
          },
          "execution_count": 254
        }
      ]
    },
    {
      "cell_type": "code",
      "metadata": {
        "id": "YIuNe19T5MpI"
      },
      "source": [
        "optimizer.step()"
      ],
      "execution_count": 255,
      "outputs": []
    },
    {
      "cell_type": "code",
      "metadata": {
        "id": "UEzIvhuN5RBH"
      },
      "source": [
        "preds = network(images)\n",
        "loss = F.cross_entropy(preds, labels)"
      ],
      "execution_count": 256,
      "outputs": []
    },
    {
      "cell_type": "code",
      "metadata": {
        "id": "x0vBXFlO5Sg5",
        "colab": {
          "base_uri": "https://localhost:8080/"
        },
        "outputId": "026a5112-8ed9-4475-b07d-c262c385ccbd"
      },
      "source": [
        "loss.item()"
      ],
      "execution_count": 257,
      "outputs": [
        {
          "output_type": "execute_result",
          "data": {
            "text/plain": [
              "4.127135276794434"
            ]
          },
          "metadata": {
            "tags": []
          },
          "execution_count": 257
        }
      ]
    },
    {
      "cell_type": "code",
      "metadata": {
        "id": "DseOvRTm5T8b",
        "colab": {
          "base_uri": "https://localhost:8080/"
        },
        "outputId": "222f0fe1-36fc-4698-916a-da0faeceee83"
      },
      "source": [
        "get_num_correct(preds, labels)"
      ],
      "execution_count": 258,
      "outputs": [
        {
          "output_type": "execute_result",
          "data": {
            "text/plain": [
              "0"
            ]
          },
          "metadata": {
            "tags": []
          },
          "execution_count": 258
        }
      ]
    },
    {
      "cell_type": "markdown",
      "metadata": {
        "id": "nqbr_giG5hGb"
      },
      "source": [
        "### Summary"
      ]
    },
    {
      "cell_type": "code",
      "metadata": {
        "id": "-UZhK6Or5Uz1",
        "colab": {
          "base_uri": "https://localhost:8080/"
        },
        "outputId": "1c7f682f-cd97-4503-989a-cc2bf792f56e"
      },
      "source": [
        "network = Network()\n",
        "\n",
        "train_loader = torch.utils.data.DataLoader(train_set, batch_size=100)\n",
        "optimizer = optim.Adam(network.parameters(), lr=0.01)\n",
        "\n",
        "batch = next(iter(train_loader)) # Get Batch\n",
        "images, labels = batch\n",
        "\n",
        "preds = network(images) # Pass Batch\n",
        "loss = F.cross_entropy(preds, labels) # Calculate Loss\n",
        "\n",
        "loss.backward() # Calculate Gradients\n",
        "optimizer.step() # Update Weights\n",
        "\n",
        "print('loss1:', loss.item())\n",
        "preds = network(images)\n",
        "loss = F.cross_entropy(preds, labels)\n",
        "print('loss2:', loss.item())"
      ],
      "execution_count": 267,
      "outputs": [
        {
          "output_type": "stream",
          "text": [
            "loss1: 4.127134799957275\n",
            "loss2: 4.126956939697266\n"
          ],
          "name": "stdout"
        }
      ]
    },
    {
      "cell_type": "markdown",
      "metadata": {
        "id": "9ExSNSUz5jt8"
      },
      "source": [
        "# Training with all batches"
      ]
    },
    {
      "cell_type": "code",
      "metadata": {
        "id": "V7ufLKqj5iBP"
      },
      "source": [
        "network = Network()\n",
        "\n",
        "torch.set_grad_enabled(True) # remember we turned off the gradients?\n",
        "\n",
        "train_loader = torch.utils.data.DataLoader(train_set, batch_size=100)\n",
        "optimizer = optim.Adam(network.parameters(), lr=0.01)\n",
        "\n",
        "total_loss = 0\n",
        "total_correct = 0\n",
        "\n",
        "for batch in train_loader: # Get Batch\n",
        "    images, labels = batch \n",
        "\n",
        "    preds = network(images) # Pass Batch\n",
        "    print(preds.shape, labels.shape)\n",
        "    loss = F.cross_entropy(preds, labels) # Calculate Loss\n",
        "\n",
        "    optimizer.zero_grad()\n",
        "    loss.backward() # Calculate Gradients\n",
        "    optimizer.step() # Update Weights\n",
        "\n",
        "    total_loss += loss.item()\n",
        "    total_correct += get_num_correct(preds, labels)\n",
        "\n",
        "print(\n",
        "    \"epoch:\", 0, \n",
        "    \"total_correct:\", total_correct, \n",
        "    \"loss:\", total_loss\n",
        ")"
      ],
      "execution_count": null,
      "outputs": []
    },
    {
      "cell_type": "markdown",
      "metadata": {
        "id": "wN5rsNio5xCm"
      },
      "source": [
        "### Training for multple epochs"
      ]
    },
    {
      "cell_type": "code",
      "metadata": {
        "id": "TaGBFTbi5pPL",
        "colab": {
          "base_uri": "https://localhost:8080/",
          "height": 398
        },
        "outputId": "0fecc132-9a64-4018-9aab-cb89ef0083fb"
      },
      "source": [
        "train_loader = torch.utils.data.DataLoader(train_set, batch_size=100)\n",
        "optimizer = optim.Adam(network.parameters(), lr=0.01)\n",
        "\n",
        "for epoch in range(20):\n",
        "\n",
        "    total_loss = 0\n",
        "    total_correct = 0\n",
        "\n",
        "    for batch in train_loader: # Get Batch\n",
        "        images, labels = batch \n",
        "\n",
        "        preds = network(images) # Pass Batch\n",
        "        loss = F.cross_entropy(preds, labels) # Calculate Loss\n",
        "\n",
        "        optimizer.zero_grad()\n",
        "        loss.backward() # Calculate Gradients\n",
        "        optimizer.step() # Update Weights\n",
        "\n",
        "        total_loss += loss.item()\n",
        "        total_correct += get_num_correct(preds, labels)\n",
        "\n",
        "    print(\n",
        "        \"epoch\", epoch, \n",
        "        \"total_correct:\", total_correct, \n",
        "        \"loss:\", total_loss\n",
        "    )"
      ],
      "execution_count": 269,
      "outputs": [
        {
          "output_type": "error",
          "ename": "KeyboardInterrupt",
          "evalue": "ignored",
          "traceback": [
            "\u001b[0;31m---------------------------------------------------------------------------\u001b[0m",
            "\u001b[0;31mKeyboardInterrupt\u001b[0m                         Traceback (most recent call last)",
            "\u001b[0;32m<ipython-input-269-cfb2b8811275>\u001b[0m in \u001b[0;36m<module>\u001b[0;34m()\u001b[0m\n\u001b[1;32m     14\u001b[0m \u001b[0;34m\u001b[0m\u001b[0m\n\u001b[1;32m     15\u001b[0m         \u001b[0moptimizer\u001b[0m\u001b[0;34m.\u001b[0m\u001b[0mzero_grad\u001b[0m\u001b[0;34m(\u001b[0m\u001b[0;34m)\u001b[0m\u001b[0;34m\u001b[0m\u001b[0;34m\u001b[0m\u001b[0m\n\u001b[0;32m---> 16\u001b[0;31m         \u001b[0mloss\u001b[0m\u001b[0;34m.\u001b[0m\u001b[0mbackward\u001b[0m\u001b[0;34m(\u001b[0m\u001b[0;34m)\u001b[0m \u001b[0;31m# Calculate Gradients\u001b[0m\u001b[0;34m\u001b[0m\u001b[0;34m\u001b[0m\u001b[0m\n\u001b[0m\u001b[1;32m     17\u001b[0m         \u001b[0moptimizer\u001b[0m\u001b[0;34m.\u001b[0m\u001b[0mstep\u001b[0m\u001b[0;34m(\u001b[0m\u001b[0;34m)\u001b[0m \u001b[0;31m# Update Weights\u001b[0m\u001b[0;34m\u001b[0m\u001b[0;34m\u001b[0m\u001b[0m\n\u001b[1;32m     18\u001b[0m \u001b[0;34m\u001b[0m\u001b[0m\n",
            "\u001b[0;32m/usr/local/lib/python3.6/dist-packages/torch/tensor.py\u001b[0m in \u001b[0;36mbackward\u001b[0;34m(self, gradient, retain_graph, create_graph)\u001b[0m\n\u001b[1;32m    219\u001b[0m                 \u001b[0mretain_graph\u001b[0m\u001b[0;34m=\u001b[0m\u001b[0mretain_graph\u001b[0m\u001b[0;34m,\u001b[0m\u001b[0;34m\u001b[0m\u001b[0;34m\u001b[0m\u001b[0m\n\u001b[1;32m    220\u001b[0m                 create_graph=create_graph)\n\u001b[0;32m--> 221\u001b[0;31m         \u001b[0mtorch\u001b[0m\u001b[0;34m.\u001b[0m\u001b[0mautograd\u001b[0m\u001b[0;34m.\u001b[0m\u001b[0mbackward\u001b[0m\u001b[0;34m(\u001b[0m\u001b[0mself\u001b[0m\u001b[0;34m,\u001b[0m \u001b[0mgradient\u001b[0m\u001b[0;34m,\u001b[0m \u001b[0mretain_graph\u001b[0m\u001b[0;34m,\u001b[0m \u001b[0mcreate_graph\u001b[0m\u001b[0;34m)\u001b[0m\u001b[0;34m\u001b[0m\u001b[0;34m\u001b[0m\u001b[0m\n\u001b[0m\u001b[1;32m    222\u001b[0m \u001b[0;34m\u001b[0m\u001b[0m\n\u001b[1;32m    223\u001b[0m     \u001b[0;32mdef\u001b[0m \u001b[0mregister_hook\u001b[0m\u001b[0;34m(\u001b[0m\u001b[0mself\u001b[0m\u001b[0;34m,\u001b[0m \u001b[0mhook\u001b[0m\u001b[0;34m)\u001b[0m\u001b[0;34m:\u001b[0m\u001b[0;34m\u001b[0m\u001b[0;34m\u001b[0m\u001b[0m\n",
            "\u001b[0;32m/usr/local/lib/python3.6/dist-packages/torch/autograd/__init__.py\u001b[0m in \u001b[0;36mbackward\u001b[0;34m(tensors, grad_tensors, retain_graph, create_graph, grad_variables)\u001b[0m\n\u001b[1;32m    130\u001b[0m     Variable._execution_engine.run_backward(\n\u001b[1;32m    131\u001b[0m         \u001b[0mtensors\u001b[0m\u001b[0;34m,\u001b[0m \u001b[0mgrad_tensors_\u001b[0m\u001b[0;34m,\u001b[0m \u001b[0mretain_graph\u001b[0m\u001b[0;34m,\u001b[0m \u001b[0mcreate_graph\u001b[0m\u001b[0;34m,\u001b[0m\u001b[0;34m\u001b[0m\u001b[0;34m\u001b[0m\u001b[0m\n\u001b[0;32m--> 132\u001b[0;31m         allow_unreachable=True)  # allow_unreachable flag\n\u001b[0m\u001b[1;32m    133\u001b[0m \u001b[0;34m\u001b[0m\u001b[0m\n\u001b[1;32m    134\u001b[0m \u001b[0;34m\u001b[0m\u001b[0m\n",
            "\u001b[0;31mKeyboardInterrupt\u001b[0m: "
          ]
        }
      ]
    },
    {
      "cell_type": "markdown",
      "metadata": {
        "id": "XQ--cdlT510e"
      },
      "source": [
        "## Complete Training Loop"
      ]
    },
    {
      "cell_type": "code",
      "metadata": {
        "id": "Hv-SGTU55zqs"
      },
      "source": [
        "network = Network()\n",
        "optimizer = optim.Adam(network.parameters(), lr=0.01)\n",
        "train_loader = torch.utils.data.DataLoader(\n",
        "    train_set\n",
        "    ,batch_size=100\n",
        "    ,shuffle=True\n",
        ")"
      ],
      "execution_count": 322,
      "outputs": []
    },
    {
      "cell_type": "code",
      "metadata": {
        "colab": {
          "base_uri": "https://localhost:8080/"
        },
        "id": "oXk5gWNc2dqv",
        "outputId": "ddc7cc27-c173-4094-da02-e5b748ca5dc1"
      },
      "source": [
        "print(network)"
      ],
      "execution_count": 323,
      "outputs": [
        {
          "output_type": "stream",
          "text": [
            "Network(\n",
            "  (convblock1): Sequential(\n",
            "    (0): Conv2d(1, 10, kernel_size=(3, 3), stride=(1, 1), bias=False)\n",
            "    (1): ReLU()\n",
            "  )\n",
            "  (convblock2): Sequential(\n",
            "    (0): Conv2d(10, 10, kernel_size=(3, 3), stride=(1, 1), bias=False)\n",
            "    (1): ReLU()\n",
            "  )\n",
            "  (convblock3): Sequential(\n",
            "    (0): Conv2d(10, 20, kernel_size=(3, 3), stride=(1, 1), bias=False)\n",
            "    (1): ReLU()\n",
            "  )\n",
            "  (pool1): MaxPool2d(kernel_size=2, stride=2, padding=0, dilation=1, ceil_mode=False)\n",
            "  (convblock4): Sequential(\n",
            "    (0): Conv2d(20, 20, kernel_size=(3, 3), stride=(1, 1), bias=False)\n",
            "    (1): ReLU()\n",
            "  )\n",
            "  (convblock5): Sequential(\n",
            "    (0): Conv2d(20, 30, kernel_size=(3, 3), stride=(1, 1), bias=False)\n",
            "    (1): ReLU()\n",
            "  )\n",
            "  (convblock6): Sequential(\n",
            "    (0): Conv2d(30, 62, kernel_size=(3, 3), stride=(1, 1), bias=False)\n",
            "  )\n",
            "  (out): AdaptiveAvgPool2d(output_size=1)\n",
            ")\n"
          ],
          "name": "stdout"
        }
      ]
    },
    {
      "cell_type": "code",
      "metadata": {
        "colab": {
          "base_uri": "https://localhost:8080/"
        },
        "id": "4g6d5I052o8I",
        "outputId": "ecab1ca2-8e53-4b33-9608-4e7bbff303a0"
      },
      "source": [
        "from torchsummary import summary\r\n",
        "\r\n",
        "use_cuda = torch.cuda.is_available()\r\n",
        "device = torch.device(\"cuda\" if use_cuda else \"cpu\")\r\n",
        "print(device)\r\n",
        "model = Network().to(device)\r\n",
        "summary(model, input_size=(1,28,28))"
      ],
      "execution_count": 324,
      "outputs": [
        {
          "output_type": "stream",
          "text": [
            "cuda\n",
            "----------------------------------------------------------------\n",
            "        Layer (type)               Output Shape         Param #\n",
            "================================================================\n",
            "            Conv2d-1           [-1, 10, 26, 26]              90\n",
            "              ReLU-2           [-1, 10, 26, 26]               0\n",
            "            Conv2d-3           [-1, 10, 24, 24]             900\n",
            "              ReLU-4           [-1, 10, 24, 24]               0\n",
            "            Conv2d-5           [-1, 20, 22, 22]           1,800\n",
            "              ReLU-6           [-1, 20, 22, 22]               0\n",
            "         MaxPool2d-7           [-1, 20, 11, 11]               0\n",
            "            Conv2d-8             [-1, 20, 9, 9]           3,600\n",
            "              ReLU-9             [-1, 20, 9, 9]               0\n",
            "           Conv2d-10             [-1, 30, 7, 7]           5,400\n",
            "             ReLU-11             [-1, 30, 7, 7]               0\n",
            "           Conv2d-12             [-1, 62, 5, 5]          16,740\n",
            "AdaptiveAvgPool2d-13             [-1, 62, 1, 1]               0\n",
            "================================================================\n",
            "Total params: 28,530\n",
            "Trainable params: 28,530\n",
            "Non-trainable params: 0\n",
            "----------------------------------------------------------------\n",
            "Input size (MB): 0.00\n",
            "Forward/backward pass size (MB): 0.42\n",
            "Params size (MB): 0.11\n",
            "Estimated Total Size (MB): 0.53\n",
            "----------------------------------------------------------------\n"
          ],
          "name": "stdout"
        }
      ]
    },
    {
      "cell_type": "code",
      "metadata": {
        "id": "JsKMpG_o55GT",
        "colab": {
          "base_uri": "https://localhost:8080/"
        },
        "outputId": "c010ff62-9602-497f-e368-5c5f74fdcaf2"
      },
      "source": [
        "for epoch in range(20):\n",
        "\n",
        "    total_loss = 0\n",
        "    total_correct = 0\n",
        "\n",
        "    for batch in train_loader: # Get Batch\n",
        "        images, labels = batch \n",
        "\n",
        "        preds = network(images) # Pass Batch\n",
        "        loss = F.cross_entropy(preds, labels) # Calculate Loss\n",
        "\n",
        "        optimizer.zero_grad()\n",
        "        loss.backward() # Calculate Gradients\n",
        "        optimizer.step() # Update Weights\n",
        "\n",
        "        total_loss += loss.item()\n",
        "        total_correct += get_num_correct(preds, labels)\n",
        "\n",
        "    print(\n",
        "        \"epoch\", epoch, \n",
        "        \"total_correct:\", total_correct, \n",
        "        \"loss:\", total_loss\n",
        "    )"
      ],
      "execution_count": null,
      "outputs": [
        {
          "output_type": "stream",
          "text": [
            "epoch 0 total_correct: 33525 loss: 28662.933583259583\n",
            "epoch 1 total_correct: 33535 loss: 28662.86992573738\n",
            "epoch 2 total_correct: 33535 loss: 28662.848659992218\n",
            "epoch 3 total_correct: 33535 loss: 28662.869912147522\n",
            "epoch 4 total_correct: 33535 loss: 28662.8274102211\n",
            "epoch 5 total_correct: 33535 loss: 28662.78491449356\n",
            "epoch 6 total_correct: 33535 loss: 28662.82741212845\n",
            "epoch 7 total_correct: 33535 loss: 28662.806176185608\n",
            "epoch 8 total_correct: 33535 loss: 28662.86992430687\n",
            "epoch 9 total_correct: 33535 loss: 28662.827430725098\n"
          ],
          "name": "stdout"
        }
      ]
    },
    {
      "cell_type": "markdown",
      "metadata": {
        "id": "fzqKp9_koGVI"
      },
      "source": [
        "Please cover this whole [PyTorch Series](https://www.youtube.com/playlist?list=PLZbbT5o_s2xrfNyHZsM6ufI0iZENK9xgG) (also the reference for our code) for even better understanding. "
      ]
    },
    {
      "cell_type": "code",
      "metadata": {
        "id": "mntRWb2LmyCn"
      },
      "source": [
        "print(network)"
      ],
      "execution_count": null,
      "outputs": []
    },
    {
      "cell_type": "code",
      "metadata": {
        "id": "Z_fsc1suoPQF"
      },
      "source": [
        ""
      ],
      "execution_count": null,
      "outputs": []
    },
    {
      "cell_type": "code",
      "metadata": {
        "id": "4rD2SrjwGbum"
      },
      "source": [
        ""
      ],
      "execution_count": null,
      "outputs": []
    }
  ]
}